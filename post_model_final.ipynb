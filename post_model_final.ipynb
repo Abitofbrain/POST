{
 "cells": [
  {
   "cell_type": "markdown",
   "metadata": {
    "toc": true
   },
   "source": [
    "<h1>Table of Contents<span class=\"tocSkip\"></span></h1>\n",
    "<div class=\"toc\"><ul class=\"toc-item\"><li><span><a href=\"#Библиотеки,-служебные-функции,-загрузка-данных\" data-toc-modified-id=\"Библиотеки,-служебные-функции,-загрузка-данных-1\"><span class=\"toc-item-num\">1&nbsp;&nbsp;</span>Библиотеки, служебные функции, загрузка данных</a></span></li><li><span><a href=\"#FE\" data-toc-modified-id=\"FE-2\"><span class=\"toc-item-num\">2&nbsp;&nbsp;</span>FE</a></span><ul class=\"toc-item\"><li><span><a href=\"#Создание-новых-призанков\" data-toc-modified-id=\"Создание-новых-призанков-2.1\"><span class=\"toc-item-num\">2.1&nbsp;&nbsp;</span>Создание новых призанков</a></span></li><li><span><a href=\"#Вычисление-утечек\" data-toc-modified-id=\"Вычисление-утечек-2.2\"><span class=\"toc-item-num\">2.2&nbsp;&nbsp;</span>Вычисление утечек</a></span></li><li><span><a href=\"#Проба-на-лидерборде-без-утечек\" data-toc-modified-id=\"Проба-на-лидерборде-без-утечек-2.3\"><span class=\"toc-item-num\">2.3&nbsp;&nbsp;</span>Проба на лидерборде без утечек</a></span></li><li><span><a href=\"#Отбор-важных-признаков\" data-toc-modified-id=\"Отбор-важных-признаков-2.4\"><span class=\"toc-item-num\">2.4&nbsp;&nbsp;</span>Отбор важных признаков</a></span></li><li><span><a href=\"#CatBoost\" data-toc-modified-id=\"CatBoost-2.5\"><span class=\"toc-item-num\">2.5&nbsp;&nbsp;</span>CatBoost</a></span></li></ul></li></ul></div>"
   ]
  },
  {
   "cell_type": "markdown",
   "metadata": {},
   "source": [
    "## Библиотеки, служебные функции, загрузка данных"
   ]
  },
  {
   "cell_type": "code",
   "execution_count": null,
   "metadata": {
    "colab": {
     "base_uri": "https://localhost:8080/"
    },
    "executionInfo": {
     "elapsed": 29354,
     "status": "ok",
     "timestamp": 1668531712394,
     "user": {
      "displayName": "Andrew Lazko",
      "userId": "04969080350981822544"
     },
     "user_tz": -180
    },
    "id": "QGfZihokQZsI",
    "outputId": "3ed1339a-63db-44bb-c8f2-48fcc32fcba3"
   },
   "outputs": [
    {
     "name": "stdout",
     "output_type": "stream",
     "text": [
      "Mounted at /content/drive\n"
     ]
    }
   ],
   "source": [
    "from google.colab import drive\n",
    "drive.mount('/content/drive')"
   ]
  },
  {
   "cell_type": "code",
   "execution_count": null,
   "metadata": {
    "colab": {
     "base_uri": "https://localhost:8080/"
    },
    "executionInfo": {
     "elapsed": 20809,
     "status": "ok",
     "timestamp": 1668531738040,
     "user": {
      "displayName": "Andrew Lazko",
      "userId": "04969080350981822544"
     },
     "user_tz": -180
    },
    "id": "IHXaeM4bR61U",
    "outputId": "542fca3b-8ea7-40c1-c58c-f7bb99d6c14a"
   },
   "outputs": [
    {
     "name": "stdout",
     "output_type": "stream",
     "text": [
      "Looking in indexes: https://pypi.org/simple, https://us-python.pkg.dev/colab-wheels/public/simple/\n",
      "Collecting catboost\n",
      "  Downloading catboost-1.1.1-cp37-none-manylinux1_x86_64.whl (76.6 MB)\n",
      "\u001b[K     |████████████████████████████████| 76.6 MB 1.2 MB/s \n",
      "\u001b[?25hRequirement already satisfied: plotly in /usr/local/lib/python3.7/dist-packages (from catboost) (5.5.0)\n",
      "Requirement already satisfied: pandas>=0.24.0 in /usr/local/lib/python3.7/dist-packages (from catboost) (1.3.5)\n",
      "Requirement already satisfied: matplotlib in /usr/local/lib/python3.7/dist-packages (from catboost) (3.2.2)\n",
      "Requirement already satisfied: graphviz in /usr/local/lib/python3.7/dist-packages (from catboost) (0.10.1)\n",
      "Requirement already satisfied: scipy in /usr/local/lib/python3.7/dist-packages (from catboost) (1.7.3)\n",
      "Requirement already satisfied: numpy>=1.16.0 in /usr/local/lib/python3.7/dist-packages (from catboost) (1.21.6)\n",
      "Requirement already satisfied: six in /usr/local/lib/python3.7/dist-packages (from catboost) (1.15.0)\n",
      "Requirement already satisfied: python-dateutil>=2.7.3 in /usr/local/lib/python3.7/dist-packages (from pandas>=0.24.0->catboost) (2.8.2)\n",
      "Requirement already satisfied: pytz>=2017.3 in /usr/local/lib/python3.7/dist-packages (from pandas>=0.24.0->catboost) (2022.6)\n",
      "Requirement already satisfied: kiwisolver>=1.0.1 in /usr/local/lib/python3.7/dist-packages (from matplotlib->catboost) (1.4.4)\n",
      "Requirement already satisfied: pyparsing!=2.0.4,!=2.1.2,!=2.1.6,>=2.0.1 in /usr/local/lib/python3.7/dist-packages (from matplotlib->catboost) (3.0.9)\n",
      "Requirement already satisfied: cycler>=0.10 in /usr/local/lib/python3.7/dist-packages (from matplotlib->catboost) (0.11.0)\n",
      "Requirement already satisfied: typing-extensions in /usr/local/lib/python3.7/dist-packages (from kiwisolver>=1.0.1->matplotlib->catboost) (4.1.1)\n",
      "Requirement already satisfied: tenacity>=6.2.0 in /usr/local/lib/python3.7/dist-packages (from plotly->catboost) (8.1.0)\n",
      "Installing collected packages: catboost\n",
      "Successfully installed catboost-1.1.1\n",
      "Looking in indexes: https://pypi.org/simple, https://us-python.pkg.dev/colab-wheels/public/simple/\n",
      "Collecting optuna\n",
      "  Downloading optuna-3.0.3-py3-none-any.whl (348 kB)\n",
      "\u001b[K     |████████████████████████████████| 348 kB 15.5 MB/s \n",
      "\u001b[?25hCollecting cmaes>=0.8.2\n",
      "  Downloading cmaes-0.9.0-py3-none-any.whl (23 kB)\n",
      "Requirement already satisfied: scipy<1.9.0,>=1.7.0 in /usr/local/lib/python3.7/dist-packages (from optuna) (1.7.3)\n",
      "Requirement already satisfied: tqdm in /usr/local/lib/python3.7/dist-packages (from optuna) (4.64.1)\n",
      "Requirement already satisfied: PyYAML in /usr/local/lib/python3.7/dist-packages (from optuna) (6.0)\n",
      "Collecting cliff\n",
      "  Downloading cliff-3.10.1-py3-none-any.whl (81 kB)\n",
      "\u001b[K     |████████████████████████████████| 81 kB 10.8 MB/s \n",
      "\u001b[?25hRequirement already satisfied: sqlalchemy>=1.3.0 in /usr/local/lib/python3.7/dist-packages (from optuna) (1.4.43)\n",
      "Requirement already satisfied: packaging>=20.0 in /usr/local/lib/python3.7/dist-packages (from optuna) (21.3)\n",
      "Collecting alembic>=1.5.0\n",
      "  Downloading alembic-1.8.1-py3-none-any.whl (209 kB)\n",
      "\u001b[K     |████████████████████████████████| 209 kB 66.9 MB/s \n",
      "\u001b[?25hRequirement already satisfied: numpy in /usr/local/lib/python3.7/dist-packages (from optuna) (1.21.6)\n",
      "Requirement already satisfied: importlib-metadata<5.0.0 in /usr/local/lib/python3.7/dist-packages (from optuna) (4.13.0)\n",
      "Collecting colorlog\n",
      "  Downloading colorlog-6.7.0-py2.py3-none-any.whl (11 kB)\n",
      "Requirement already satisfied: importlib-resources in /usr/local/lib/python3.7/dist-packages (from alembic>=1.5.0->optuna) (5.10.0)\n",
      "Collecting Mako\n",
      "  Downloading Mako-1.2.4-py3-none-any.whl (78 kB)\n",
      "\u001b[K     |████████████████████████████████| 78 kB 7.4 MB/s \n",
      "\u001b[?25hRequirement already satisfied: typing-extensions>=3.6.4 in /usr/local/lib/python3.7/dist-packages (from importlib-metadata<5.0.0->optuna) (4.1.1)\n",
      "Requirement already satisfied: zipp>=0.5 in /usr/local/lib/python3.7/dist-packages (from importlib-metadata<5.0.0->optuna) (3.10.0)\n",
      "Requirement already satisfied: pyparsing!=3.0.5,>=2.0.2 in /usr/local/lib/python3.7/dist-packages (from packaging>=20.0->optuna) (3.0.9)\n",
      "Requirement already satisfied: greenlet!=0.4.17 in /usr/local/lib/python3.7/dist-packages (from sqlalchemy>=1.3.0->optuna) (2.0.1)\n",
      "Collecting stevedore>=2.0.1\n",
      "  Downloading stevedore-3.5.2-py3-none-any.whl (50 kB)\n",
      "\u001b[K     |████████████████████████████████| 50 kB 7.1 MB/s \n",
      "\u001b[?25hCollecting cmd2>=1.0.0\n",
      "  Downloading cmd2-2.4.2-py3-none-any.whl (147 kB)\n",
      "\u001b[K     |████████████████████████████████| 147 kB 73.2 MB/s \n",
      "\u001b[?25hCollecting autopage>=0.4.0\n",
      "  Downloading autopage-0.5.1-py3-none-any.whl (29 kB)\n",
      "Requirement already satisfied: PrettyTable>=0.7.2 in /usr/local/lib/python3.7/dist-packages (from cliff->optuna) (3.5.0)\n",
      "Collecting pbr!=2.1.0,>=2.0.0\n",
      "  Downloading pbr-5.11.0-py2.py3-none-any.whl (112 kB)\n",
      "\u001b[K     |████████████████████████████████| 112 kB 67.3 MB/s \n",
      "\u001b[?25hRequirement already satisfied: attrs>=16.3.0 in /usr/local/lib/python3.7/dist-packages (from cmd2>=1.0.0->cliff->optuna) (22.1.0)\n",
      "Collecting pyperclip>=1.6\n",
      "  Downloading pyperclip-1.8.2.tar.gz (20 kB)\n",
      "Requirement already satisfied: wcwidth>=0.1.7 in /usr/local/lib/python3.7/dist-packages (from cmd2>=1.0.0->cliff->optuna) (0.2.5)\n",
      "Requirement already satisfied: MarkupSafe>=0.9.2 in /usr/local/lib/python3.7/dist-packages (from Mako->alembic>=1.5.0->optuna) (2.0.1)\n",
      "Building wheels for collected packages: pyperclip\n",
      "  Building wheel for pyperclip (setup.py) ... \u001b[?25l\u001b[?25hdone\n",
      "  Created wheel for pyperclip: filename=pyperclip-1.8.2-py3-none-any.whl size=11137 sha256=2a61f8b5cee3620e1890bc9aea66edb97146188b89cf254edddaec4c124c9858\n",
      "  Stored in directory: /root/.cache/pip/wheels/9f/18/84/8f69f8b08169c7bae2dde6bd7daf0c19fca8c8e500ee620a28\n",
      "Successfully built pyperclip\n",
      "Installing collected packages: pyperclip, pbr, stevedore, Mako, cmd2, autopage, colorlog, cmaes, cliff, alembic, optuna\n",
      "Successfully installed Mako-1.2.4 alembic-1.8.1 autopage-0.5.1 cliff-3.10.1 cmaes-0.9.0 cmd2-2.4.2 colorlog-6.7.0 optuna-3.0.3 pbr-5.11.0 pyperclip-1.8.2 stevedore-3.5.2\n"
     ]
    }
   ],
   "source": [
    "! pip install catboost\n",
    "! pip install optuna"
   ]
  },
  {
   "cell_type": "code",
   "execution_count": null,
   "metadata": {
    "id": "BnE-UTq_RVb-"
   },
   "outputs": [],
   "source": [
    "import gc\n",
    "import matplotlib.pyplot as plt\n",
    "import numpy as np\n",
    "import optuna\n",
    "import os\n",
    "import pandas as pd\n",
    "import re\n",
    "import seaborn as sns\n",
    "import warnings\n",
    "\n",
    "from catboost import CatBoostClassifier, Pool\n",
    "#from sklearn.decomposition import PCA\n",
    "from sklearn.feature_selection import RFECV\n",
    "from sklearn.linear_model import LogisticRegression\n",
    "from sklearn.metrics import make_scorer, recall_score, roc_auc_score\n",
    "from sklearn.metrics import roc_curve, precision_recall_curve\n",
    "from sklearn.metrics import accuracy_score, precision_score, f1_score\n",
    "from sklearn.metrics import confusion_matrix, plot_confusion_matrix\n",
    "from sklearn.model_selection import GridSearchCV, train_test_split, StratifiedKFold, cross_val_score\n",
    "from sklearn.model_selection import  KFold, RepeatedStratifiedKFold\n",
    "from sklearn.pipeline import Pipeline\n",
    "from sklearn.utils.class_weight import compute_class_weight\n",
    "from sklearn.preprocessing import OrdinalEncoder\n",
    "\n",
    "\n",
    "warnings.simplefilter(action='ignore')"
   ]
  },
  {
   "cell_type": "code",
   "execution_count": null,
   "metadata": {
    "id": "mLydxP30UACn"
   },
   "outputs": [],
   "source": [
    "types_full = {\n",
    " 'index_oper': 'category',\n",
    " 'oper_type': 'category',\n",
    " 'oper_attr': 'category',\n",
    " 'type': 'category',\n",
    " 'priority': 'category',\n",
    " 'is_privatecategory': 'category',\n",
    " 'class': 'category',\n",
    " 'is_in_yandex': 'category',\n",
    " 'is_return': 'category',\n",
    " 'weight': 'int32',\n",
    " 'mailtype': 'category',\n",
    " 'mailctg': 'category',\n",
    " 'directctg': 'category',\n",
    " 'transport_pay': 'float64',\n",
    " 'postmark': 'category',\n",
    " 'name_mfi': 'object',\n",
    " 'weight_mfi': 'int16',\n",
    " 'price_mfi': 'int32',\n",
    " 'dist_qty_oper_login_1': 'int16',\n",
    " 'total_qty_oper_login_1': 'int32',\n",
    " 'total_qty_oper_login_0': 'int32',\n",
    " 'total_qty_over_index_and_type': 'int32',\n",
    " 'total_qty_over_index': 'int32',\n",
    " 'is_wrong_sndr_name': 'category',\n",
    " 'is_wrong_rcpn_name': 'category',\n",
    " 'is_wrong_phone_number': 'category',\n",
    " 'is_wrong_address': 'category',\n",
    " 'label': 'int8',\n",
    " 'oper_type': 'category',\n",
    " 'oper_attr': 'category'}"
   ]
  },
  {
   "cell_type": "code",
   "execution_count": null,
   "metadata": {
    "id": "XtQxebJUptim"
   },
   "outputs": [],
   "source": [
    "#show all columns and rows in pamdas:\n",
    "\n",
    "pd.set_option('display.max_columns', None)\n",
    "pd.set_option('display.max_rows', None)"
   ]
  },
  {
   "cell_type": "code",
   "execution_count": null,
   "metadata": {
    "id": "Pla5bW7WUJAG"
   },
   "outputs": [],
   "source": [
    "# Считаем наши данные\n",
    "pth1 = '/content/drive/MyDrive/quests/post/X_full_india_last.csv' # серверный путь\n",
    "pth2 = 'X_full_india_last.csv' # Локальный путь\n",
    "\n",
    "if os.path.exists(pth1):\n",
    "    X_full = pd.read_csv(pth1, dtype=types_full, index_col='id')\n",
    "elif os.path.exists(pth2):\n",
    "    X_full = pd.read_csv(pth2, dtype=types_full, index_col='id')\n",
    "else:\n",
    "    print('Something is wrong')  "
   ]
  },
  {
   "cell_type": "code",
   "execution_count": null,
   "metadata": {
    "colab": {
     "base_uri": "https://localhost:8080/"
    },
    "executionInfo": {
     "elapsed": 23,
     "status": "ok",
     "timestamp": 1668531778434,
     "user": {
      "displayName": "Andrew Lazko",
      "userId": "04969080350981822544"
     },
     "user_tz": -180
    },
    "id": "gc5ctepOUatG",
    "outputId": "8e2454d2-c1f8-4358-fe71-5babb80f6e29"
   },
   "outputs": [
    {
     "name": "stdout",
     "output_type": "stream",
     "text": [
      "<class 'pandas.core.frame.DataFrame'>\n",
      "Int64Index: 5243313 entries, 6818780 to 6423388\n",
      "Data columns (total 28 columns):\n",
      " #   Column                         Dtype   \n",
      "---  ------                         -----   \n",
      " 0   index_oper                     category\n",
      " 1   type                           category\n",
      " 2   priority                       category\n",
      " 3   is_privatecategory             category\n",
      " 4   class                          category\n",
      " 5   is_in_yandex                   category\n",
      " 6   is_return                      category\n",
      " 7   weight                         int32   \n",
      " 8   mailtype                       category\n",
      " 9   mailctg                        category\n",
      " 10  directctg                      category\n",
      " 11  transport_pay                  float64 \n",
      " 12  postmark                       category\n",
      " 13  name_mfi                       object  \n",
      " 14  weight_mfi                     int16   \n",
      " 15  price_mfi                      int32   \n",
      " 16  dist_qty_oper_login_1          int16   \n",
      " 17  total_qty_oper_login_1         int32   \n",
      " 18  total_qty_oper_login_0         int32   \n",
      " 19  total_qty_over_index_and_type  int32   \n",
      " 20  total_qty_over_index           int32   \n",
      " 21  is_wrong_sndr_name             category\n",
      " 22  is_wrong_rcpn_name             category\n",
      " 23  is_wrong_phone_number          category\n",
      " 24  is_wrong_address               category\n",
      " 25  label                          int8    \n",
      " 26  oper_type                      category\n",
      " 27  oper_attr                      category\n",
      "dtypes: category(17), float64(1), int16(2), int32(6), int8(1), object(1)\n",
      "memory usage: 355.7+ MB\n"
     ]
    }
   ],
   "source": [
    "X_full.info()"
   ]
  },
  {
   "cell_type": "code",
   "execution_count": null,
   "metadata": {
    "colab": {
     "base_uri": "https://localhost:8080/",
     "height": 371
    },
    "executionInfo": {
     "elapsed": 21,
     "status": "ok",
     "timestamp": 1668531778435,
     "user": {
      "displayName": "Andrew Lazko",
      "userId": "04969080350981822544"
     },
     "user_tz": -180
    },
    "id": "M7FTNjfHUeiD",
    "outputId": "4578962f-1414-49f4-e690-76571f41c1d0"
   },
   "outputs": [
    {
     "data": {
      "text/html": [
       "\n",
       "  <div id=\"df-903664fc-1517-4204-90b0-1596691ac137\">\n",
       "    <div class=\"colab-df-container\">\n",
       "      <div>\n",
       "<style scoped>\n",
       "    .dataframe tbody tr th:only-of-type {\n",
       "        vertical-align: middle;\n",
       "    }\n",
       "\n",
       "    .dataframe tbody tr th {\n",
       "        vertical-align: top;\n",
       "    }\n",
       "\n",
       "    .dataframe thead th {\n",
       "        text-align: right;\n",
       "    }\n",
       "</style>\n",
       "<table border=\"1\" class=\"dataframe\">\n",
       "  <thead>\n",
       "    <tr style=\"text-align: right;\">\n",
       "      <th></th>\n",
       "      <th>index_oper</th>\n",
       "      <th>type</th>\n",
       "      <th>priority</th>\n",
       "      <th>is_privatecategory</th>\n",
       "      <th>class</th>\n",
       "      <th>is_in_yandex</th>\n",
       "      <th>is_return</th>\n",
       "      <th>weight</th>\n",
       "      <th>mailtype</th>\n",
       "      <th>mailctg</th>\n",
       "      <th>directctg</th>\n",
       "      <th>transport_pay</th>\n",
       "      <th>postmark</th>\n",
       "      <th>name_mfi</th>\n",
       "      <th>weight_mfi</th>\n",
       "      <th>price_mfi</th>\n",
       "      <th>dist_qty_oper_login_1</th>\n",
       "      <th>total_qty_oper_login_1</th>\n",
       "      <th>total_qty_oper_login_0</th>\n",
       "      <th>total_qty_over_index_and_type</th>\n",
       "      <th>total_qty_over_index</th>\n",
       "      <th>is_wrong_sndr_name</th>\n",
       "      <th>is_wrong_rcpn_name</th>\n",
       "      <th>is_wrong_phone_number</th>\n",
       "      <th>is_wrong_address</th>\n",
       "      <th>label</th>\n",
       "      <th>oper_type</th>\n",
       "      <th>oper_attr</th>\n",
       "    </tr>\n",
       "    <tr>\n",
       "      <th>id</th>\n",
       "      <th></th>\n",
       "      <th></th>\n",
       "      <th></th>\n",
       "      <th></th>\n",
       "      <th></th>\n",
       "      <th></th>\n",
       "      <th></th>\n",
       "      <th></th>\n",
       "      <th></th>\n",
       "      <th></th>\n",
       "      <th></th>\n",
       "      <th></th>\n",
       "      <th></th>\n",
       "      <th></th>\n",
       "      <th></th>\n",
       "      <th></th>\n",
       "      <th></th>\n",
       "      <th></th>\n",
       "      <th></th>\n",
       "      <th></th>\n",
       "      <th></th>\n",
       "      <th></th>\n",
       "      <th></th>\n",
       "      <th></th>\n",
       "      <th></th>\n",
       "      <th></th>\n",
       "      <th></th>\n",
       "      <th></th>\n",
       "    </tr>\n",
       "  </thead>\n",
       "  <tbody>\n",
       "    <tr>\n",
       "      <th>6818780</th>\n",
       "      <td>628629</td>\n",
       "      <td>Участок</td>\n",
       "      <td>7503</td>\n",
       "      <td>0</td>\n",
       "      <td>0</td>\n",
       "      <td>1</td>\n",
       "      <td>0</td>\n",
       "      <td>87</td>\n",
       "      <td>5</td>\n",
       "      <td>1</td>\n",
       "      <td>2</td>\n",
       "      <td>0.00</td>\n",
       "      <td>0</td>\n",
       "      <td>fishhook</td>\n",
       "      <td>41</td>\n",
       "      <td>150</td>\n",
       "      <td>42</td>\n",
       "      <td>720176</td>\n",
       "      <td>58950</td>\n",
       "      <td>779126</td>\n",
       "      <td>8290896</td>\n",
       "      <td>0</td>\n",
       "      <td>0</td>\n",
       "      <td>0</td>\n",
       "      <td>0</td>\n",
       "      <td>0</td>\n",
       "      <td>1043</td>\n",
       "      <td>-1</td>\n",
       "    </tr>\n",
       "    <tr>\n",
       "      <th>9907176</th>\n",
       "      <td>102976</td>\n",
       "      <td>ММПО</td>\n",
       "      <td>7503</td>\n",
       "      <td>0</td>\n",
       "      <td>0</td>\n",
       "      <td>0</td>\n",
       "      <td>0</td>\n",
       "      <td>107</td>\n",
       "      <td>5</td>\n",
       "      <td>1</td>\n",
       "      <td>2</td>\n",
       "      <td>0.00</td>\n",
       "      <td>0</td>\n",
       "      <td>screen protector</td>\n",
       "      <td>68</td>\n",
       "      <td>400</td>\n",
       "      <td>914</td>\n",
       "      <td>48856658</td>\n",
       "      <td>83318932</td>\n",
       "      <td>132175590</td>\n",
       "      <td>136819803</td>\n",
       "      <td>0</td>\n",
       "      <td>0</td>\n",
       "      <td>0</td>\n",
       "      <td>0</td>\n",
       "      <td>0</td>\n",
       "      <td>1023</td>\n",
       "      <td>-1</td>\n",
       "    </tr>\n",
       "    <tr>\n",
       "      <th>3304275</th>\n",
       "      <td>620962</td>\n",
       "      <td>Цех</td>\n",
       "      <td>7503</td>\n",
       "      <td>0</td>\n",
       "      <td>0</td>\n",
       "      <td>1</td>\n",
       "      <td>0</td>\n",
       "      <td>50</td>\n",
       "      <td>5</td>\n",
       "      <td>1</td>\n",
       "      <td>2</td>\n",
       "      <td>0.00</td>\n",
       "      <td>0</td>\n",
       "      <td>pendant necklaces</td>\n",
       "      <td>56</td>\n",
       "      <td>218</td>\n",
       "      <td>62</td>\n",
       "      <td>3246292</td>\n",
       "      <td>3233068</td>\n",
       "      <td>6479360</td>\n",
       "      <td>52708071</td>\n",
       "      <td>0</td>\n",
       "      <td>1</td>\n",
       "      <td>0</td>\n",
       "      <td>0</td>\n",
       "      <td>0</td>\n",
       "      <td>1018</td>\n",
       "      <td>-1</td>\n",
       "    </tr>\n",
       "    <tr>\n",
       "      <th>9020937</th>\n",
       "      <td>344964</td>\n",
       "      <td>Цех</td>\n",
       "      <td>7503</td>\n",
       "      <td>0</td>\n",
       "      <td>0</td>\n",
       "      <td>1</td>\n",
       "      <td>0</td>\n",
       "      <td>416</td>\n",
       "      <td>5</td>\n",
       "      <td>1</td>\n",
       "      <td>2</td>\n",
       "      <td>35.34</td>\n",
       "      <td>0</td>\n",
       "      <td>motorcycle signal lamp</td>\n",
       "      <td>33</td>\n",
       "      <td>100</td>\n",
       "      <td>55</td>\n",
       "      <td>2060928</td>\n",
       "      <td>653280</td>\n",
       "      <td>2714208</td>\n",
       "      <td>19562334</td>\n",
       "      <td>0</td>\n",
       "      <td>0</td>\n",
       "      <td>0</td>\n",
       "      <td>0</td>\n",
       "      <td>0</td>\n",
       "      <td>1019</td>\n",
       "      <td>-1</td>\n",
       "    </tr>\n",
       "    <tr>\n",
       "      <th>3082311</th>\n",
       "      <td>629819</td>\n",
       "      <td>Участок</td>\n",
       "      <td>7503</td>\n",
       "      <td>0</td>\n",
       "      <td>0</td>\n",
       "      <td>1</td>\n",
       "      <td>0</td>\n",
       "      <td>795</td>\n",
       "      <td>5</td>\n",
       "      <td>1</td>\n",
       "      <td>2</td>\n",
       "      <td>52.52</td>\n",
       "      <td>0</td>\n",
       "      <td>backpack</td>\n",
       "      <td>716</td>\n",
       "      <td>1000</td>\n",
       "      <td>16</td>\n",
       "      <td>316919</td>\n",
       "      <td>27911</td>\n",
       "      <td>344830</td>\n",
       "      <td>4719186</td>\n",
       "      <td>0</td>\n",
       "      <td>0</td>\n",
       "      <td>0</td>\n",
       "      <td>0</td>\n",
       "      <td>0</td>\n",
       "      <td>1020</td>\n",
       "      <td>-1</td>\n",
       "    </tr>\n",
       "  </tbody>\n",
       "</table>\n",
       "</div>\n",
       "      <button class=\"colab-df-convert\" onclick=\"convertToInteractive('df-903664fc-1517-4204-90b0-1596691ac137')\"\n",
       "              title=\"Convert this dataframe to an interactive table.\"\n",
       "              style=\"display:none;\">\n",
       "        \n",
       "  <svg xmlns=\"http://www.w3.org/2000/svg\" height=\"24px\"viewBox=\"0 0 24 24\"\n",
       "       width=\"24px\">\n",
       "    <path d=\"M0 0h24v24H0V0z\" fill=\"none\"/>\n",
       "    <path d=\"M18.56 5.44l.94 2.06.94-2.06 2.06-.94-2.06-.94-.94-2.06-.94 2.06-2.06.94zm-11 1L8.5 8.5l.94-2.06 2.06-.94-2.06-.94L8.5 2.5l-.94 2.06-2.06.94zm10 10l.94 2.06.94-2.06 2.06-.94-2.06-.94-.94-2.06-.94 2.06-2.06.94z\"/><path d=\"M17.41 7.96l-1.37-1.37c-.4-.4-.92-.59-1.43-.59-.52 0-1.04.2-1.43.59L10.3 9.45l-7.72 7.72c-.78.78-.78 2.05 0 2.83L4 21.41c.39.39.9.59 1.41.59.51 0 1.02-.2 1.41-.59l7.78-7.78 2.81-2.81c.8-.78.8-2.07 0-2.86zM5.41 20L4 18.59l7.72-7.72 1.47 1.35L5.41 20z\"/>\n",
       "  </svg>\n",
       "      </button>\n",
       "      \n",
       "  <style>\n",
       "    .colab-df-container {\n",
       "      display:flex;\n",
       "      flex-wrap:wrap;\n",
       "      gap: 12px;\n",
       "    }\n",
       "\n",
       "    .colab-df-convert {\n",
       "      background-color: #E8F0FE;\n",
       "      border: none;\n",
       "      border-radius: 50%;\n",
       "      cursor: pointer;\n",
       "      display: none;\n",
       "      fill: #1967D2;\n",
       "      height: 32px;\n",
       "      padding: 0 0 0 0;\n",
       "      width: 32px;\n",
       "    }\n",
       "\n",
       "    .colab-df-convert:hover {\n",
       "      background-color: #E2EBFA;\n",
       "      box-shadow: 0px 1px 2px rgba(60, 64, 67, 0.3), 0px 1px 3px 1px rgba(60, 64, 67, 0.15);\n",
       "      fill: #174EA6;\n",
       "    }\n",
       "\n",
       "    [theme=dark] .colab-df-convert {\n",
       "      background-color: #3B4455;\n",
       "      fill: #D2E3FC;\n",
       "    }\n",
       "\n",
       "    [theme=dark] .colab-df-convert:hover {\n",
       "      background-color: #434B5C;\n",
       "      box-shadow: 0px 1px 3px 1px rgba(0, 0, 0, 0.15);\n",
       "      filter: drop-shadow(0px 1px 2px rgba(0, 0, 0, 0.3));\n",
       "      fill: #FFFFFF;\n",
       "    }\n",
       "  </style>\n",
       "\n",
       "      <script>\n",
       "        const buttonEl =\n",
       "          document.querySelector('#df-903664fc-1517-4204-90b0-1596691ac137 button.colab-df-convert');\n",
       "        buttonEl.style.display =\n",
       "          google.colab.kernel.accessAllowed ? 'block' : 'none';\n",
       "\n",
       "        async function convertToInteractive(key) {\n",
       "          const element = document.querySelector('#df-903664fc-1517-4204-90b0-1596691ac137');\n",
       "          const dataTable =\n",
       "            await google.colab.kernel.invokeFunction('convertToInteractive',\n",
       "                                                     [key], {});\n",
       "          if (!dataTable) return;\n",
       "\n",
       "          const docLinkHtml = 'Like what you see? Visit the ' +\n",
       "            '<a target=\"_blank\" href=https://colab.research.google.com/notebooks/data_table.ipynb>data table notebook</a>'\n",
       "            + ' to learn more about interactive tables.';\n",
       "          element.innerHTML = '';\n",
       "          dataTable['output_type'] = 'display_data';\n",
       "          await google.colab.output.renderOutput(dataTable, element);\n",
       "          const docLink = document.createElement('div');\n",
       "          docLink.innerHTML = docLinkHtml;\n",
       "          element.appendChild(docLink);\n",
       "        }\n",
       "      </script>\n",
       "    </div>\n",
       "  </div>\n",
       "  "
      ],
      "text/plain": [
       "        index_oper     type priority is_privatecategory class is_in_yandex  \\\n",
       "id                                                                           \n",
       "6818780     628629  Участок     7503                  0     0            1   \n",
       "9907176     102976     ММПО     7503                  0     0            0   \n",
       "3304275     620962      Цех     7503                  0     0            1   \n",
       "9020937     344964      Цех     7503                  0     0            1   \n",
       "3082311     629819  Участок     7503                  0     0            1   \n",
       "\n",
       "        is_return  weight mailtype mailctg directctg  transport_pay postmark  \\\n",
       "id                                                                             \n",
       "6818780         0      87        5       1         2           0.00        0   \n",
       "9907176         0     107        5       1         2           0.00        0   \n",
       "3304275         0      50        5       1         2           0.00        0   \n",
       "9020937         0     416        5       1         2          35.34        0   \n",
       "3082311         0     795        5       1         2          52.52        0   \n",
       "\n",
       "                       name_mfi  weight_mfi  price_mfi  dist_qty_oper_login_1  \\\n",
       "id                                                                              \n",
       "6818780                fishhook          41        150                     42   \n",
       "9907176        screen protector          68        400                    914   \n",
       "3304275       pendant necklaces          56        218                     62   \n",
       "9020937  motorcycle signal lamp          33        100                     55   \n",
       "3082311                backpack         716       1000                     16   \n",
       "\n",
       "         total_qty_oper_login_1  total_qty_oper_login_0  \\\n",
       "id                                                        \n",
       "6818780                  720176                   58950   \n",
       "9907176                48856658                83318932   \n",
       "3304275                 3246292                 3233068   \n",
       "9020937                 2060928                  653280   \n",
       "3082311                  316919                   27911   \n",
       "\n",
       "         total_qty_over_index_and_type  total_qty_over_index  \\\n",
       "id                                                             \n",
       "6818780                         779126               8290896   \n",
       "9907176                      132175590             136819803   \n",
       "3304275                        6479360              52708071   \n",
       "9020937                        2714208              19562334   \n",
       "3082311                         344830               4719186   \n",
       "\n",
       "        is_wrong_sndr_name is_wrong_rcpn_name is_wrong_phone_number  \\\n",
       "id                                                                    \n",
       "6818780                  0                  0                     0   \n",
       "9907176                  0                  0                     0   \n",
       "3304275                  0                  1                     0   \n",
       "9020937                  0                  0                     0   \n",
       "3082311                  0                  0                     0   \n",
       "\n",
       "        is_wrong_address  label oper_type oper_attr  \n",
       "id                                                   \n",
       "6818780                0      0      1043        -1  \n",
       "9907176                0      0      1023        -1  \n",
       "3304275                0      0      1018        -1  \n",
       "9020937                0      0      1019        -1  \n",
       "3082311                0      0      1020        -1  "
      ]
     },
     "execution_count": 8,
     "metadata": {},
     "output_type": "execute_result"
    }
   ],
   "source": [
    "X_full.head()"
   ]
  },
  {
   "cell_type": "code",
   "execution_count": null,
   "metadata": {
    "id": "dToOyPDVUiBr"
   },
   "outputs": [],
   "source": [
    "def my_score_func(y_real, preds):\n",
    "    recall = recall_score(y_real, preds,  average = \"macro\")\n",
    "    auc_roc = roc_auc_score(y_real,  preds, multi_class='ovo')\n",
    "    score = 0.1 * recall + 0.9 * auc_roc\n",
    "    \n",
    "    return score\n",
    "\n",
    "my_scorer = make_scorer(my_score_func, greater_is_better=True)"
   ]
  },
  {
   "cell_type": "code",
   "execution_count": null,
   "metadata": {
    "colab": {
     "base_uri": "https://localhost:8080/"
    },
    "executionInfo": {
     "elapsed": 16,
     "status": "ok",
     "timestamp": 1668531780830,
     "user": {
      "displayName": "Andrew Lazko",
      "userId": "04969080350981822544"
     },
     "user_tz": -180
    },
    "id": "KHp8pc19dCgC",
    "outputId": "579e0459-2068-4256-f16d-cd42962be4ed"
   },
   "outputs": [
    {
     "data": {
      "text/plain": [
       "217"
      ]
     },
     "execution_count": 12,
     "metadata": {},
     "output_type": "execute_result"
    }
   ],
   "source": [
    "gc.collect()"
   ]
  },
  {
   "cell_type": "markdown",
   "metadata": {
    "id": "cYWWPFWT3Jyw"
   },
   "source": [
    "## FE"
   ]
  },
  {
   "cell_type": "markdown",
   "metadata": {},
   "source": [
    "### Создание новых призанков"
   ]
  },
  {
   "cell_type": "code",
   "execution_count": null,
   "metadata": {
    "id": "vUNfm8sWVYv_"
   },
   "outputs": [],
   "source": [
    "my_cols = ['dist_qty_oper_login_1', 'total_qty_oper_login_1',\n",
    "'total_qty_oper_login_0', 'total_qty_over_index_and_type',\n",
    "'total_qty_over_index']"
   ]
  },
  {
   "cell_type": "code",
   "execution_count": null,
   "metadata": {
    "colab": {
     "base_uri": "https://localhost:8080/"
    },
    "executionInfo": {
     "elapsed": 13,
     "status": "ok",
     "timestamp": 1668531780830,
     "user": {
      "displayName": "Andrew Lazko",
      "userId": "04969080350981822544"
     },
     "user_tz": -180
    },
    "id": "OPQJkU-6Wu-E",
    "outputId": "85a6c92c-d9b2-41f4-db03-eb9d81d6c16b"
   },
   "outputs": [
    {
     "data": {
      "text/plain": [
       "total_qty_over_index             7.061895e+07\n",
       "total_qty_over_index_and_type    5.580372e+07\n",
       "total_qty_oper_login_0           2.805586e+07\n",
       "total_qty_oper_login_1           2.774785e+07\n",
       "dist_qty_oper_login_1            3.154906e+02\n",
       "dtype: float64"
      ]
     },
     "execution_count": 14,
     "metadata": {},
     "output_type": "execute_result"
    }
   ],
   "source": [
    "X_full[my_cols].mean().sort_values(ascending=False)"
   ]
  },
  {
   "cell_type": "code",
   "execution_count": null,
   "metadata": {
    "id": "SOtO4qgOXSHp"
   },
   "outputs": [],
   "source": [
    "def gen_nf(col1, col2):\n",
    "  return X_full[col1] / X_full[col2]"
   ]
  },
  {
   "cell_type": "code",
   "execution_count": null,
   "metadata": {
    "id": "0d_T7r_QXKM0"
   },
   "outputs": [],
   "source": [
    "X_full['new_1'] = gen_nf('total_qty_oper_login_1', 'dist_qty_oper_login_1')\n",
    "X_full['new_2'] = gen_nf('total_qty_oper_login_0', 'dist_qty_oper_login_1')\n",
    "X_full['new_3'] = gen_nf('total_qty_over_index', 'dist_qty_oper_login_1')\n",
    "X_full['new_4'] = gen_nf('total_qty_oper_login_0', 'total_qty_oper_login_1')\n",
    "X_full['new_5'] = gen_nf('total_qty_over_index', 'total_qty_oper_login_1')\n",
    "X_full['new_6'] = gen_nf('total_qty_over_index', 'total_qty_oper_login_0')\n",
    "X_full['new_7'] = gen_nf('total_qty_over_index_and_type', 'dist_qty_oper_login_1')\n",
    "X_full['new_8'] = gen_nf('total_qty_over_index_and_type', 'total_qty_oper_login_1')\n",
    "X_full['new_9'] = gen_nf('total_qty_over_index_and_type', 'total_qty_oper_login_0')\n",
    "\n",
    "X_full['new_10'] = gen_nf('total_qty_over_index', 'total_qty_over_index_and_type')"
   ]
  },
  {
   "cell_type": "code",
   "execution_count": null,
   "metadata": {
    "colab": {
     "base_uri": "https://localhost:8080/",
     "height": 371
    },
    "executionInfo": {
     "elapsed": 16,
     "status": "ok",
     "timestamp": 1668531781924,
     "user": {
      "displayName": "Andrew Lazko",
      "userId": "04969080350981822544"
     },
     "user_tz": -180
    },
    "id": "QbhoYyJYX-J0",
    "outputId": "c35785fc-63b9-42f4-8bec-367078ea571d"
   },
   "outputs": [
    {
     "data": {
      "text/html": [
       "\n",
       "  <div id=\"df-6d5b86c8-ac63-4363-8c28-ebcbd502019e\">\n",
       "    <div class=\"colab-df-container\">\n",
       "      <div>\n",
       "<style scoped>\n",
       "    .dataframe tbody tr th:only-of-type {\n",
       "        vertical-align: middle;\n",
       "    }\n",
       "\n",
       "    .dataframe tbody tr th {\n",
       "        vertical-align: top;\n",
       "    }\n",
       "\n",
       "    .dataframe thead th {\n",
       "        text-align: right;\n",
       "    }\n",
       "</style>\n",
       "<table border=\"1\" class=\"dataframe\">\n",
       "  <thead>\n",
       "    <tr style=\"text-align: right;\">\n",
       "      <th></th>\n",
       "      <th>index_oper</th>\n",
       "      <th>type</th>\n",
       "      <th>priority</th>\n",
       "      <th>is_privatecategory</th>\n",
       "      <th>class</th>\n",
       "      <th>is_in_yandex</th>\n",
       "      <th>is_return</th>\n",
       "      <th>weight</th>\n",
       "      <th>mailtype</th>\n",
       "      <th>mailctg</th>\n",
       "      <th>directctg</th>\n",
       "      <th>transport_pay</th>\n",
       "      <th>postmark</th>\n",
       "      <th>name_mfi</th>\n",
       "      <th>weight_mfi</th>\n",
       "      <th>price_mfi</th>\n",
       "      <th>dist_qty_oper_login_1</th>\n",
       "      <th>total_qty_oper_login_1</th>\n",
       "      <th>total_qty_oper_login_0</th>\n",
       "      <th>total_qty_over_index_and_type</th>\n",
       "      <th>total_qty_over_index</th>\n",
       "      <th>is_wrong_sndr_name</th>\n",
       "      <th>is_wrong_rcpn_name</th>\n",
       "      <th>is_wrong_phone_number</th>\n",
       "      <th>is_wrong_address</th>\n",
       "      <th>label</th>\n",
       "      <th>oper_type</th>\n",
       "      <th>oper_attr</th>\n",
       "      <th>new_1</th>\n",
       "      <th>new_2</th>\n",
       "      <th>new_3</th>\n",
       "      <th>new_4</th>\n",
       "      <th>new_5</th>\n",
       "      <th>new_6</th>\n",
       "      <th>new_7</th>\n",
       "      <th>new_8</th>\n",
       "      <th>new_9</th>\n",
       "      <th>new_10</th>\n",
       "    </tr>\n",
       "    <tr>\n",
       "      <th>id</th>\n",
       "      <th></th>\n",
       "      <th></th>\n",
       "      <th></th>\n",
       "      <th></th>\n",
       "      <th></th>\n",
       "      <th></th>\n",
       "      <th></th>\n",
       "      <th></th>\n",
       "      <th></th>\n",
       "      <th></th>\n",
       "      <th></th>\n",
       "      <th></th>\n",
       "      <th></th>\n",
       "      <th></th>\n",
       "      <th></th>\n",
       "      <th></th>\n",
       "      <th></th>\n",
       "      <th></th>\n",
       "      <th></th>\n",
       "      <th></th>\n",
       "      <th></th>\n",
       "      <th></th>\n",
       "      <th></th>\n",
       "      <th></th>\n",
       "      <th></th>\n",
       "      <th></th>\n",
       "      <th></th>\n",
       "      <th></th>\n",
       "      <th></th>\n",
       "      <th></th>\n",
       "      <th></th>\n",
       "      <th></th>\n",
       "      <th></th>\n",
       "      <th></th>\n",
       "      <th></th>\n",
       "      <th></th>\n",
       "      <th></th>\n",
       "      <th></th>\n",
       "    </tr>\n",
       "  </thead>\n",
       "  <tbody>\n",
       "    <tr>\n",
       "      <th>6818780</th>\n",
       "      <td>628629</td>\n",
       "      <td>Участок</td>\n",
       "      <td>7503</td>\n",
       "      <td>0</td>\n",
       "      <td>0</td>\n",
       "      <td>1</td>\n",
       "      <td>0</td>\n",
       "      <td>87</td>\n",
       "      <td>5</td>\n",
       "      <td>1</td>\n",
       "      <td>2</td>\n",
       "      <td>0.00</td>\n",
       "      <td>0</td>\n",
       "      <td>fishhook</td>\n",
       "      <td>41</td>\n",
       "      <td>150</td>\n",
       "      <td>42</td>\n",
       "      <td>720176</td>\n",
       "      <td>58950</td>\n",
       "      <td>779126</td>\n",
       "      <td>8290896</td>\n",
       "      <td>0</td>\n",
       "      <td>0</td>\n",
       "      <td>0</td>\n",
       "      <td>0</td>\n",
       "      <td>0</td>\n",
       "      <td>1043</td>\n",
       "      <td>-1</td>\n",
       "      <td>17147.047619</td>\n",
       "      <td>1403.571429</td>\n",
       "      <td>197402.285714</td>\n",
       "      <td>0.081855</td>\n",
       "      <td>11.512319</td>\n",
       "      <td>140.642850</td>\n",
       "      <td>18550.619048</td>\n",
       "      <td>1.081855</td>\n",
       "      <td>13.216726</td>\n",
       "      <td>10.641278</td>\n",
       "    </tr>\n",
       "    <tr>\n",
       "      <th>9907176</th>\n",
       "      <td>102976</td>\n",
       "      <td>ММПО</td>\n",
       "      <td>7503</td>\n",
       "      <td>0</td>\n",
       "      <td>0</td>\n",
       "      <td>0</td>\n",
       "      <td>0</td>\n",
       "      <td>107</td>\n",
       "      <td>5</td>\n",
       "      <td>1</td>\n",
       "      <td>2</td>\n",
       "      <td>0.00</td>\n",
       "      <td>0</td>\n",
       "      <td>screen protector</td>\n",
       "      <td>68</td>\n",
       "      <td>400</td>\n",
       "      <td>914</td>\n",
       "      <td>48856658</td>\n",
       "      <td>83318932</td>\n",
       "      <td>132175590</td>\n",
       "      <td>136819803</td>\n",
       "      <td>0</td>\n",
       "      <td>0</td>\n",
       "      <td>0</td>\n",
       "      <td>0</td>\n",
       "      <td>0</td>\n",
       "      <td>1023</td>\n",
       "      <td>-1</td>\n",
       "      <td>53453.673961</td>\n",
       "      <td>91158.568928</td>\n",
       "      <td>149693.438731</td>\n",
       "      <td>1.705375</td>\n",
       "      <td>2.800433</td>\n",
       "      <td>1.642121</td>\n",
       "      <td>144612.242888</td>\n",
       "      <td>2.705375</td>\n",
       "      <td>1.586381</td>\n",
       "      <td>1.035137</td>\n",
       "    </tr>\n",
       "    <tr>\n",
       "      <th>3304275</th>\n",
       "      <td>620962</td>\n",
       "      <td>Цех</td>\n",
       "      <td>7503</td>\n",
       "      <td>0</td>\n",
       "      <td>0</td>\n",
       "      <td>1</td>\n",
       "      <td>0</td>\n",
       "      <td>50</td>\n",
       "      <td>5</td>\n",
       "      <td>1</td>\n",
       "      <td>2</td>\n",
       "      <td>0.00</td>\n",
       "      <td>0</td>\n",
       "      <td>pendant necklaces</td>\n",
       "      <td>56</td>\n",
       "      <td>218</td>\n",
       "      <td>62</td>\n",
       "      <td>3246292</td>\n",
       "      <td>3233068</td>\n",
       "      <td>6479360</td>\n",
       "      <td>52708071</td>\n",
       "      <td>0</td>\n",
       "      <td>1</td>\n",
       "      <td>0</td>\n",
       "      <td>0</td>\n",
       "      <td>0</td>\n",
       "      <td>1018</td>\n",
       "      <td>-1</td>\n",
       "      <td>52359.548387</td>\n",
       "      <td>52146.258065</td>\n",
       "      <td>850130.177419</td>\n",
       "      <td>0.995926</td>\n",
       "      <td>16.236392</td>\n",
       "      <td>16.302803</td>\n",
       "      <td>104505.806452</td>\n",
       "      <td>1.995926</td>\n",
       "      <td>2.004090</td>\n",
       "      <td>8.134765</td>\n",
       "    </tr>\n",
       "    <tr>\n",
       "      <th>9020937</th>\n",
       "      <td>344964</td>\n",
       "      <td>Цех</td>\n",
       "      <td>7503</td>\n",
       "      <td>0</td>\n",
       "      <td>0</td>\n",
       "      <td>1</td>\n",
       "      <td>0</td>\n",
       "      <td>416</td>\n",
       "      <td>5</td>\n",
       "      <td>1</td>\n",
       "      <td>2</td>\n",
       "      <td>35.34</td>\n",
       "      <td>0</td>\n",
       "      <td>motorcycle signal lamp</td>\n",
       "      <td>33</td>\n",
       "      <td>100</td>\n",
       "      <td>55</td>\n",
       "      <td>2060928</td>\n",
       "      <td>653280</td>\n",
       "      <td>2714208</td>\n",
       "      <td>19562334</td>\n",
       "      <td>0</td>\n",
       "      <td>0</td>\n",
       "      <td>0</td>\n",
       "      <td>0</td>\n",
       "      <td>0</td>\n",
       "      <td>1019</td>\n",
       "      <td>-1</td>\n",
       "      <td>37471.418182</td>\n",
       "      <td>11877.818182</td>\n",
       "      <td>355678.800000</td>\n",
       "      <td>0.316983</td>\n",
       "      <td>9.492003</td>\n",
       "      <td>29.944792</td>\n",
       "      <td>49349.236364</td>\n",
       "      <td>1.316983</td>\n",
       "      <td>4.154739</td>\n",
       "      <td>7.207382</td>\n",
       "    </tr>\n",
       "    <tr>\n",
       "      <th>3082311</th>\n",
       "      <td>629819</td>\n",
       "      <td>Участок</td>\n",
       "      <td>7503</td>\n",
       "      <td>0</td>\n",
       "      <td>0</td>\n",
       "      <td>1</td>\n",
       "      <td>0</td>\n",
       "      <td>795</td>\n",
       "      <td>5</td>\n",
       "      <td>1</td>\n",
       "      <td>2</td>\n",
       "      <td>52.52</td>\n",
       "      <td>0</td>\n",
       "      <td>backpack</td>\n",
       "      <td>716</td>\n",
       "      <td>1000</td>\n",
       "      <td>16</td>\n",
       "      <td>316919</td>\n",
       "      <td>27911</td>\n",
       "      <td>344830</td>\n",
       "      <td>4719186</td>\n",
       "      <td>0</td>\n",
       "      <td>0</td>\n",
       "      <td>0</td>\n",
       "      <td>0</td>\n",
       "      <td>0</td>\n",
       "      <td>1020</td>\n",
       "      <td>-1</td>\n",
       "      <td>19807.437500</td>\n",
       "      <td>1744.437500</td>\n",
       "      <td>294949.125000</td>\n",
       "      <td>0.088070</td>\n",
       "      <td>14.890827</td>\n",
       "      <td>169.079789</td>\n",
       "      <td>21551.875000</td>\n",
       "      <td>1.088070</td>\n",
       "      <td>12.354627</td>\n",
       "      <td>13.685544</td>\n",
       "    </tr>\n",
       "  </tbody>\n",
       "</table>\n",
       "</div>\n",
       "      <button class=\"colab-df-convert\" onclick=\"convertToInteractive('df-6d5b86c8-ac63-4363-8c28-ebcbd502019e')\"\n",
       "              title=\"Convert this dataframe to an interactive table.\"\n",
       "              style=\"display:none;\">\n",
       "        \n",
       "  <svg xmlns=\"http://www.w3.org/2000/svg\" height=\"24px\"viewBox=\"0 0 24 24\"\n",
       "       width=\"24px\">\n",
       "    <path d=\"M0 0h24v24H0V0z\" fill=\"none\"/>\n",
       "    <path d=\"M18.56 5.44l.94 2.06.94-2.06 2.06-.94-2.06-.94-.94-2.06-.94 2.06-2.06.94zm-11 1L8.5 8.5l.94-2.06 2.06-.94-2.06-.94L8.5 2.5l-.94 2.06-2.06.94zm10 10l.94 2.06.94-2.06 2.06-.94-2.06-.94-.94-2.06-.94 2.06-2.06.94z\"/><path d=\"M17.41 7.96l-1.37-1.37c-.4-.4-.92-.59-1.43-.59-.52 0-1.04.2-1.43.59L10.3 9.45l-7.72 7.72c-.78.78-.78 2.05 0 2.83L4 21.41c.39.39.9.59 1.41.59.51 0 1.02-.2 1.41-.59l7.78-7.78 2.81-2.81c.8-.78.8-2.07 0-2.86zM5.41 20L4 18.59l7.72-7.72 1.47 1.35L5.41 20z\"/>\n",
       "  </svg>\n",
       "      </button>\n",
       "      \n",
       "  <style>\n",
       "    .colab-df-container {\n",
       "      display:flex;\n",
       "      flex-wrap:wrap;\n",
       "      gap: 12px;\n",
       "    }\n",
       "\n",
       "    .colab-df-convert {\n",
       "      background-color: #E8F0FE;\n",
       "      border: none;\n",
       "      border-radius: 50%;\n",
       "      cursor: pointer;\n",
       "      display: none;\n",
       "      fill: #1967D2;\n",
       "      height: 32px;\n",
       "      padding: 0 0 0 0;\n",
       "      width: 32px;\n",
       "    }\n",
       "\n",
       "    .colab-df-convert:hover {\n",
       "      background-color: #E2EBFA;\n",
       "      box-shadow: 0px 1px 2px rgba(60, 64, 67, 0.3), 0px 1px 3px 1px rgba(60, 64, 67, 0.15);\n",
       "      fill: #174EA6;\n",
       "    }\n",
       "\n",
       "    [theme=dark] .colab-df-convert {\n",
       "      background-color: #3B4455;\n",
       "      fill: #D2E3FC;\n",
       "    }\n",
       "\n",
       "    [theme=dark] .colab-df-convert:hover {\n",
       "      background-color: #434B5C;\n",
       "      box-shadow: 0px 1px 3px 1px rgba(0, 0, 0, 0.15);\n",
       "      filter: drop-shadow(0px 1px 2px rgba(0, 0, 0, 0.3));\n",
       "      fill: #FFFFFF;\n",
       "    }\n",
       "  </style>\n",
       "\n",
       "      <script>\n",
       "        const buttonEl =\n",
       "          document.querySelector('#df-6d5b86c8-ac63-4363-8c28-ebcbd502019e button.colab-df-convert');\n",
       "        buttonEl.style.display =\n",
       "          google.colab.kernel.accessAllowed ? 'block' : 'none';\n",
       "\n",
       "        async function convertToInteractive(key) {\n",
       "          const element = document.querySelector('#df-6d5b86c8-ac63-4363-8c28-ebcbd502019e');\n",
       "          const dataTable =\n",
       "            await google.colab.kernel.invokeFunction('convertToInteractive',\n",
       "                                                     [key], {});\n",
       "          if (!dataTable) return;\n",
       "\n",
       "          const docLinkHtml = 'Like what you see? Visit the ' +\n",
       "            '<a target=\"_blank\" href=https://colab.research.google.com/notebooks/data_table.ipynb>data table notebook</a>'\n",
       "            + ' to learn more about interactive tables.';\n",
       "          element.innerHTML = '';\n",
       "          dataTable['output_type'] = 'display_data';\n",
       "          await google.colab.output.renderOutput(dataTable, element);\n",
       "          const docLink = document.createElement('div');\n",
       "          docLink.innerHTML = docLinkHtml;\n",
       "          element.appendChild(docLink);\n",
       "        }\n",
       "      </script>\n",
       "    </div>\n",
       "  </div>\n",
       "  "
      ],
      "text/plain": [
       "        index_oper     type priority is_privatecategory class is_in_yandex  \\\n",
       "id                                                                           \n",
       "6818780     628629  Участок     7503                  0     0            1   \n",
       "9907176     102976     ММПО     7503                  0     0            0   \n",
       "3304275     620962      Цех     7503                  0     0            1   \n",
       "9020937     344964      Цех     7503                  0     0            1   \n",
       "3082311     629819  Участок     7503                  0     0            1   \n",
       "\n",
       "        is_return  weight mailtype mailctg directctg  transport_pay postmark  \\\n",
       "id                                                                             \n",
       "6818780         0      87        5       1         2           0.00        0   \n",
       "9907176         0     107        5       1         2           0.00        0   \n",
       "3304275         0      50        5       1         2           0.00        0   \n",
       "9020937         0     416        5       1         2          35.34        0   \n",
       "3082311         0     795        5       1         2          52.52        0   \n",
       "\n",
       "                       name_mfi  weight_mfi  price_mfi  dist_qty_oper_login_1  \\\n",
       "id                                                                              \n",
       "6818780                fishhook          41        150                     42   \n",
       "9907176        screen protector          68        400                    914   \n",
       "3304275       pendant necklaces          56        218                     62   \n",
       "9020937  motorcycle signal lamp          33        100                     55   \n",
       "3082311                backpack         716       1000                     16   \n",
       "\n",
       "         total_qty_oper_login_1  total_qty_oper_login_0  \\\n",
       "id                                                        \n",
       "6818780                  720176                   58950   \n",
       "9907176                48856658                83318932   \n",
       "3304275                 3246292                 3233068   \n",
       "9020937                 2060928                  653280   \n",
       "3082311                  316919                   27911   \n",
       "\n",
       "         total_qty_over_index_and_type  total_qty_over_index  \\\n",
       "id                                                             \n",
       "6818780                         779126               8290896   \n",
       "9907176                      132175590             136819803   \n",
       "3304275                        6479360              52708071   \n",
       "9020937                        2714208              19562334   \n",
       "3082311                         344830               4719186   \n",
       "\n",
       "        is_wrong_sndr_name is_wrong_rcpn_name is_wrong_phone_number  \\\n",
       "id                                                                    \n",
       "6818780                  0                  0                     0   \n",
       "9907176                  0                  0                     0   \n",
       "3304275                  0                  1                     0   \n",
       "9020937                  0                  0                     0   \n",
       "3082311                  0                  0                     0   \n",
       "\n",
       "        is_wrong_address  label oper_type oper_attr         new_1  \\\n",
       "id                                                                  \n",
       "6818780                0      0      1043        -1  17147.047619   \n",
       "9907176                0      0      1023        -1  53453.673961   \n",
       "3304275                0      0      1018        -1  52359.548387   \n",
       "9020937                0      0      1019        -1  37471.418182   \n",
       "3082311                0      0      1020        -1  19807.437500   \n",
       "\n",
       "                new_2          new_3     new_4      new_5       new_6  \\\n",
       "id                                                                      \n",
       "6818780   1403.571429  197402.285714  0.081855  11.512319  140.642850   \n",
       "9907176  91158.568928  149693.438731  1.705375   2.800433    1.642121   \n",
       "3304275  52146.258065  850130.177419  0.995926  16.236392   16.302803   \n",
       "9020937  11877.818182  355678.800000  0.316983   9.492003   29.944792   \n",
       "3082311   1744.437500  294949.125000  0.088070  14.890827  169.079789   \n",
       "\n",
       "                 new_7     new_8      new_9     new_10  \n",
       "id                                                      \n",
       "6818780   18550.619048  1.081855  13.216726  10.641278  \n",
       "9907176  144612.242888  2.705375   1.586381   1.035137  \n",
       "3304275  104505.806452  1.995926   2.004090   8.134765  \n",
       "9020937   49349.236364  1.316983   4.154739   7.207382  \n",
       "3082311   21551.875000  1.088070  12.354627  13.685544  "
      ]
     },
     "execution_count": 17,
     "metadata": {},
     "output_type": "execute_result"
    }
   ],
   "source": [
    "X_full.head()"
   ]
  },
  {
   "cell_type": "code",
   "execution_count": null,
   "metadata": {
    "colab": {
     "base_uri": "https://localhost:8080/"
    },
    "executionInfo": {
     "elapsed": 15,
     "status": "ok",
     "timestamp": 1668531781925,
     "user": {
      "displayName": "Andrew Lazko",
      "userId": "04969080350981822544"
     },
     "user_tz": -180
    },
    "id": "SNaGGz9ydtxI",
    "outputId": "fecf7a4c-3714-424e-fc19-14a49326bae9"
   },
   "outputs": [
    {
     "data": {
      "text/plain": [
       "Index(['index_oper', 'type', 'priority', 'is_privatecategory', 'class',\n",
       "       'is_in_yandex', 'is_return', 'weight', 'mailtype', 'mailctg',\n",
       "       'directctg', 'transport_pay', 'postmark', 'name_mfi', 'weight_mfi',\n",
       "       'price_mfi', 'dist_qty_oper_login_1', 'total_qty_oper_login_1',\n",
       "       'total_qty_oper_login_0', 'total_qty_over_index_and_type',\n",
       "       'total_qty_over_index', 'is_wrong_sndr_name', 'is_wrong_rcpn_name',\n",
       "       'is_wrong_phone_number', 'is_wrong_address', 'label', 'oper_type',\n",
       "       'oper_attr', 'new_1', 'new_2', 'new_3', 'new_4', 'new_5', 'new_6',\n",
       "       'new_7', 'new_8', 'new_9', 'new_10'],\n",
       "      dtype='object')"
      ]
     },
     "execution_count": 18,
     "metadata": {},
     "output_type": "execute_result"
    }
   ],
   "source": [
    "X_full.columns"
   ]
  },
  {
   "cell_type": "code",
   "execution_count": null,
   "metadata": {
    "id": "hSQ8fCMWfYcS"
   },
   "outputs": [],
   "source": [
    "new_cols = ['new_1', 'new_2','new_3', 'new_4', 'new_5', 'new_6', 'new_7', 'new_8', 'new_9','new_10']"
   ]
  },
  {
   "cell_type": "code",
   "execution_count": null,
   "metadata": {
    "id": "WC84S8lCeyBt"
   },
   "outputs": [],
   "source": [
    "X_full[new_cols] = X_full[new_cols].fillna(-1)"
   ]
  },
  {
   "cell_type": "code",
   "execution_count": null,
   "metadata": {
    "id": "Hgv0VG7Wf2HJ"
   },
   "outputs": [],
   "source": [
    "X_full[new_cols] = X_full[new_cols].replace(0, -1)"
   ]
  },
  {
   "cell_type": "code",
   "execution_count": null,
   "metadata": {
    "colab": {
     "base_uri": "https://localhost:8080/",
     "height": 364
    },
    "executionInfo": {
     "elapsed": 2086,
     "status": "ok",
     "timestamp": 1668531785545,
     "user": {
      "displayName": "Andrew Lazko",
      "userId": "04969080350981822544"
     },
     "user_tz": -180
    },
    "id": "vTf-NsuZeEzB",
    "outputId": "4757c00e-0422-4d5f-c33c-f70315fda9ed"
   },
   "outputs": [
    {
     "data": {
      "text/html": [
       "\n",
       "  <div id=\"df-6023ea2e-2814-44d5-881c-69ae72299c4b\">\n",
       "    <div class=\"colab-df-container\">\n",
       "      <div>\n",
       "<style scoped>\n",
       "    .dataframe tbody tr th:only-of-type {\n",
       "        vertical-align: middle;\n",
       "    }\n",
       "\n",
       "    .dataframe tbody tr th {\n",
       "        vertical-align: top;\n",
       "    }\n",
       "\n",
       "    .dataframe thead th {\n",
       "        text-align: right;\n",
       "    }\n",
       "</style>\n",
       "<table border=\"1\" class=\"dataframe\">\n",
       "  <thead>\n",
       "    <tr style=\"text-align: right;\">\n",
       "      <th></th>\n",
       "      <th>new_1</th>\n",
       "      <th>new_2</th>\n",
       "      <th>new_3</th>\n",
       "      <th>new_4</th>\n",
       "      <th>new_5</th>\n",
       "      <th>new_6</th>\n",
       "      <th>new_7</th>\n",
       "      <th>new_8</th>\n",
       "      <th>new_9</th>\n",
       "      <th>new_10</th>\n",
       "    </tr>\n",
       "  </thead>\n",
       "  <tbody>\n",
       "    <tr>\n",
       "      <th>count</th>\n",
       "      <td>5.243313e+06</td>\n",
       "      <td>5.243313e+06</td>\n",
       "      <td>5.243313e+06</td>\n",
       "      <td>5.243313e+06</td>\n",
       "      <td>5.243313e+06</td>\n",
       "      <td>5.243313e+06</td>\n",
       "      <td>5.243313e+06</td>\n",
       "      <td>5.243313e+06</td>\n",
       "      <td>5.243313e+06</td>\n",
       "      <td>5.243313e+06</td>\n",
       "    </tr>\n",
       "    <tr>\n",
       "      <th>mean</th>\n",
       "      <td>1.183333e+05</td>\n",
       "      <td>inf</td>\n",
       "      <td>inf</td>\n",
       "      <td>inf</td>\n",
       "      <td>inf</td>\n",
       "      <td>inf</td>\n",
       "      <td>inf</td>\n",
       "      <td>inf</td>\n",
       "      <td>inf</td>\n",
       "      <td>1.178357e+01</td>\n",
       "    </tr>\n",
       "    <tr>\n",
       "      <th>std</th>\n",
       "      <td>1.659037e+05</td>\n",
       "      <td>NaN</td>\n",
       "      <td>NaN</td>\n",
       "      <td>NaN</td>\n",
       "      <td>NaN</td>\n",
       "      <td>NaN</td>\n",
       "      <td>NaN</td>\n",
       "      <td>NaN</td>\n",
       "      <td>NaN</td>\n",
       "      <td>8.189944e+03</td>\n",
       "    </tr>\n",
       "    <tr>\n",
       "      <th>min</th>\n",
       "      <td>-1.000000e+00</td>\n",
       "      <td>-1.000000e+00</td>\n",
       "      <td>-1.000000e+00</td>\n",
       "      <td>-1.000000e+00</td>\n",
       "      <td>-1.000000e+00</td>\n",
       "      <td>-1.000000e+00</td>\n",
       "      <td>-1.000000e+00</td>\n",
       "      <td>-1.000000e+00</td>\n",
       "      <td>-1.000000e+00</td>\n",
       "      <td>-1.000000e+00</td>\n",
       "    </tr>\n",
       "    <tr>\n",
       "      <th>25%</th>\n",
       "      <td>2.706800e+04</td>\n",
       "      <td>3.680265e+02</td>\n",
       "      <td>1.496934e+05</td>\n",
       "      <td>9.841079e-03</td>\n",
       "      <td>2.106413e+00</td>\n",
       "      <td>1.759762e+00</td>\n",
       "      <td>3.655744e+04</td>\n",
       "      <td>1.009841e+00</td>\n",
       "      <td>1.754649e+00</td>\n",
       "      <td>1.035137e+00</td>\n",
       "    </tr>\n",
       "    <tr>\n",
       "      <th>50%</th>\n",
       "      <td>5.345367e+04</td>\n",
       "      <td>6.864250e+03</td>\n",
       "      <td>2.354805e+05</td>\n",
       "      <td>2.779202e-01</td>\n",
       "      <td>2.931499e+00</td>\n",
       "      <td>2.279240e+01</td>\n",
       "      <td>1.446122e+05</td>\n",
       "      <td>1.277920e+00</td>\n",
       "      <td>4.598156e+00</td>\n",
       "      <td>1.246905e+00</td>\n",
       "    </tr>\n",
       "    <tr>\n",
       "      <th>75%</th>\n",
       "      <td>1.291161e+05</td>\n",
       "      <td>9.115857e+04</td>\n",
       "      <td>4.381488e+05</td>\n",
       "      <td>1.325120e+00</td>\n",
       "      <td>1.141457e+01</td>\n",
       "      <td>5.749514e+02</td>\n",
       "      <td>1.963911e+05</td>\n",
       "      <td>2.325120e+00</td>\n",
       "      <td>9.609934e+01</td>\n",
       "      <td>8.875800e+00</td>\n",
       "    </tr>\n",
       "    <tr>\n",
       "      <th>max</th>\n",
       "      <td>1.792702e+06</td>\n",
       "      <td>inf</td>\n",
       "      <td>inf</td>\n",
       "      <td>inf</td>\n",
       "      <td>inf</td>\n",
       "      <td>inf</td>\n",
       "      <td>inf</td>\n",
       "      <td>inf</td>\n",
       "      <td>inf</td>\n",
       "      <td>1.873721e+07</td>\n",
       "    </tr>\n",
       "  </tbody>\n",
       "</table>\n",
       "</div>\n",
       "      <button class=\"colab-df-convert\" onclick=\"convertToInteractive('df-6023ea2e-2814-44d5-881c-69ae72299c4b')\"\n",
       "              title=\"Convert this dataframe to an interactive table.\"\n",
       "              style=\"display:none;\">\n",
       "        \n",
       "  <svg xmlns=\"http://www.w3.org/2000/svg\" height=\"24px\"viewBox=\"0 0 24 24\"\n",
       "       width=\"24px\">\n",
       "    <path d=\"M0 0h24v24H0V0z\" fill=\"none\"/>\n",
       "    <path d=\"M18.56 5.44l.94 2.06.94-2.06 2.06-.94-2.06-.94-.94-2.06-.94 2.06-2.06.94zm-11 1L8.5 8.5l.94-2.06 2.06-.94-2.06-.94L8.5 2.5l-.94 2.06-2.06.94zm10 10l.94 2.06.94-2.06 2.06-.94-2.06-.94-.94-2.06-.94 2.06-2.06.94z\"/><path d=\"M17.41 7.96l-1.37-1.37c-.4-.4-.92-.59-1.43-.59-.52 0-1.04.2-1.43.59L10.3 9.45l-7.72 7.72c-.78.78-.78 2.05 0 2.83L4 21.41c.39.39.9.59 1.41.59.51 0 1.02-.2 1.41-.59l7.78-7.78 2.81-2.81c.8-.78.8-2.07 0-2.86zM5.41 20L4 18.59l7.72-7.72 1.47 1.35L5.41 20z\"/>\n",
       "  </svg>\n",
       "      </button>\n",
       "      \n",
       "  <style>\n",
       "    .colab-df-container {\n",
       "      display:flex;\n",
       "      flex-wrap:wrap;\n",
       "      gap: 12px;\n",
       "    }\n",
       "\n",
       "    .colab-df-convert {\n",
       "      background-color: #E8F0FE;\n",
       "      border: none;\n",
       "      border-radius: 50%;\n",
       "      cursor: pointer;\n",
       "      display: none;\n",
       "      fill: #1967D2;\n",
       "      height: 32px;\n",
       "      padding: 0 0 0 0;\n",
       "      width: 32px;\n",
       "    }\n",
       "\n",
       "    .colab-df-convert:hover {\n",
       "      background-color: #E2EBFA;\n",
       "      box-shadow: 0px 1px 2px rgba(60, 64, 67, 0.3), 0px 1px 3px 1px rgba(60, 64, 67, 0.15);\n",
       "      fill: #174EA6;\n",
       "    }\n",
       "\n",
       "    [theme=dark] .colab-df-convert {\n",
       "      background-color: #3B4455;\n",
       "      fill: #D2E3FC;\n",
       "    }\n",
       "\n",
       "    [theme=dark] .colab-df-convert:hover {\n",
       "      background-color: #434B5C;\n",
       "      box-shadow: 0px 1px 3px 1px rgba(0, 0, 0, 0.15);\n",
       "      filter: drop-shadow(0px 1px 2px rgba(0, 0, 0, 0.3));\n",
       "      fill: #FFFFFF;\n",
       "    }\n",
       "  </style>\n",
       "\n",
       "      <script>\n",
       "        const buttonEl =\n",
       "          document.querySelector('#df-6023ea2e-2814-44d5-881c-69ae72299c4b button.colab-df-convert');\n",
       "        buttonEl.style.display =\n",
       "          google.colab.kernel.accessAllowed ? 'block' : 'none';\n",
       "\n",
       "        async function convertToInteractive(key) {\n",
       "          const element = document.querySelector('#df-6023ea2e-2814-44d5-881c-69ae72299c4b');\n",
       "          const dataTable =\n",
       "            await google.colab.kernel.invokeFunction('convertToInteractive',\n",
       "                                                     [key], {});\n",
       "          if (!dataTable) return;\n",
       "\n",
       "          const docLinkHtml = 'Like what you see? Visit the ' +\n",
       "            '<a target=\"_blank\" href=https://colab.research.google.com/notebooks/data_table.ipynb>data table notebook</a>'\n",
       "            + ' to learn more about interactive tables.';\n",
       "          element.innerHTML = '';\n",
       "          dataTable['output_type'] = 'display_data';\n",
       "          await google.colab.output.renderOutput(dataTable, element);\n",
       "          const docLink = document.createElement('div');\n",
       "          docLink.innerHTML = docLinkHtml;\n",
       "          element.appendChild(docLink);\n",
       "        }\n",
       "      </script>\n",
       "    </div>\n",
       "  </div>\n",
       "  "
      ],
      "text/plain": [
       "              new_1         new_2         new_3         new_4         new_5  \\\n",
       "count  5.243313e+06  5.243313e+06  5.243313e+06  5.243313e+06  5.243313e+06   \n",
       "mean   1.183333e+05           inf           inf           inf           inf   \n",
       "std    1.659037e+05           NaN           NaN           NaN           NaN   \n",
       "min   -1.000000e+00 -1.000000e+00 -1.000000e+00 -1.000000e+00 -1.000000e+00   \n",
       "25%    2.706800e+04  3.680265e+02  1.496934e+05  9.841079e-03  2.106413e+00   \n",
       "50%    5.345367e+04  6.864250e+03  2.354805e+05  2.779202e-01  2.931499e+00   \n",
       "75%    1.291161e+05  9.115857e+04  4.381488e+05  1.325120e+00  1.141457e+01   \n",
       "max    1.792702e+06           inf           inf           inf           inf   \n",
       "\n",
       "              new_6         new_7         new_8         new_9        new_10  \n",
       "count  5.243313e+06  5.243313e+06  5.243313e+06  5.243313e+06  5.243313e+06  \n",
       "mean            inf           inf           inf           inf  1.178357e+01  \n",
       "std             NaN           NaN           NaN           NaN  8.189944e+03  \n",
       "min   -1.000000e+00 -1.000000e+00 -1.000000e+00 -1.000000e+00 -1.000000e+00  \n",
       "25%    1.759762e+00  3.655744e+04  1.009841e+00  1.754649e+00  1.035137e+00  \n",
       "50%    2.279240e+01  1.446122e+05  1.277920e+00  4.598156e+00  1.246905e+00  \n",
       "75%    5.749514e+02  1.963911e+05  2.325120e+00  9.609934e+01  8.875800e+00  \n",
       "max             inf           inf           inf           inf  1.873721e+07  "
      ]
     },
     "execution_count": 22,
     "metadata": {},
     "output_type": "execute_result"
    }
   ],
   "source": [
    "X_full[['new_1', 'new_2','new_3', 'new_4', 'new_5', 'new_6', 'new_7', 'new_8', 'new_9','new_10']].describe()"
   ]
  },
  {
   "cell_type": "code",
   "execution_count": null,
   "metadata": {
    "colab": {
     "base_uri": "https://localhost:8080/"
    },
    "executionInfo": {
     "elapsed": 32,
     "status": "ok",
     "timestamp": 1668531785546,
     "user": {
      "displayName": "Andrew Lazko",
      "userId": "04969080350981822544"
     },
     "user_tz": -180
    },
    "id": "FabKJwq_ctFP",
    "outputId": "cc377665-ed42-4fd2-f4b1-432ebe88c3b8"
   },
   "outputs": [
    {
     "data": {
      "text/plain": [
       "index_oper                          0\n",
       "type                                0\n",
       "priority                            0\n",
       "is_privatecategory                  0\n",
       "class                               0\n",
       "is_in_yandex                        0\n",
       "is_return                           0\n",
       "weight                              0\n",
       "mailtype                            0\n",
       "mailctg                             0\n",
       "directctg                           0\n",
       "transport_pay                       0\n",
       "postmark                            0\n",
       "name_mfi                         7017\n",
       "weight_mfi                          0\n",
       "price_mfi                           0\n",
       "dist_qty_oper_login_1               0\n",
       "total_qty_oper_login_1              0\n",
       "total_qty_oper_login_0              0\n",
       "total_qty_over_index_and_type       0\n",
       "total_qty_over_index                0\n",
       "is_wrong_sndr_name                  0\n",
       "is_wrong_rcpn_name                  0\n",
       "is_wrong_phone_number               0\n",
       "is_wrong_address                    0\n",
       "label                               0\n",
       "oper_type                           0\n",
       "oper_attr                           0\n",
       "new_1                               0\n",
       "new_2                               0\n",
       "new_3                               0\n",
       "new_4                               0\n",
       "new_5                               0\n",
       "new_6                               0\n",
       "new_7                               0\n",
       "new_8                               0\n",
       "new_9                               0\n",
       "new_10                              0\n",
       "dtype: int64"
      ]
     },
     "execution_count": 23,
     "metadata": {},
     "output_type": "execute_result"
    }
   ],
   "source": [
    "X_full.isna().sum()"
   ]
  },
  {
   "cell_type": "code",
   "execution_count": null,
   "metadata": {
    "colab": {
     "base_uri": "https://localhost:8080/"
    },
    "executionInfo": {
     "elapsed": 27,
     "status": "ok",
     "timestamp": 1668531785547,
     "user": {
      "displayName": "Andrew Lazko",
      "userId": "04969080350981822544"
     },
     "user_tz": -180
    },
    "id": "S2d8D0E_Zh3o",
    "outputId": "148bbcd3-f66b-4641-a29a-c87e25e68e69"
   },
   "outputs": [
    {
     "name": "stdout",
     "output_type": "stream",
     "text": [
      "<class 'pandas.core.frame.DataFrame'>\n",
      "Int64Index: 5243313 entries, 6818780 to 6423388\n",
      "Data columns (total 38 columns):\n",
      " #   Column                         Dtype   \n",
      "---  ------                         -----   \n",
      " 0   index_oper                     category\n",
      " 1   type                           category\n",
      " 2   priority                       category\n",
      " 3   is_privatecategory             category\n",
      " 4   class                          category\n",
      " 5   is_in_yandex                   category\n",
      " 6   is_return                      category\n",
      " 7   weight                         int32   \n",
      " 8   mailtype                       category\n",
      " 9   mailctg                        category\n",
      " 10  directctg                      category\n",
      " 11  transport_pay                  float64 \n",
      " 12  postmark                       category\n",
      " 13  name_mfi                       object  \n",
      " 14  weight_mfi                     int16   \n",
      " 15  price_mfi                      int32   \n",
      " 16  dist_qty_oper_login_1          int16   \n",
      " 17  total_qty_oper_login_1         int32   \n",
      " 18  total_qty_oper_login_0         int32   \n",
      " 19  total_qty_over_index_and_type  int32   \n",
      " 20  total_qty_over_index           int32   \n",
      " 21  is_wrong_sndr_name             category\n",
      " 22  is_wrong_rcpn_name             category\n",
      " 23  is_wrong_phone_number          category\n",
      " 24  is_wrong_address               category\n",
      " 25  label                          int8    \n",
      " 26  oper_type                      category\n",
      " 27  oper_attr                      category\n",
      " 28  new_1                          float64 \n",
      " 29  new_2                          float64 \n",
      " 30  new_3                          float64 \n",
      " 31  new_4                          float64 \n",
      " 32  new_5                          float64 \n",
      " 33  new_6                          float64 \n",
      " 34  new_7                          float64 \n",
      " 35  new_8                          float64 \n",
      " 36  new_9                          float64 \n",
      " 37  new_10                         float64 \n",
      "dtypes: category(17), float64(11), int16(2), int32(6), int8(1), object(1)\n",
      "memory usage: 755.7+ MB\n"
     ]
    }
   ],
   "source": [
    "X_full.info()"
   ]
  },
  {
   "cell_type": "code",
   "execution_count": null,
   "metadata": {
    "id": "kjjsvq-cQTwh"
   },
   "outputs": [],
   "source": [
    "X_corr = X_full.drop(['new_4', 'new_5', 'new_2', 'new_7', 'total_qty_over_index_and_type'], axis=1)"
   ]
  },
  {
   "cell_type": "code",
   "execution_count": null,
   "metadata": {
    "id": "7Ez8sLmymCAK"
   },
   "outputs": [],
   "source": [
    "cols_c = ['dist_qty_oper_login_1', 'total_qty_oper_login_1',\n",
    "       'total_qty_oper_login_0', 'total_qty_over_index',\n",
    "        'new_1', 'new_3',\n",
    "         'new_6', 'new_8', 'new_9', 'new_10']"
   ]
  },
  {
   "cell_type": "code",
   "execution_count": null,
   "metadata": {
    "colab": {
     "base_uri": "https://localhost:8080/",
     "height": 846
    },
    "executionInfo": {
     "elapsed": 3747,
     "status": "ok",
     "timestamp": 1668487363568,
     "user": {
      "displayName": "Andrew Lazko",
      "userId": "04969080350981822544"
     },
     "user_tz": -180
    },
    "id": "YmsDdpKXmG35",
    "outputId": "58a24d27-e375-47c8-fd4e-c146ccd565df"
   },
   "outputs": [
    {
     "data": {
      "image/png": "[encoded data removed]",
      "text/plain": [
       "<Figure size 1512x1512 with 2 Axes>"
      ]
     },
     "metadata": {},
     "output_type": "display_data"
    }
   ],
   "source": [
    "ax = plt.subplots(figsize=(21, 21))\n",
    "sns.heatmap(data=X_corr[cols_c].corr(), vmax=1, center=0, annot=True,\n",
    "            square=True, linewidths=.5, cbar_kws={\"shrink\": .5})\n",
    "plt.show()"
   ]
  },
  {
   "cell_type": "markdown",
   "metadata": {
    "id": "DVbGZup0SRqD"
   },
   "source": [
    "### Вычисление утечек"
   ]
  },
  {
   "cell_type": "markdown",
   "metadata": {
    "id": "sCN8tyfgbmJ7"
   },
   "source": [
    "НЕ ЗАПУСКАТЬ"
   ]
  },
  {
   "cell_type": "code",
   "execution_count": null,
   "metadata": {
    "colab": {
     "base_uri": "https://localhost:8080/"
    },
    "executionInfo": {
     "elapsed": 4,
     "status": "ok",
     "timestamp": 1668531795060,
     "user": {
      "displayName": "Andrew Lazko",
      "userId": "04969080350981822544"
     },
     "user_tz": -180
    },
    "id": "v_I-3kU8SQUA",
    "outputId": "be042a32-4722-47ab-c81c-4e1067f4d6e5"
   },
   "outputs": [
    {
     "name": "stdout",
     "output_type": "stream",
     "text": [
      "<class 'pandas.core.frame.DataFrame'>\n",
      "Int64Index: 5243313 entries, 6818780 to 6423388\n",
      "Data columns (total 33 columns):\n",
      " #   Column                  Dtype   \n",
      "---  ------                  -----   \n",
      " 0   index_oper              category\n",
      " 1   type                    category\n",
      " 2   priority                category\n",
      " 3   is_privatecategory      category\n",
      " 4   class                   category\n",
      " 5   is_in_yandex            category\n",
      " 6   is_return               category\n",
      " 7   weight                  int32   \n",
      " 8   mailtype                category\n",
      " 9   mailctg                 category\n",
      " 10  directctg               category\n",
      " 11  transport_pay           float64 \n",
      " 12  postmark                category\n",
      " 13  name_mfi                object  \n",
      " 14  weight_mfi              int16   \n",
      " 15  price_mfi               int32   \n",
      " 16  dist_qty_oper_login_1   int16   \n",
      " 17  total_qty_oper_login_1  int32   \n",
      " 18  total_qty_oper_login_0  int32   \n",
      " 19  total_qty_over_index    int32   \n",
      " 20  is_wrong_sndr_name      category\n",
      " 21  is_wrong_rcpn_name      category\n",
      " 22  is_wrong_phone_number   category\n",
      " 23  is_wrong_address        category\n",
      " 24  label                   int8    \n",
      " 25  oper_type               category\n",
      " 26  oper_attr               category\n",
      " 27  new_1                   float64 \n",
      " 28  new_3                   float64 \n",
      " 29  new_6                   float64 \n",
      " 30  new_8                   float64 \n",
      " 31  new_9                   float64 \n",
      " 32  new_10                  float64 \n",
      "dtypes: category(17), float64(7), int16(2), int32(5), int8(1), object(1)\n",
      "memory usage: 575.7+ MB\n"
     ]
    }
   ],
   "source": [
    "X_corr.info()"
   ]
  },
  {
   "cell_type": "code",
   "execution_count": null,
   "metadata": {
    "colab": {
     "base_uri": "https://localhost:8080/"
    },
    "executionInfo": {
     "elapsed": 34,
     "status": "ok",
     "timestamp": 1668450247712,
     "user": {
      "displayName": "Andrew Lazko",
      "userId": "04969080350981822544"
     },
     "user_tz": -180
    },
    "id": "IRa8r-OYTa12",
    "outputId": "54c80a1e-13fe-4f32-8b0b-da3fd193eb86"
   },
   "outputs": [
    {
     "data": {
      "text/plain": [
       "['type',\n",
       " 'priority',\n",
       " 'is_privatecategory',\n",
       " 'class',\n",
       " 'is_in_yandex',\n",
       " 'is_return',\n",
       " 'mailtype',\n",
       " 'mailctg',\n",
       " 'directctg',\n",
       " 'postmark',\n",
       " 'is_wrong_sndr_name',\n",
       " 'is_wrong_rcpn_name',\n",
       " 'is_wrong_phone_number',\n",
       " 'is_wrong_address',\n",
       " 'oper_type',\n",
       " 'oper_attr']"
      ]
     },
     "execution_count": 31,
     "metadata": {},
     "output_type": "execute_result"
    }
   ],
   "source": [
    "cat_cols = [col for col in X_corr.columns if X_corr[col].dtype=='category']\n",
    "cat_cols"
   ]
  },
  {
   "cell_type": "code",
   "execution_count": null,
   "metadata": {
    "id": "W_HtQfcITa14"
   },
   "outputs": [],
   "source": [
    "text_cols = ['name_mfi']"
   ]
  },
  {
   "cell_type": "code",
   "execution_count": null,
   "metadata": {
    "id": "o5IEYCFoXsbZ"
   },
   "outputs": [],
   "source": [
    "X_corr['name_mfi'] = X_corr['name_mfi'].fillna('missing')"
   ]
  },
  {
   "cell_type": "code",
   "execution_count": null,
   "metadata": {
    "id": "N_lt8d6vSQIe"
   },
   "outputs": [],
   "source": [
    "model = CatBoostClassifier(loss_function=\"Logloss\",  verbose=False, auto_class_weights='Balanced', random_state=11,\n",
    "                           task_type='GPU', gpu_ram_part=0.96, max_depth=3, cat_features=cat_cols, text_features=text_cols,\n",
    "                           one_hot_max_size=10)"
   ]
  },
  {
   "cell_type": "code",
   "execution_count": null,
   "metadata": {
    "id": "dRHOeDcvSP7u"
   },
   "outputs": [],
   "source": [
    "X_t_c, X_v_c, y_t_c, y_t_v = train_test_split(X_corr, y, test_size=0.3, stratify=y)"
   ]
  },
  {
   "cell_type": "code",
   "execution_count": null,
   "metadata": {
    "colab": {
     "base_uri": "https://localhost:8080/"
    },
    "executionInfo": {
     "elapsed": 624,
     "status": "ok",
     "timestamp": 1668450263853,
     "user": {
      "displayName": "Andrew Lazko",
      "userId": "04969080350981822544"
     },
     "user_tz": -180
    },
    "id": "8VpaySeuYn_X",
    "outputId": "21a44bc3-bb2e-4cde-cc82-6f37b64a9336"
   },
   "outputs": [
    {
     "data": {
      "text/plain": [
       "328"
      ]
     },
     "execution_count": 36,
     "metadata": {},
     "output_type": "execute_result"
    }
   ],
   "source": [
    "gc.collect()"
   ]
  },
  {
   "cell_type": "code",
   "execution_count": null,
   "metadata": {
    "colab": {
     "base_uri": "https://localhost:8080/"
    },
    "executionInfo": {
     "elapsed": 181226,
     "status": "ok",
     "timestamp": 1668450447849,
     "user": {
      "displayName": "Andrew Lazko",
      "userId": "04969080350981822544"
     },
     "user_tz": -180
    },
    "id": "u_gKkvu-Wqu2",
    "outputId": "778789a5-fb4c-44e4-8ee1-2ed88827f920"
   },
   "outputs": [
    {
     "data": {
      "text/plain": [
       "<catboost.core.CatBoostClassifier at 0x7f29ccd2b8d0>"
      ]
     },
     "execution_count": 37,
     "metadata": {},
     "output_type": "execute_result"
    }
   ],
   "source": [
    "model.fit(X_t_c, y_t_c)"
   ]
  },
  {
   "cell_type": "code",
   "execution_count": null,
   "metadata": {
    "colab": {
     "base_uri": "https://localhost:8080/",
     "height": 497
    },
    "executionInfo": {
     "elapsed": 1138,
     "status": "ok",
     "timestamp": 1668450756654,
     "user": {
      "displayName": "Andrew Lazko",
      "userId": "04969080350981822544"
     },
     "user_tz": -180
    },
    "id": "9kducWuCWqjn",
    "outputId": "0ab4ef9d-a61e-421f-ca4d-82eb3cc54c81"
   },
   "outputs": [
    {
     "data": {
      "image/png": "[encoded data removed]",
      "text/plain": [
       "<Figure size 576x576 with 1 Axes>"
      ]
     },
     "metadata": {},
     "output_type": "display_data"
    }
   ],
   "source": [
    "n_features = X_t_c.shape[1]\n",
    "plt.figure(figsize=(8,8))\n",
    "plt.barh(range(n_features), model.feature_importances_, align='center') \n",
    "plt.yticks(np.arange(n_features), X_t_c.columns.values) \n",
    "plt.xlabel('Feature importance')\n",
    "plt.ylabel('Feature')\n",
    "plt.show()"
   ]
  },
  {
   "cell_type": "code",
   "execution_count": null,
   "metadata": {
    "id": "-5lQc9hOWqWz"
   },
   "outputs": [],
   "source": [
    "preds = model.predict(X_v_c)"
   ]
  },
  {
   "cell_type": "code",
   "execution_count": null,
   "metadata": {
    "colab": {
     "base_uri": "https://localhost:8080/"
    },
    "executionInfo": {
     "elapsed": 1316,
     "status": "ok",
     "timestamp": 1668450931904,
     "user": {
      "displayName": "Andrew Lazko",
      "userId": "04969080350981822544"
     },
     "user_tz": -180
    },
    "id": "xoT_QhHna9Oc",
    "outputId": "8e0cdea1-e40d-4900-8011-b1ab41622a44"
   },
   "outputs": [
    {
     "data": {
      "text/plain": [
       "0.9753913321905159"
      ]
     },
     "execution_count": 42,
     "metadata": {},
     "output_type": "execute_result"
    }
   ],
   "source": [
    "my_score_func(y_t_v, preds)"
   ]
  },
  {
   "cell_type": "markdown",
   "metadata": {
    "id": "InR9-Sw0bZcq"
   },
   "source": [
    "Oper_type - утечка, понижающая нам скор на тесте, oper_attr - тоже утчека"
   ]
  },
  {
   "cell_type": "markdown",
   "metadata": {},
   "source": [
    "### Проба на лидерборде без утечек"
   ]
  },
  {
   "cell_type": "code",
   "execution_count": null,
   "metadata": {
    "id": "zZY3JyppbYJu"
   },
   "outputs": [],
   "source": [
    "X_leak = X_corr.drop(['oper_type', 'oper_attr'], axis=1)"
   ]
  },
  {
   "cell_type": "code",
   "execution_count": null,
   "metadata": {
    "id": "HfQLwmPEdbbL"
   },
   "outputs": [],
   "source": [
    "X_leak ['name_mfi'] = X_leak['name_mfi'].fillna('missing')"
   ]
  },
  {
   "cell_type": "markdown",
   "metadata": {},
   "source": [
    "Куча дубликатов без этих призанков"
   ]
  },
  {
   "cell_type": "code",
   "execution_count": null,
   "metadata": {
    "colab": {
     "base_uri": "https://localhost:8080/"
    },
    "executionInfo": {
     "elapsed": 3524,
     "status": "ok",
     "timestamp": 1668531844575,
     "user": {
      "displayName": "Andrew Lazko",
      "userId": "04969080350981822544"
     },
     "user_tz": -180
    },
    "id": "J9hLo_qpePHB",
    "outputId": "6097dd4e-fd70-43e6-c379-7921968a296a"
   },
   "outputs": [
    {
     "data": {
      "text/plain": [
       "3688913"
      ]
     },
     "execution_count": 31,
     "metadata": {},
     "output_type": "execute_result"
    }
   ],
   "source": [
    "X_leak.duplicated().sum()"
   ]
  },
  {
   "cell_type": "code",
   "execution_count": null,
   "metadata": {
    "colab": {
     "base_uri": "https://localhost:8080/"
    },
    "executionInfo": {
     "elapsed": 6365,
     "status": "ok",
     "timestamp": 1668531855360,
     "user": {
      "displayName": "Andrew Lazko",
      "userId": "04969080350981822544"
     },
     "user_tz": -180
    },
    "id": "OIaewCOjeUhp",
    "outputId": "6cfc12e6-e623-43cb-ea37-80965fd2bdd5"
   },
   "outputs": [
    {
     "data": {
      "text/plain": [
       "0"
      ]
     },
     "execution_count": 32,
     "metadata": {},
     "output_type": "execute_result"
    }
   ],
   "source": [
    "X_leak.drop_duplicates(inplace=True)\n",
    "X_leak.duplicated().sum()"
   ]
  },
  {
   "cell_type": "code",
   "execution_count": null,
   "metadata": {
    "colab": {
     "base_uri": "https://localhost:8080/"
    },
    "executionInfo": {
     "elapsed": 10,
     "status": "ok",
     "timestamp": 1668531859107,
     "user": {
      "displayName": "Andrew Lazko",
      "userId": "04969080350981822544"
     },
     "user_tz": -180
    },
    "id": "NnuFX-4mee9n",
    "outputId": "5caa52c7-d5a9-4f8f-c0a8-9096ba4ee12c"
   },
   "outputs": [
    {
     "name": "stdout",
     "output_type": "stream",
     "text": [
      "<class 'pandas.core.frame.DataFrame'>\n",
      "Int64Index: 1554400 entries, 6818780 to 8585377\n",
      "Data columns (total 31 columns):\n",
      " #   Column                  Non-Null Count    Dtype   \n",
      "---  ------                  --------------    -----   \n",
      " 0   index_oper              1554400 non-null  category\n",
      " 1   type                    1554400 non-null  category\n",
      " 2   priority                1554400 non-null  category\n",
      " 3   is_privatecategory      1554400 non-null  category\n",
      " 4   class                   1554400 non-null  category\n",
      " 5   is_in_yandex            1554400 non-null  category\n",
      " 6   is_return               1554400 non-null  category\n",
      " 7   weight                  1554400 non-null  int32   \n",
      " 8   mailtype                1554400 non-null  category\n",
      " 9   mailctg                 1554400 non-null  category\n",
      " 10  directctg               1554400 non-null  category\n",
      " 11  transport_pay           1554400 non-null  float64 \n",
      " 12  postmark                1554400 non-null  category\n",
      " 13  name_mfi                1554400 non-null  object  \n",
      " 14  weight_mfi              1554400 non-null  int16   \n",
      " 15  price_mfi               1554400 non-null  int32   \n",
      " 16  dist_qty_oper_login_1   1554400 non-null  int16   \n",
      " 17  total_qty_oper_login_1  1554400 non-null  int32   \n",
      " 18  total_qty_oper_login_0  1554400 non-null  int32   \n",
      " 19  total_qty_over_index    1554400 non-null  int32   \n",
      " 20  is_wrong_sndr_name      1554400 non-null  category\n",
      " 21  is_wrong_rcpn_name      1554400 non-null  category\n",
      " 22  is_wrong_phone_number   1554400 non-null  category\n",
      " 23  is_wrong_address        1554400 non-null  category\n",
      " 24  label                   1554400 non-null  int8    \n",
      " 25  new_1                   1554400 non-null  float64 \n",
      " 26  new_3                   1554400 non-null  float64 \n",
      " 27  new_6                   1554400 non-null  float64 \n",
      " 28  new_8                   1554400 non-null  float64 \n",
      " 29  new_9                   1554400 non-null  float64 \n",
      " 30  new_10                  1554400 non-null  float64 \n",
      "dtypes: category(15), float64(7), int16(2), int32(5), int8(1), object(1)\n",
      "memory usage: 168.2+ MB\n"
     ]
    }
   ],
   "source": [
    "X_leak.info()"
   ]
  },
  {
   "cell_type": "code",
   "execution_count": null,
   "metadata": {
    "id": "QfTodJ5shGyh"
   },
   "outputs": [],
   "source": [
    "y = X_leak.label\n",
    "X_leak.drop(['label'], axis=1, inplace=True)"
   ]
  },
  {
   "cell_type": "code",
   "execution_count": null,
   "metadata": {
    "id": "Qx1WXFezb2oE"
   },
   "outputs": [],
   "source": [
    "X_t_c, X_v_c, y_t_c, y_v_c = train_test_split(X_leak, y, test_size=0.3, stratify=y)"
   ]
  },
  {
   "cell_type": "code",
   "execution_count": null,
   "metadata": {
    "colab": {
     "base_uri": "https://localhost:8080/"
    },
    "executionInfo": {
     "elapsed": 676,
     "status": "ok",
     "timestamp": 1668531870892,
     "user": {
      "displayName": "Andrew Lazko",
      "userId": "04969080350981822544"
     },
     "user_tz": -180
    },
    "id": "PKXrTX9Pcaqg",
    "outputId": "9925d38e-b55c-453f-a50f-4d333cf65a42"
   },
   "outputs": [
    {
     "data": {
      "text/plain": [
       "['index_oper',\n",
       " 'type',\n",
       " 'priority',\n",
       " 'is_privatecategory',\n",
       " 'class',\n",
       " 'is_in_yandex',\n",
       " 'is_return',\n",
       " 'mailtype',\n",
       " 'mailctg',\n",
       " 'directctg',\n",
       " 'postmark',\n",
       " 'is_wrong_sndr_name',\n",
       " 'is_wrong_rcpn_name',\n",
       " 'is_wrong_phone_number',\n",
       " 'is_wrong_address']"
      ]
     },
     "execution_count": 36,
     "metadata": {},
     "output_type": "execute_result"
    }
   ],
   "source": [
    "cat_cols = [col for col in X_leak.columns if X_leak[col].dtype=='category']\n",
    "text_cols = ['name_mfi']\n",
    "cat_cols"
   ]
  },
  {
   "cell_type": "code",
   "execution_count": null,
   "metadata": {
    "id": "22c3qSs1cnzH"
   },
   "outputs": [],
   "source": [
    "model = CatBoostClassifier(loss_function=\"Logloss\",  verbose=False, auto_class_weights='Balanced', random_state=11,\n",
    "                           task_type='GPU', gpu_ram_part=0.96, max_depth=3, cat_features=cat_cols, text_features=text_cols,\n",
    "                           one_hot_max_size=10)"
   ]
  },
  {
   "cell_type": "code",
   "execution_count": null,
   "metadata": {
    "colab": {
     "base_uri": "https://localhost:8080/"
    },
    "executionInfo": {
     "elapsed": 8,
     "status": "ok",
     "timestamp": 1668487485804,
     "user": {
      "displayName": "Andrew Lazko",
      "userId": "04969080350981822544"
     },
     "user_tz": -180
    },
    "id": "bdxbR8ePdkYY",
    "outputId": "5a6762f2-8f89-4582-8a9d-6efb3494b2ea"
   },
   "outputs": [
    {
     "data": {
      "text/plain": [
       "115"
      ]
     },
     "execution_count": 38,
     "metadata": {},
     "output_type": "execute_result"
    }
   ],
   "source": [
    "gc.collect()"
   ]
  },
  {
   "cell_type": "code",
   "execution_count": null,
   "metadata": {
    "colab": {
     "base_uri": "https://localhost:8080/"
    },
    "executionInfo": {
     "elapsed": 61533,
     "status": "ok",
     "timestamp": 1668487552396,
     "user": {
      "displayName": "Andrew Lazko",
      "userId": "04969080350981822544"
     },
     "user_tz": -180
    },
    "id": "dAxAgUULcOba",
    "outputId": "75f5e08e-b4c2-44e4-87c9-9f6ed89437e8"
   },
   "outputs": [
    {
     "data": {
      "text/plain": [
       "<catboost.core.CatBoostClassifier at 0x7f7decb69d50>"
      ]
     },
     "execution_count": 39,
     "metadata": {},
     "output_type": "execute_result"
    }
   ],
   "source": [
    "model.fit(X_t_c, y_t_c)"
   ]
  },
  {
   "cell_type": "code",
   "execution_count": null,
   "metadata": {
    "colab": {
     "base_uri": "https://localhost:8080/",
     "height": 497
    },
    "executionInfo": {
     "elapsed": 39,
     "status": "ok",
     "timestamp": 1668487552398,
     "user": {
      "displayName": "Andrew Lazko",
      "userId": "04969080350981822544"
     },
     "user_tz": -180
    },
    "id": "Ql2PLG1JihY0",
    "outputId": "8e6026e2-6e28-467b-cae2-ad1e3371eb86"
   },
   "outputs": [
    {
     "data": {
      "image/png": "[encoded data removed]",
      "text/plain": [
       "<Figure size 576x576 with 1 Axes>"
      ]
     },
     "metadata": {},
     "output_type": "display_data"
    }
   ],
   "source": [
    "n_features = X_t_c.shape[1]\n",
    "plt.figure(figsize=(8,8))\n",
    "plt.barh(range(n_features), model.feature_importances_, align='center') \n",
    "plt.yticks(np.arange(n_features), X_t_c.columns.values) \n",
    "plt.xlabel('Feature importance')\n",
    "plt.ylabel('Feature')\n",
    "plt.show()"
   ]
  },
  {
   "cell_type": "code",
   "execution_count": null,
   "metadata": {
    "id": "hQ0DYlakihY2"
   },
   "outputs": [],
   "source": [
    "preds = model.predict(X_v_c)"
   ]
  },
  {
   "cell_type": "code",
   "execution_count": null,
   "metadata": {
    "colab": {
     "base_uri": "https://localhost:8080/"
    },
    "executionInfo": {
     "elapsed": 14,
     "status": "ok",
     "timestamp": 1668487554482,
     "user": {
      "displayName": "Andrew Lazko",
      "userId": "04969080350981822544"
     },
     "user_tz": -180
    },
    "id": "aGIhnrCkihY2",
    "outputId": "450beb19-2665-4fd3-f6af-5756d82649cf"
   },
   "outputs": [
    {
     "data": {
      "text/plain": [
       "0.8475841213684023"
      ]
     },
     "execution_count": 42,
     "metadata": {},
     "output_type": "execute_result"
    }
   ],
   "source": [
    "my_score_func(y_v_c, preds)"
   ]
  },
  {
   "cell_type": "code",
   "execution_count": null,
   "metadata": {
    "colab": {
     "base_uri": "https://localhost:8080/"
    },
    "executionInfo": {
     "elapsed": 4,
     "status": "ok",
     "timestamp": 1668531892440,
     "user": {
      "displayName": "Andrew Lazko",
      "userId": "04969080350981822544"
     },
     "user_tz": -180
    },
    "id": "g0xWD-Fyld6c",
    "outputId": "aeebfaf0-e615-40ad-fbd2-ab3fd05a769c"
   },
   "outputs": [
    {
     "data": {
      "text/plain": [
       "Index(['index_oper', 'type', 'priority', 'is_privatecategory', 'class',\n",
       "       'is_in_yandex', 'is_return', 'weight', 'mailtype', 'mailctg',\n",
       "       'directctg', 'transport_pay', 'postmark', 'name_mfi', 'weight_mfi',\n",
       "       'price_mfi', 'dist_qty_oper_login_1', 'total_qty_oper_login_1',\n",
       "       'total_qty_oper_login_0', 'total_qty_over_index', 'is_wrong_sndr_name',\n",
       "       'is_wrong_rcpn_name', 'is_wrong_phone_number', 'is_wrong_address',\n",
       "       'new_1', 'new_3', 'new_6', 'new_8', 'new_9', 'new_10'],\n",
       "      dtype='object')"
      ]
     },
     "execution_count": 37,
     "metadata": {},
     "output_type": "execute_result"
    }
   ],
   "source": [
    "X_leak.columns"
   ]
  },
  {
   "cell_type": "code",
   "execution_count": null,
   "metadata": {
    "id": "aD6xtB6ZcODJ"
   },
   "outputs": [],
   "source": [
    "X_test = pd.read_csv('/content/drive/MyDrive/quests/post/X_test_india_last.csv', dtype=types_full, index_col='id')"
   ]
  },
  {
   "cell_type": "code",
   "execution_count": null,
   "metadata": {
    "colab": {
     "base_uri": "https://localhost:8080/"
    },
    "executionInfo": {
     "elapsed": 34,
     "status": "ok",
     "timestamp": 1668531913632,
     "user": {
      "displayName": "Andrew Lazko",
      "userId": "04969080350981822544"
     },
     "user_tz": -180
    },
    "id": "yW4vKBSdnH_F",
    "outputId": "113210a0-4cf2-40c9-dd4a-88b3f7f6e841"
   },
   "outputs": [
    {
     "data": {
      "text/plain": [
       "22"
      ]
     },
     "execution_count": 39,
     "metadata": {},
     "output_type": "execute_result"
    }
   ],
   "source": [
    "gc.collect()"
   ]
  },
  {
   "cell_type": "code",
   "execution_count": null,
   "metadata": {
    "id": "ez0I6TZjmfdO"
   },
   "outputs": [],
   "source": [
    "X_test.drop(['oper_type', 'oper_attr'], axis=1, inplace=True)"
   ]
  },
  {
   "cell_type": "code",
   "execution_count": null,
   "metadata": {
    "colab": {
     "base_uri": "https://localhost:8080/"
    },
    "executionInfo": {
     "elapsed": 27,
     "status": "ok",
     "timestamp": 1668531913633,
     "user": {
      "displayName": "Andrew Lazko",
      "userId": "04969080350981822544"
     },
     "user_tz": -180
    },
    "id": "jMQVq3gAlQTD",
    "outputId": "0b54b60b-019a-42f6-ed73-4fe61362f774"
   },
   "outputs": [
    {
     "name": "stdout",
     "output_type": "stream",
     "text": [
      "<class 'pandas.core.frame.DataFrame'>\n",
      "Int64Index: 4000000 entries, 7815282 to 7776936\n",
      "Data columns (total 25 columns):\n",
      " #   Column                         Dtype   \n",
      "---  ------                         -----   \n",
      " 0   index_oper                     category\n",
      " 1   type                           category\n",
      " 2   priority                       category\n",
      " 3   is_privatecategory             category\n",
      " 4   class                          category\n",
      " 5   is_in_yandex                   category\n",
      " 6   is_return                      category\n",
      " 7   weight                         int32   \n",
      " 8   mailtype                       category\n",
      " 9   mailctg                        category\n",
      " 10  directctg                      category\n",
      " 11  transport_pay                  float64 \n",
      " 12  postmark                       category\n",
      " 13  name_mfi                       object  \n",
      " 14  weight_mfi                     int16   \n",
      " 15  price_mfi                      int32   \n",
      " 16  dist_qty_oper_login_1          int16   \n",
      " 17  total_qty_oper_login_1         int32   \n",
      " 18  total_qty_oper_login_0         int32   \n",
      " 19  total_qty_over_index_and_type  int32   \n",
      " 20  total_qty_over_index           int32   \n",
      " 21  is_wrong_sndr_name             category\n",
      " 22  is_wrong_rcpn_name             category\n",
      " 23  is_wrong_phone_number          category\n",
      " 24  is_wrong_address               category\n",
      "dtypes: category(15), float64(1), int16(2), int32(6), object(1)\n",
      "memory usage: 260.0+ MB\n"
     ]
    }
   ],
   "source": [
    "X_test.info()"
   ]
  },
  {
   "cell_type": "code",
   "execution_count": null,
   "metadata": {
    "id": "I1ot-07ZoCSG"
   },
   "outputs": [],
   "source": [
    "def gen_nf(col1, col2):\n",
    "  return X_test[col1] / X_test[col2]"
   ]
  },
  {
   "cell_type": "code",
   "execution_count": null,
   "metadata": {
    "id": "QzeuCILZnWze"
   },
   "outputs": [],
   "source": [
    "X_test['new_1'] = gen_nf('total_qty_oper_login_1', 'dist_qty_oper_login_1')\n",
    "X_test['new_3'] = gen_nf('total_qty_over_index', 'dist_qty_oper_login_1')\n",
    "X_test['new_6'] = gen_nf('total_qty_over_index', 'total_qty_oper_login_0')\n",
    "X_test['new_8'] = gen_nf('total_qty_over_index_and_type', 'total_qty_oper_login_1')\n",
    "X_test['new_9'] = gen_nf('total_qty_over_index_and_type', 'total_qty_oper_login_0')\n",
    "X_test['new_10'] = gen_nf('total_qty_over_index', 'total_qty_over_index_and_type')"
   ]
  },
  {
   "cell_type": "code",
   "execution_count": null,
   "metadata": {
    "colab": {
     "base_uri": "https://localhost:8080/"
    },
    "executionInfo": {
     "elapsed": 7,
     "status": "ok",
     "timestamp": 1668531915061,
     "user": {
      "displayName": "Andrew Lazko",
      "userId": "04969080350981822544"
     },
     "user_tz": -180
    },
    "id": "m1tpBHb1oFwC",
    "outputId": "5196dd40-0be0-4736-9135-3a0000dc703f"
   },
   "outputs": [
    {
     "name": "stdout",
     "output_type": "stream",
     "text": [
      "<class 'pandas.core.frame.DataFrame'>\n",
      "Int64Index: 4000000 entries, 7815282 to 7776936\n",
      "Data columns (total 31 columns):\n",
      " #   Column                         Dtype   \n",
      "---  ------                         -----   \n",
      " 0   index_oper                     category\n",
      " 1   type                           category\n",
      " 2   priority                       category\n",
      " 3   is_privatecategory             category\n",
      " 4   class                          category\n",
      " 5   is_in_yandex                   category\n",
      " 6   is_return                      category\n",
      " 7   weight                         int32   \n",
      " 8   mailtype                       category\n",
      " 9   mailctg                        category\n",
      " 10  directctg                      category\n",
      " 11  transport_pay                  float64 \n",
      " 12  postmark                       category\n",
      " 13  name_mfi                       object  \n",
      " 14  weight_mfi                     int16   \n",
      " 15  price_mfi                      int32   \n",
      " 16  dist_qty_oper_login_1          int16   \n",
      " 17  total_qty_oper_login_1         int32   \n",
      " 18  total_qty_oper_login_0         int32   \n",
      " 19  total_qty_over_index_and_type  int32   \n",
      " 20  total_qty_over_index           int32   \n",
      " 21  is_wrong_sndr_name             category\n",
      " 22  is_wrong_rcpn_name             category\n",
      " 23  is_wrong_phone_number          category\n",
      " 24  is_wrong_address               category\n",
      " 25  new_1                          float64 \n",
      " 26  new_3                          float64 \n",
      " 27  new_6                          float64 \n",
      " 28  new_8                          float64 \n",
      " 29  new_9                          float64 \n",
      " 30  new_10                         float64 \n",
      "dtypes: category(15), float64(7), int16(2), int32(6), object(1)\n",
      "memory usage: 443.2+ MB\n"
     ]
    }
   ],
   "source": [
    "X_test.info()"
   ]
  },
  {
   "cell_type": "code",
   "execution_count": null,
   "metadata": {
    "id": "nw7s22U_pFFh"
   },
   "outputs": [],
   "source": [
    "new_cols = ['new_1', 'new_3', 'new_6', 'new_8', 'new_9', 'new_10']"
   ]
  },
  {
   "cell_type": "code",
   "execution_count": null,
   "metadata": {
    "id": "vRs8NfDHosb7"
   },
   "outputs": [],
   "source": [
    "X_test[new_cols] = X_test[new_cols].fillna(-1)"
   ]
  },
  {
   "cell_type": "code",
   "execution_count": null,
   "metadata": {
    "id": "vpBcbnd7osb8"
   },
   "outputs": [],
   "source": [
    "X_test[new_cols] = X_test[new_cols].replace(0, -1)"
   ]
  },
  {
   "cell_type": "code",
   "execution_count": null,
   "metadata": {
    "id": "pSWLaL9ZpYwc"
   },
   "outputs": [],
   "source": [
    "X_test['name_mfi'] = X_test['name_mfi'].fillna('missing')"
   ]
  },
  {
   "cell_type": "code",
   "execution_count": null,
   "metadata": {
    "colab": {
     "base_uri": "https://localhost:8080/"
    },
    "executionInfo": {
     "elapsed": 555,
     "status": "ok",
     "timestamp": 1668531933930,
     "user": {
      "displayName": "Andrew Lazko",
      "userId": "04969080350981822544"
     },
     "user_tz": -180
    },
    "id": "j9TrHed6oX_k",
    "outputId": "84043eb5-225c-4384-8b94-2e4a77b4e697"
   },
   "outputs": [
    {
     "data": {
      "text/plain": [
       "index_oper                       0\n",
       "type                             0\n",
       "priority                         0\n",
       "is_privatecategory               0\n",
       "class                            0\n",
       "is_in_yandex                     0\n",
       "is_return                        0\n",
       "weight                           0\n",
       "mailtype                         0\n",
       "mailctg                          0\n",
       "directctg                        0\n",
       "transport_pay                    0\n",
       "postmark                         0\n",
       "name_mfi                         0\n",
       "weight_mfi                       0\n",
       "price_mfi                        0\n",
       "dist_qty_oper_login_1            0\n",
       "total_qty_oper_login_1           0\n",
       "total_qty_oper_login_0           0\n",
       "total_qty_over_index_and_type    0\n",
       "total_qty_over_index             0\n",
       "is_wrong_sndr_name               0\n",
       "is_wrong_rcpn_name               0\n",
       "is_wrong_phone_number            0\n",
       "is_wrong_address                 0\n",
       "new_1                            0\n",
       "new_3                            0\n",
       "new_6                            0\n",
       "new_8                            0\n",
       "new_9                            0\n",
       "new_10                           0\n",
       "dtype: int64"
      ]
     },
     "execution_count": 49,
     "metadata": {},
     "output_type": "execute_result"
    }
   ],
   "source": [
    "X_test.isna().sum()"
   ]
  },
  {
   "cell_type": "code",
   "execution_count": null,
   "metadata": {
    "colab": {
     "base_uri": "https://localhost:8080/"
    },
    "executionInfo": {
     "elapsed": 614,
     "status": "ok",
     "timestamp": 1668531938960,
     "user": {
      "displayName": "Andrew Lazko",
      "userId": "04969080350981822544"
     },
     "user_tz": -180
    },
    "id": "JlX85fONp1mn",
    "outputId": "8c87ca33-6e74-4cb0-ef29-c88aacdc65da"
   },
   "outputs": [
    {
     "data": {
      "text/plain": [
       "214"
      ]
     },
     "execution_count": 50,
     "metadata": {},
     "output_type": "execute_result"
    }
   ],
   "source": [
    "gc.collect()"
   ]
  },
  {
   "cell_type": "code",
   "execution_count": null,
   "metadata": {
    "id": "9vd9tF-CvgYb"
   },
   "outputs": [],
   "source": [
    "model = CatBoostClassifier(loss_function=\"Logloss\",  verbose=False, auto_class_weights='Balanced', random_state=11,\n",
    "                           task_type='GPU', gpu_ram_part=0.96, max_depth=3, cat_features=cat_cols, text_features=text_cols,\n",
    "                           one_hot_max_size=10)"
   ]
  },
  {
   "cell_type": "code",
   "execution_count": null,
   "metadata": {
    "colab": {
     "base_uri": "https://localhost:8080/"
    },
    "executionInfo": {
     "elapsed": 88346,
     "status": "ok",
     "timestamp": 1668487765823,
     "user": {
      "displayName": "Andrew Lazko",
      "userId": "04969080350981822544"
     },
     "user_tz": -180
    },
    "id": "SC6i5dSSp1i7",
    "outputId": "a8c729c7-6ba2-42b4-f68c-1df5611fb010"
   },
   "outputs": [
    {
     "data": {
      "text/plain": [
       "<catboost.core.CatBoostClassifier at 0x7f7de66d0150>"
      ]
     },
     "execution_count": 59,
     "metadata": {},
     "output_type": "execute_result"
    }
   ],
   "source": [
    "model.fit(X_leak, y)"
   ]
  },
  {
   "cell_type": "code",
   "execution_count": null,
   "metadata": {
    "id": "THYe2YBayEOX"
   },
   "outputs": [],
   "source": [
    "X_test = X_test[X_leak.columns]"
   ]
  },
  {
   "cell_type": "code",
   "execution_count": null,
   "metadata": {
    "colab": {
     "base_uri": "https://localhost:8080/"
    },
    "executionInfo": {
     "elapsed": 11,
     "status": "ok",
     "timestamp": 1668512583932,
     "user": {
      "displayName": "Andrew Lazko",
      "userId": "04969080350981822544"
     },
     "user_tz": -180
    },
    "id": "ib21v6E8yO8c",
    "outputId": "05121ad6-2ffa-4daf-893a-5dce73c534d6"
   },
   "outputs": [
    {
     "name": "stdout",
     "output_type": "stream",
     "text": [
      "<class 'pandas.core.frame.DataFrame'>\n",
      "Int64Index: 4000000 entries, 7815282 to 7776936\n",
      "Data columns (total 30 columns):\n",
      " #   Column                  Dtype   \n",
      "---  ------                  -----   \n",
      " 0   index_oper              category\n",
      " 1   type                    category\n",
      " 2   priority                category\n",
      " 3   is_privatecategory      category\n",
      " 4   class                   category\n",
      " 5   is_in_yandex            category\n",
      " 6   is_return               category\n",
      " 7   weight                  int32   \n",
      " 8   mailtype                category\n",
      " 9   mailctg                 category\n",
      " 10  directctg               category\n",
      " 11  transport_pay           float64 \n",
      " 12  postmark                category\n",
      " 13  name_mfi                object  \n",
      " 14  weight_mfi              int16   \n",
      " 15  price_mfi               int32   \n",
      " 16  dist_qty_oper_login_1   int16   \n",
      " 17  total_qty_oper_login_1  int32   \n",
      " 18  total_qty_oper_login_0  int32   \n",
      " 19  total_qty_over_index    int32   \n",
      " 20  is_wrong_sndr_name      category\n",
      " 21  is_wrong_rcpn_name      category\n",
      " 22  is_wrong_phone_number   category\n",
      " 23  is_wrong_address        category\n",
      " 24  new_1                   float64 \n",
      " 25  new_3                   float64 \n",
      " 26  new_6                   float64 \n",
      " 27  new_8                   float64 \n",
      " 28  new_9                   float64 \n",
      " 29  new_10                  float64 \n",
      "dtypes: category(15), float64(7), int16(2), int32(5), object(1)\n",
      "memory usage: 427.9+ MB\n"
     ]
    }
   ],
   "source": [
    "X_test.info()"
   ]
  },
  {
   "cell_type": "code",
   "execution_count": null,
   "metadata": {
    "id": "qiGXTgEjrcwa"
   },
   "outputs": [],
   "source": [
    "y_test = model.predict(X_test)"
   ]
  },
  {
   "cell_type": "code",
   "execution_count": null,
   "metadata": {
    "colab": {
     "base_uri": "https://localhost:8080/"
    },
    "executionInfo": {
     "elapsed": 881,
     "status": "ok",
     "timestamp": 1668487805926,
     "user": {
      "displayName": "Andrew Lazko",
      "userId": "04969080350981822544"
     },
     "user_tz": -180
    },
    "id": "ieYT-lpCrcwa",
    "outputId": "01cc10e4-d2d9-407e-e7f3-1f5bb92ec074"
   },
   "outputs": [
    {
     "data": {
      "text/plain": [
       "0.27998725"
      ]
     },
     "execution_count": 64,
     "metadata": {},
     "output_type": "execute_result"
    }
   ],
   "source": [
    "y_test.mean()"
   ]
  },
  {
   "cell_type": "code",
   "execution_count": null,
   "metadata": {
    "colab": {
     "base_uri": "https://localhost:8080/",
     "height": 206
    },
    "executionInfo": {
     "elapsed": 4166,
     "status": "ok",
     "timestamp": 1668487823499,
     "user": {
      "displayName": "Andrew Lazko",
      "userId": "04969080350981822544"
     },
     "user_tz": -180
    },
    "id": "v26XWOqgrcwb",
    "outputId": "e260aa16-5a8f-4a0a-fb60-230260b1ba56"
   },
   "outputs": [
    {
     "data": {
      "text/html": [
       "\n",
       "  <div id=\"df-a27d8514-e7b5-47c1-8ede-ab3893515c26\">\n",
       "    <div class=\"colab-df-container\">\n",
       "      <div>\n",
       "<style scoped>\n",
       "    .dataframe tbody tr th:only-of-type {\n",
       "        vertical-align: middle;\n",
       "    }\n",
       "\n",
       "    .dataframe tbody tr th {\n",
       "        vertical-align: top;\n",
       "    }\n",
       "\n",
       "    .dataframe thead th {\n",
       "        text-align: right;\n",
       "    }\n",
       "</style>\n",
       "<table border=\"1\" class=\"dataframe\">\n",
       "  <thead>\n",
       "    <tr style=\"text-align: right;\">\n",
       "      <th></th>\n",
       "      <th>id</th>\n",
       "      <th>label</th>\n",
       "    </tr>\n",
       "  </thead>\n",
       "  <tbody>\n",
       "    <tr>\n",
       "      <th>0</th>\n",
       "      <td>7815282</td>\n",
       "      <td>1</td>\n",
       "    </tr>\n",
       "    <tr>\n",
       "      <th>1</th>\n",
       "      <td>8443555</td>\n",
       "      <td>1</td>\n",
       "    </tr>\n",
       "    <tr>\n",
       "      <th>2</th>\n",
       "      <td>6352559</td>\n",
       "      <td>1</td>\n",
       "    </tr>\n",
       "    <tr>\n",
       "      <th>3</th>\n",
       "      <td>4921420</td>\n",
       "      <td>0</td>\n",
       "    </tr>\n",
       "    <tr>\n",
       "      <th>4</th>\n",
       "      <td>1420440</td>\n",
       "      <td>0</td>\n",
       "    </tr>\n",
       "  </tbody>\n",
       "</table>\n",
       "</div>\n",
       "      <button class=\"colab-df-convert\" onclick=\"convertToInteractive('df-a27d8514-e7b5-47c1-8ede-ab3893515c26')\"\n",
       "              title=\"Convert this dataframe to an interactive table.\"\n",
       "              style=\"display:none;\">\n",
       "        \n",
       "  <svg xmlns=\"http://www.w3.org/2000/svg\" height=\"24px\"viewBox=\"0 0 24 24\"\n",
       "       width=\"24px\">\n",
       "    <path d=\"M0 0h24v24H0V0z\" fill=\"none\"/>\n",
       "    <path d=\"M18.56 5.44l.94 2.06.94-2.06 2.06-.94-2.06-.94-.94-2.06-.94 2.06-2.06.94zm-11 1L8.5 8.5l.94-2.06 2.06-.94-2.06-.94L8.5 2.5l-.94 2.06-2.06.94zm10 10l.94 2.06.94-2.06 2.06-.94-2.06-.94-.94-2.06-.94 2.06-2.06.94z\"/><path d=\"M17.41 7.96l-1.37-1.37c-.4-.4-.92-.59-1.43-.59-.52 0-1.04.2-1.43.59L10.3 9.45l-7.72 7.72c-.78.78-.78 2.05 0 2.83L4 21.41c.39.39.9.59 1.41.59.51 0 1.02-.2 1.41-.59l7.78-7.78 2.81-2.81c.8-.78.8-2.07 0-2.86zM5.41 20L4 18.59l7.72-7.72 1.47 1.35L5.41 20z\"/>\n",
       "  </svg>\n",
       "      </button>\n",
       "      \n",
       "  <style>\n",
       "    .colab-df-container {\n",
       "      display:flex;\n",
       "      flex-wrap:wrap;\n",
       "      gap: 12px;\n",
       "    }\n",
       "\n",
       "    .colab-df-convert {\n",
       "      background-color: #E8F0FE;\n",
       "      border: none;\n",
       "      border-radius: 50%;\n",
       "      cursor: pointer;\n",
       "      display: none;\n",
       "      fill: #1967D2;\n",
       "      height: 32px;\n",
       "      padding: 0 0 0 0;\n",
       "      width: 32px;\n",
       "    }\n",
       "\n",
       "    .colab-df-convert:hover {\n",
       "      background-color: #E2EBFA;\n",
       "      box-shadow: 0px 1px 2px rgba(60, 64, 67, 0.3), 0px 1px 3px 1px rgba(60, 64, 67, 0.15);\n",
       "      fill: #174EA6;\n",
       "    }\n",
       "\n",
       "    [theme=dark] .colab-df-convert {\n",
       "      background-color: #3B4455;\n",
       "      fill: #D2E3FC;\n",
       "    }\n",
       "\n",
       "    [theme=dark] .colab-df-convert:hover {\n",
       "      background-color: #434B5C;\n",
       "      box-shadow: 0px 1px 3px 1px rgba(0, 0, 0, 0.15);\n",
       "      filter: drop-shadow(0px 1px 2px rgba(0, 0, 0, 0.3));\n",
       "      fill: #FFFFFF;\n",
       "    }\n",
       "  </style>\n",
       "\n",
       "      <script>\n",
       "        const buttonEl =\n",
       "          document.querySelector('#df-a27d8514-e7b5-47c1-8ede-ab3893515c26 button.colab-df-convert');\n",
       "        buttonEl.style.display =\n",
       "          google.colab.kernel.accessAllowed ? 'block' : 'none';\n",
       "\n",
       "        async function convertToInteractive(key) {\n",
       "          const element = document.querySelector('#df-a27d8514-e7b5-47c1-8ede-ab3893515c26');\n",
       "          const dataTable =\n",
       "            await google.colab.kernel.invokeFunction('convertToInteractive',\n",
       "                                                     [key], {});\n",
       "          if (!dataTable) return;\n",
       "\n",
       "          const docLinkHtml = 'Like what you see? Visit the ' +\n",
       "            '<a target=\"_blank\" href=https://colab.research.google.com/notebooks/data_table.ipynb>data table notebook</a>'\n",
       "            + ' to learn more about interactive tables.';\n",
       "          element.innerHTML = '';\n",
       "          dataTable['output_type'] = 'display_data';\n",
       "          await google.colab.output.renderOutput(dataTable, element);\n",
       "          const docLink = document.createElement('div');\n",
       "          docLink.innerHTML = docLinkHtml;\n",
       "          element.appendChild(docLink);\n",
       "        }\n",
       "      </script>\n",
       "    </div>\n",
       "  </div>\n",
       "  "
      ],
      "text/plain": [
       "        id  label\n",
       "0  7815282      1\n",
       "1  8443555      1\n",
       "2  6352559      1\n",
       "3  4921420      0\n",
       "4  1420440      0"
      ]
     },
     "metadata": {},
     "output_type": "display_data"
    }
   ],
   "source": [
    "solution = pd.DataFrame(y_test, index=X_test.index, columns=['label']).reset_index()\n",
    "\n",
    "display(solution.head())\n",
    "\n",
    "#display(X_test.head())\n",
    "\n",
    "solution.to_csv(\"/content/drive/MyDrive/quests/post/1411_india_leak2.csv\",sep=\",\", index=False, line_terminator='\\n')"
   ]
  },
  {
   "cell_type": "markdown",
   "metadata": {
    "id": "yfHHVQZqHHXm"
   },
   "source": [
    "### Отбор важных признаков"
   ]
  },
  {
   "cell_type": "code",
   "execution_count": null,
   "metadata": {
    "id": "JGv1TYTa3Q6a"
   },
   "outputs": [],
   "source": [
    "ordinal_encoder = OrdinalEncoder()"
   ]
  },
  {
   "cell_type": "code",
   "execution_count": null,
   "metadata": {
    "id": "r-O24ik2og5A"
   },
   "outputs": [],
   "source": [
    "X_full_r = X_leak.drop(['name_mfi'], axis=1)"
   ]
  },
  {
   "cell_type": "code",
   "execution_count": null,
   "metadata": {
    "id": "sp85piNB3FRz"
   },
   "outputs": [],
   "source": [
    "X_train_r, X_valid_r, y_train_r, y_valid_r = train_test_split(X_full_r, y, test_size=0.21, stratify=y, random_state=11)"
   ]
  },
  {
   "cell_type": "code",
   "execution_count": null,
   "metadata": {
    "id": "P2JXGZn05KP_"
   },
   "outputs": [],
   "source": [
    "X_train_r[['type']] = ordinal_encoder.fit_transform(X_train_r[['type']])\n",
    "X_valid_r[['type']] = ordinal_encoder.transform(X_valid_r[['type']])"
   ]
  },
  {
   "cell_type": "code",
   "execution_count": null,
   "metadata": {
    "id": "K9v7A7nfrU_W"
   },
   "outputs": [],
   "source": [
    "X_train_r['type'] = X_train_r['type'].astype('category')\n",
    "X_valid_r['type'] = X_valid_r['type'].astype('category')\n"
   ]
  },
  {
   "cell_type": "code",
   "execution_count": null,
   "metadata": {
    "colab": {
     "base_uri": "https://localhost:8080/"
    },
    "executionInfo": {
     "elapsed": 7,
     "status": "ok",
     "timestamp": 1668489033567,
     "user": {
      "displayName": "Andrew Lazko",
      "userId": "04969080350981822544"
     },
     "user_tz": -180
    },
    "id": "imEYaEGJsJIH",
    "outputId": "b9303632-ff1d-4c82-b1af-237a4306bda6"
   },
   "outputs": [
    {
     "data": {
      "text/plain": [
       "id\n",
       "53075       3.0\n",
       "6105422     4.0\n",
       "4924346    19.0\n",
       "6857083     3.0\n",
       "9841382    10.0\n",
       "2587771    15.0\n",
       "6663603     3.0\n",
       "1217727     4.0\n",
       "7344859    19.0\n",
       "Name: type, dtype: category\n",
       "Categories (20, float64): [0.0, 1.0, 2.0, 3.0, ..., 16.0, 17.0, 18.0, 19.0]"
      ]
     },
     "execution_count": 95,
     "metadata": {},
     "output_type": "execute_result"
    }
   ],
   "source": [
    "X_train_r['type'].sample(9)"
   ]
  },
  {
   "cell_type": "code",
   "execution_count": null,
   "metadata": {
    "id": "s2TCGwNTtmOJ"
   },
   "outputs": [],
   "source": [
    "for col in cat_cols:\n",
    "  X_train_r[col] = X_train_r[col].astype('int')\n",
    "  X_valid_r[col] = X_valid_r[col].astype('int')"
   ]
  },
  {
   "cell_type": "code",
   "execution_count": null,
   "metadata": {
    "colab": {
     "base_uri": "https://localhost:8080/"
    },
    "executionInfo": {
     "elapsed": 8,
     "status": "ok",
     "timestamp": 1668489084666,
     "user": {
      "displayName": "Andrew Lazko",
      "userId": "04969080350981822544"
     },
     "user_tz": -180
    },
    "id": "2Ast9heSt0we",
    "outputId": "73758031-e040-43c8-bada-732d1b651376"
   },
   "outputs": [
    {
     "name": "stdout",
     "output_type": "stream",
     "text": [
      "<class 'pandas.core.frame.DataFrame'>\n",
      "Int64Index: 1227976 entries, 7501592 to 387049\n",
      "Data columns (total 29 columns):\n",
      " #   Column                  Non-Null Count    Dtype  \n",
      "---  ------                  --------------    -----  \n",
      " 0   index_oper              1227976 non-null  int64  \n",
      " 1   type                    1227976 non-null  int64  \n",
      " 2   priority                1227976 non-null  int64  \n",
      " 3   is_privatecategory      1227976 non-null  int64  \n",
      " 4   class                   1227976 non-null  int64  \n",
      " 5   is_in_yandex            1227976 non-null  int64  \n",
      " 6   is_return               1227976 non-null  int64  \n",
      " 7   weight                  1227976 non-null  int32  \n",
      " 8   mailtype                1227976 non-null  int64  \n",
      " 9   mailctg                 1227976 non-null  int64  \n",
      " 10  directctg               1227976 non-null  int64  \n",
      " 11  transport_pay           1227976 non-null  float64\n",
      " 12  postmark                1227976 non-null  int64  \n",
      " 13  weight_mfi              1227976 non-null  int16  \n",
      " 14  price_mfi               1227976 non-null  int32  \n",
      " 15  dist_qty_oper_login_1   1227976 non-null  int16  \n",
      " 16  total_qty_oper_login_1  1227976 non-null  int32  \n",
      " 17  total_qty_oper_login_0  1227976 non-null  int32  \n",
      " 18  total_qty_over_index    1227976 non-null  int32  \n",
      " 19  is_wrong_sndr_name      1227976 non-null  int64  \n",
      " 20  is_wrong_rcpn_name      1227976 non-null  int64  \n",
      " 21  is_wrong_phone_number   1227976 non-null  int64  \n",
      " 22  is_wrong_address        1227976 non-null  int64  \n",
      " 23  new_1                   1227976 non-null  float64\n",
      " 24  new_3                   1227976 non-null  float64\n",
      " 25  new_6                   1227976 non-null  float64\n",
      " 26  new_8                   1227976 non-null  float64\n",
      " 27  new_9                   1227976 non-null  float64\n",
      " 28  new_10                  1227976 non-null  float64\n",
      "dtypes: float64(7), int16(2), int32(5), int64(15)\n",
      "memory usage: 243.6 MB\n"
     ]
    }
   ],
   "source": [
    "X_train_r.info()"
   ]
  },
  {
   "cell_type": "code",
   "execution_count": null,
   "metadata": {
    "id": "PsY7XaNH5J52"
   },
   "outputs": [],
   "source": [
    "model = CatBoostClassifier(loss_function=\"Logloss\",  verbose=False, auto_class_weights='Balanced', random_state=11,\n",
    "                           task_type='GPU', gpu_ram_part=0.96, max_depth=3)\n",
    "                           #cat_features=cat_cols, one_hot_max_size=10) # **b_p)"
   ]
  },
  {
   "cell_type": "code",
   "execution_count": null,
   "metadata": {
    "colab": {
     "base_uri": "https://localhost:8080/"
    },
    "executionInfo": {
     "elapsed": 13747,
     "status": "ok",
     "timestamp": 1668490497756,
     "user": {
      "displayName": "Andrew Lazko",
      "userId": "04969080350981822544"
     },
     "user_tz": -180
    },
    "id": "wSrsrMmEq8fH",
    "outputId": "053352df-75f0-464c-9635-421b5c63ea61"
   },
   "outputs": [
    {
     "data": {
      "text/plain": [
       "<catboost.core.CatBoostClassifier at 0x7f7dd03ce350>"
      ]
     },
     "execution_count": 105,
     "metadata": {},
     "output_type": "execute_result"
    }
   ],
   "source": [
    "model.fit(X_train_r, y_train_r, eval_set=[(X_valid_r, y_valid_r)], early_stopping_rounds=99, verbose=False)"
   ]
  },
  {
   "cell_type": "code",
   "execution_count": null,
   "metadata": {
    "id": "QV7eEsMRq8Wd"
   },
   "outputs": [],
   "source": [
    "feats_selector = RFECV(model, cv= 5, step=1, scoring=my_scorer)"
   ]
  },
  {
   "cell_type": "code",
   "execution_count": null,
   "metadata": {
    "id": "BhQxNG0uq8Kw"
   },
   "outputs": [],
   "source": [
    "feats_selector = feats_selector.fit(X_train_r, y_train_r, )"
   ]
  },
  {
   "cell_type": "code",
   "execution_count": null,
   "metadata": {
    "id": "7fMU-F1Uusx5"
   },
   "outputs": [],
   "source": [
    "rfecv_mask = feats_selector.get_support() #list of booleans\n",
    "rfecv_features = [] \n",
    "for bool, feature in zip(rfecv_mask, X_train_r.columns):\n",
    "  if bool:\n",
    "    rfecv_features.append(feature)"
   ]
  },
  {
   "cell_type": "code",
   "execution_count": null,
   "metadata": {
    "colab": {
     "base_uri": "https://localhost:8080/"
    },
    "executionInfo": {
     "elapsed": 4,
     "status": "ok",
     "timestamp": 1668492441935,
     "user": {
      "displayName": "Andrew Lazko",
      "userId": "04969080350981822544"
     },
     "user_tz": -180
    },
    "id": "qOEAHWLPuz4C",
    "outputId": "8153867e-140f-4708-f35d-dffec53f9007"
   },
   "outputs": [
    {
     "name": "stdout",
     "output_type": "stream",
     "text": [
      "Optimal number of features : 23\n",
      "Best features : ['index_oper', 'type', 'is_privatecategory', 'class', 'is_in_yandex', 'weight', 'mailctg', 'directctg', 'transport_pay', 'weight_mfi', 'price_mfi', 'dist_qty_oper_login_1', 'total_qty_oper_login_1', 'total_qty_oper_login_0', 'total_qty_over_index', 'is_wrong_rcpn_name', 'is_wrong_phone_number', 'new_1', 'new_3', 'new_6', 'new_8', 'new_9', 'new_10']\n"
     ]
    }
   ],
   "source": [
    "print('Optimal number of features :', feats_selector.n_features_)\n",
    "print('Best features :', rfecv_features)"
   ]
  },
  {
   "cell_type": "code",
   "execution_count": null,
   "metadata": {
    "colab": {
     "base_uri": "https://localhost:8080/",
     "height": 497
    },
    "executionInfo": {
     "elapsed": 980,
     "status": "ok",
     "timestamp": 1668492446870,
     "user": {
      "displayName": "Andrew Lazko",
      "userId": "04969080350981822544"
     },
     "user_tz": -180
    },
    "id": "2s74-Mjnz05c",
    "outputId": "f8c5ee33-096d-4241-8608-ec948dc9cc11"
   },
   "outputs": [
    {
     "data": {
      "image/png": "[encoded data removed]",
      "text/plain": [
       "<Figure size 576x576 with 1 Axes>"
      ]
     },
     "metadata": {},
     "output_type": "display_data"
    }
   ],
   "source": [
    "n_features = X_train_r.shape[1]\n",
    "plt.figure(figsize=(8,8))\n",
    "plt.barh(range(n_features), model.feature_importances_, align='center') \n",
    "plt.yticks(np.arange(n_features), X_train_r.columns.values) \n",
    "plt.xlabel('Feature importance')\n",
    "plt.ylabel('Feature')\n",
    "plt.show()"
   ]
  },
  {
   "cell_type": "markdown",
   "metadata": {
    "id": "BMAmcMBI4ng7"
   },
   "source": [
    "Optimal number of features : 23\n",
    "Best features : ['index_oper', 'type', 'is_privatecategory', 'class', 'is_in_yandex', 'weight', 'mailctg', 'directctg', 'transport_pay', 'weight_mfi', 'price_mfi', 'dist_qty_oper_login_1', 'total_qty_oper_login_1', 'total_qty_oper_login_0', 'total_qty_over_index', 'is_wrong_rcpn_name', 'is_wrong_phone_number', 'new_1', 'new_3', 'new_6', 'new_8', 'new_9', 'new_10'"
   ]
  },
  {
   "cell_type": "markdown",
   "metadata": {
    "id": "oZJl1QRtdCgK"
   },
   "source": [
    "### CatBoost"
   ]
  },
  {
   "cell_type": "code",
   "execution_count": null,
   "metadata": {
    "colab": {
     "base_uri": "https://localhost:8080/"
    },
    "executionInfo": {
     "elapsed": 1133,
     "status": "ok",
     "timestamp": 1668531992499,
     "user": {
      "displayName": "Andrew Lazko",
      "userId": "04969080350981822544"
     },
     "user_tz": -180
    },
    "id": "CZZityIB6o_Z",
    "outputId": "13f2b550-a07d-40de-b145-ddea91100a07"
   },
   "outputs": [
    {
     "name": "stdout",
     "output_type": "stream",
     "text": [
      "<class 'pandas.core.frame.DataFrame'>\n",
      "Int64Index: 1554400 entries, 6818780 to 8585377\n",
      "Data columns (total 30 columns):\n",
      " #   Column                  Non-Null Count    Dtype   \n",
      "---  ------                  --------------    -----   \n",
      " 0   index_oper              1554400 non-null  category\n",
      " 1   type                    1554400 non-null  category\n",
      " 2   priority                1554400 non-null  category\n",
      " 3   is_privatecategory      1554400 non-null  category\n",
      " 4   class                   1554400 non-null  category\n",
      " 5   is_in_yandex            1554400 non-null  category\n",
      " 6   is_return               1554400 non-null  category\n",
      " 7   weight                  1554400 non-null  int32   \n",
      " 8   mailtype                1554400 non-null  category\n",
      " 9   mailctg                 1554400 non-null  category\n",
      " 10  directctg               1554400 non-null  category\n",
      " 11  transport_pay           1554400 non-null  float64 \n",
      " 12  postmark                1554400 non-null  category\n",
      " 13  name_mfi                1554400 non-null  object  \n",
      " 14  weight_mfi              1554400 non-null  int16   \n",
      " 15  price_mfi               1554400 non-null  int32   \n",
      " 16  dist_qty_oper_login_1   1554400 non-null  int16   \n",
      " 17  total_qty_oper_login_1  1554400 non-null  int32   \n",
      " 18  total_qty_oper_login_0  1554400 non-null  int32   \n",
      " 19  total_qty_over_index    1554400 non-null  int32   \n",
      " 20  is_wrong_sndr_name      1554400 non-null  category\n",
      " 21  is_wrong_rcpn_name      1554400 non-null  category\n",
      " 22  is_wrong_phone_number   1554400 non-null  category\n",
      " 23  is_wrong_address        1554400 non-null  category\n",
      " 24  new_1                   1554400 non-null  float64 \n",
      " 25  new_3                   1554400 non-null  float64 \n",
      " 26  new_6                   1554400 non-null  float64 \n",
      " 27  new_8                   1554400 non-null  float64 \n",
      " 28  new_9                   1554400 non-null  float64 \n",
      " 29  new_10                  1554400 non-null  float64 \n",
      "dtypes: category(15), float64(7), int16(2), int32(5), object(1)\n",
      "memory usage: 166.7+ MB\n"
     ]
    }
   ],
   "source": [
    "X_leak.info()"
   ]
  },
  {
   "cell_type": "code",
   "execution_count": null,
   "metadata": {
    "colab": {
     "base_uri": "https://localhost:8080/",
     "height": 52
    },
    "executionInfo": {
     "elapsed": 5,
     "status": "ok",
     "timestamp": 1668531993664,
     "user": {
      "displayName": "Andrew Lazko",
      "userId": "04969080350981822544"
     },
     "user_tz": -180
    },
    "id": "KhZsMnqy6tVO",
    "outputId": "8da5df9e-fdc0-494f-9745-ee0e9cf734b5"
   },
   "outputs": [
    {
     "data": {
      "text/plain": [
       "(1554400,)"
      ]
     },
     "metadata": {},
     "output_type": "display_data"
    },
    {
     "data": {
      "text/plain": [
       "(1554400, 30)"
      ]
     },
     "execution_count": 53,
     "metadata": {},
     "output_type": "execute_result"
    }
   ],
   "source": [
    "display(y.shape)\n",
    "X_leak.shape"
   ]
  },
  {
   "cell_type": "code",
   "execution_count": null,
   "metadata": {
    "colab": {
     "base_uri": "https://localhost:8080/"
    },
    "executionInfo": {
     "elapsed": 4,
     "status": "ok",
     "timestamp": 1668531995869,
     "user": {
      "displayName": "Andrew Lazko",
      "userId": "04969080350981822544"
     },
     "user_tz": -180
    },
    "id": "Aqyv1LLha6eX",
    "outputId": "ba7a0980-d24a-4dac-e537-e8bcba8b269f"
   },
   "outputs": [
    {
     "data": {
      "text/plain": [
       "0.10417653113741637"
      ]
     },
     "execution_count": 54,
     "metadata": {},
     "output_type": "execute_result"
    }
   ],
   "source": [
    "y.mean()"
   ]
  },
  {
   "cell_type": "markdown",
   "metadata": {},
   "source": [
    "Используем только те признаки, что отобрал RFECV"
   ]
  },
  {
   "cell_type": "code",
   "execution_count": null,
   "metadata": {
    "id": "F-52xrw2bXUQ"
   },
   "outputs": [],
   "source": [
    "X_main = X_leak[['index_oper', 'type', 'is_privatecategory', 'class', 'is_in_yandex',\n",
    "                 'weight', 'mailctg', 'directctg', 'transport_pay', 'weight_mfi',\n",
    "                 'price_mfi', 'dist_qty_oper_login_1', 'total_qty_oper_login_1',\n",
    "                 'total_qty_oper_login_0', 'total_qty_over_index', 'is_wrong_rcpn_name',\n",
    "                 'is_wrong_phone_number', 'new_1', 'new_3', 'new_6', 'new_8', 'new_9', 'new_10', 'name_mfi']]"
   ]
  },
  {
   "cell_type": "code",
   "execution_count": null,
   "metadata": {
    "colab": {
     "base_uri": "https://localhost:8080/"
    },
    "executionInfo": {
     "elapsed": 13,
     "status": "ok",
     "timestamp": 1668532004547,
     "user": {
      "displayName": "Andrew Lazko",
      "userId": "04969080350981822544"
     },
     "user_tz": -180
    },
    "id": "XQ09uf_I7TBC",
    "outputId": "e501d9b6-b38d-40ec-fa2d-584ca53ec770"
   },
   "outputs": [
    {
     "name": "stdout",
     "output_type": "stream",
     "text": [
      "<class 'pandas.core.frame.DataFrame'>\n",
      "Int64Index: 1554400 entries, 6818780 to 8585377\n",
      "Data columns (total 24 columns):\n",
      " #   Column                  Non-Null Count    Dtype   \n",
      "---  ------                  --------------    -----   \n",
      " 0   index_oper              1554400 non-null  category\n",
      " 1   type                    1554400 non-null  category\n",
      " 2   is_privatecategory      1554400 non-null  category\n",
      " 3   class                   1554400 non-null  category\n",
      " 4   is_in_yandex            1554400 non-null  category\n",
      " 5   weight                  1554400 non-null  int32   \n",
      " 6   mailctg                 1554400 non-null  category\n",
      " 7   directctg               1554400 non-null  category\n",
      " 8   transport_pay           1554400 non-null  float64 \n",
      " 9   weight_mfi              1554400 non-null  int16   \n",
      " 10  price_mfi               1554400 non-null  int32   \n",
      " 11  dist_qty_oper_login_1   1554400 non-null  int16   \n",
      " 12  total_qty_oper_login_1  1554400 non-null  int32   \n",
      " 13  total_qty_oper_login_0  1554400 non-null  int32   \n",
      " 14  total_qty_over_index    1554400 non-null  int32   \n",
      " 15  is_wrong_rcpn_name      1554400 non-null  category\n",
      " 16  is_wrong_phone_number   1554400 non-null  category\n",
      " 17  new_1                   1554400 non-null  float64 \n",
      " 18  new_3                   1554400 non-null  float64 \n",
      " 19  new_6                   1554400 non-null  float64 \n",
      " 20  new_8                   1554400 non-null  float64 \n",
      " 21  new_9                   1554400 non-null  float64 \n",
      " 22  new_10                  1554400 non-null  float64 \n",
      " 23  name_mfi                1554400 non-null  object  \n",
      "dtypes: category(9), float64(7), int16(2), int32(5), object(1)\n",
      "memory usage: 157.8+ MB\n"
     ]
    }
   ],
   "source": [
    "X_main.info()"
   ]
  },
  {
   "cell_type": "code",
   "execution_count": null,
   "metadata": {
    "colab": {
     "base_uri": "https://localhost:8080/"
    },
    "executionInfo": {
     "elapsed": 1341,
     "status": "ok",
     "timestamp": 1668532034904,
     "user": {
      "displayName": "Andrew Lazko",
      "userId": "04969080350981822544"
     },
     "user_tz": -180
    },
    "id": "SQR6CokydCgK",
    "outputId": "e99222a7-b9fa-4d1b-d2fa-b5ed9799746b"
   },
   "outputs": [
    {
     "data": {
      "text/plain": [
       "['index_oper',\n",
       " 'type',\n",
       " 'is_privatecategory',\n",
       " 'class',\n",
       " 'is_in_yandex',\n",
       " 'mailctg',\n",
       " 'directctg',\n",
       " 'is_wrong_rcpn_name',\n",
       " 'is_wrong_phone_number']"
      ]
     },
     "execution_count": 57,
     "metadata": {},
     "output_type": "execute_result"
    }
   ],
   "source": [
    "cat_cols = [col for col in X_main.columns if X_main[col].dtype=='category']\n",
    "cat_cols"
   ]
  },
  {
   "cell_type": "code",
   "execution_count": null,
   "metadata": {
    "id": "Fv8_tQE1cA0f"
   },
   "outputs": [],
   "source": [
    "text_cols = ['name_mfi']"
   ]
  },
  {
   "cell_type": "code",
   "execution_count": null,
   "metadata": {
    "id": "ZioINyRo1X7T"
   },
   "outputs": [],
   "source": [
    "X_train, X_valid, y_train, y_valid = train_test_split(X_main, y, test_size=0.3, stratify=y, random_state=11)"
   ]
  },
  {
   "cell_type": "code",
   "execution_count": null,
   "metadata": {
    "id": "XdQL11oPbs_t"
   },
   "outputs": [],
   "source": [
    "def objective(trial, X_train=X_train, X_valid=X_valid, y_train=y_train, y_valid = y_valid, cat_cols=cat_cols, text_cols=text_cols):\n",
    "    learn_pool = Pool(\n",
    "        X_train, \n",
    "        y_train, \n",
    "        cat_features=cat_cols,\n",
    "        text_features=text_cols,\n",
    "        feature_names=list(X_train)\n",
    "    )\n",
    "    valid_pool = Pool(\n",
    "        X_valid, \n",
    "        y_valid, \n",
    "        cat_features=cat_cols,\n",
    "        text_features=text_cols,\n",
    "        feature_names=list(X_train)\n",
    "    )\n",
    "    param = {\n",
    "        #'cat_features': cat_cols,\n",
    "        'one_hot_max_size': 10,\n",
    "        'verbose': False,\n",
    "        'loss_function': 'Logloss',\n",
    "        'task_type': 'GPU',\n",
    "        'gpu_ram_part': 0.96,\n",
    "        'auto_class_weights': trial.suggest_categorical(\"auto_class_weights\", [\"Balanced\"]),\n",
    "        \"objective\": trial.suggest_categorical(\"objective\", [\"Logloss\"]),\n",
    "        #\"colsample_bylevel\": trial.suggest_float(\"colsample_bylevel\", 0.01, 0.1, log=True),\n",
    "        'l2_leaf_reg': trial.suggest_float('l2_leaf_reg', 0.001, 9),\n",
    "        # \"boosting_type\": trial.suggest_categorical(\"boosting_type\", [\"Ordered\", \"Plain\"]),\n",
    "        \"bootstrap_type\": trial.suggest_categorical(\"bootstrap_type\", [\"Bernoulli\"]), #,\"Bayesian\", \"MVS\"]),\n",
    "        'learning_rate': trial.suggest_float('learning_rate', 0.01, 0.1),\n",
    "        'n_estimators':  trial.suggest_int('n_estimators', 150, 3000),\n",
    "        'max_depth': trial.suggest_categorical('max_depth', [4, 5 ,6, 7, 8, 9, 10, 11, 12,\n",
    "                                                             13, 14, 15, 16]),\n",
    "        'random_state': trial.suggest_categorical('random_state', [11]),\n",
    "        'min_data_in_leaf': trial.suggest_int('min_data_in_leaf', 1, 100)\n",
    "      #   \"tokenizers\" : [{\"tokenizer_id\" : \"Sence\", \n",
    "      #                    \"separator_type\" : \"BySense\", \n",
    "      #                    'lowercasing': 'True',\n",
    "      #                    'token_types':['Word'],\n",
    "      #                    'sub_tokens_policy':'SeveralTokens'\n",
    "      #                    }],\n",
    "\n",
    "      #  \"dictionaries\" : [{\"dictionary_id\" : \"BiGram\", \n",
    "      #                     \"max_dictionary_size\" : \"50000\",\n",
    "      #                     \"occurrence_lower_bound\" : \"3\",\n",
    "      #                     \"gram_order\" : \"2\"\n",
    "      #                    },\n",
    "      #                    {\"dictionary_id\" : \"Word\",\n",
    "      #                     \"max_dictionary_size\" : \"50000\",\n",
    "      #                     \"occurrence_lower_bound\" : \"3\",\n",
    "      #                     \"gram_order\" : \"1\",\n",
    "      #                     \"min_token_occurrence\": \"5\"\n",
    "      #                     }],\n",
    "             \n",
    "      # 'feature_calcers': ['BoW:top_tokens_count=3000'],\n",
    "\n",
    "      # \"feature_processing\" : {\n",
    "      #     \"default\" : [{\n",
    "      #         \"dictionaries_names\" : [\"BiGram\", \"Word\"],\n",
    "      #         \"feature_calcers\" : [\"BoW\"],\n",
    "      #         \"tokenizers_names\" : [\"Space\"]\n",
    "      #      }, {\"dictionaries_names\" : [\"Word\"],\n",
    "      #          \"feature_calcers\" : [\"NaiveBayes\"],\n",
    "      #          \"tokenizers_names\" : [\"Space\"]\n",
    "      #          }],\n",
    "      #  }\n",
    "        \n",
    "    }\n",
    "\n",
    "\n",
    "    if param[\"bootstrap_type\"] == \"Bayesian\":\n",
    "        param[\"bagging_temperature\"] = trial.suggest_float(\"bagging_temperature\", 0, 10)\n",
    "    elif param[\"bootstrap_type\"] == \"Bernoulli\":\n",
    "        param[\"subsample\"] = trial.suggest_float(\"subsample\", 0.1, 1, log=True)\n",
    "    \n",
    "    #cv=StratifiedKFold(n_splits=5, random_state=23071983, shuffle=True)\n",
    "    \n",
    "    model = CatBoostClassifier(**param)  \n",
    "    model.fit(learn_pool, eval_set=valid_pool, early_stopping_rounds=99, verbose=False)\n",
    "    preds = model.predict(X_valid)\n",
    "    score = my_score_func(y_valid, preds)\n",
    "    \n",
    "    return score #cross_val_score(model, X_train, y_train,cv=cv,scoring=my_scorer, verbose=False).mean()"
   ]
  },
  {
   "cell_type": "code",
   "execution_count": null,
   "metadata": {
    "colab": {
     "base_uri": "https://localhost:8080/"
    },
    "executionInfo": {
     "elapsed": 4,
     "status": "ok",
     "timestamp": 1668532055751,
     "user": {
      "displayName": "Andrew Lazko",
      "userId": "04969080350981822544"
     },
     "user_tz": -180
    },
    "id": "ZSselqbRhTbK",
    "outputId": "ef176180-1daf-4ad3-b752-4c9b0abd3667"
   },
   "outputs": [
    {
     "data": {
      "text/plain": [
       "66"
      ]
     },
     "execution_count": 61,
     "metadata": {},
     "output_type": "execute_result"
    }
   ],
   "source": [
    "gc.collect()"
   ]
  },
  {
   "cell_type": "code",
   "execution_count": null,
   "metadata": {
    "colab": {
     "base_uri": "https://localhost:8080/"
    },
    "executionInfo": {
     "elapsed": 3,
     "status": "ok",
     "timestamp": 1668532057154,
     "user": {
      "displayName": "Andrew Lazko",
      "userId": "04969080350981822544"
     },
     "user_tz": -180
    },
    "id": "JhXx5YsR3wsO",
    "outputId": "83290bc5-2506-4114-b942-2f103a4b60dd"
   },
   "outputs": [
    {
     "name": "stdout",
     "output_type": "stream",
     "text": [
      "<class 'pandas.core.frame.DataFrame'>\n",
      "Int64Index: 1088080 entries, 7762582 to 387049\n",
      "Data columns (total 24 columns):\n",
      " #   Column                  Non-Null Count    Dtype   \n",
      "---  ------                  --------------    -----   \n",
      " 0   index_oper              1088080 non-null  category\n",
      " 1   type                    1088080 non-null  category\n",
      " 2   is_privatecategory      1088080 non-null  category\n",
      " 3   class                   1088080 non-null  category\n",
      " 4   is_in_yandex            1088080 non-null  category\n",
      " 5   weight                  1088080 non-null  int32   \n",
      " 6   mailctg                 1088080 non-null  category\n",
      " 7   directctg               1088080 non-null  category\n",
      " 8   transport_pay           1088080 non-null  float64 \n",
      " 9   weight_mfi              1088080 non-null  int16   \n",
      " 10  price_mfi               1088080 non-null  int32   \n",
      " 11  dist_qty_oper_login_1   1088080 non-null  int16   \n",
      " 12  total_qty_oper_login_1  1088080 non-null  int32   \n",
      " 13  total_qty_oper_login_0  1088080 non-null  int32   \n",
      " 14  total_qty_over_index    1088080 non-null  int32   \n",
      " 15  is_wrong_rcpn_name      1088080 non-null  category\n",
      " 16  is_wrong_phone_number   1088080 non-null  category\n",
      " 17  new_1                   1088080 non-null  float64 \n",
      " 18  new_3                   1088080 non-null  float64 \n",
      " 19  new_6                   1088080 non-null  float64 \n",
      " 20  new_8                   1088080 non-null  float64 \n",
      " 21  new_9                   1088080 non-null  float64 \n",
      " 22  new_10                  1088080 non-null  float64 \n",
      " 23  name_mfi                1088080 non-null  object  \n",
      "dtypes: category(9), float64(7), int16(2), int32(5), object(1)\n",
      "memory usage: 110.7+ MB\n"
     ]
    }
   ],
   "source": [
    "X_train.info()"
   ]
  },
  {
   "cell_type": "code",
   "execution_count": null,
   "metadata": {
    "colab": {
     "base_uri": "https://localhost:8080/"
    },
    "executionInfo": {
     "elapsed": 5,
     "status": "ok",
     "timestamp": 1668532060738,
     "user": {
      "displayName": "Andrew Lazko",
      "userId": "04969080350981822544"
     },
     "user_tz": -180
    },
    "id": "XwFtsEad37Fz",
    "outputId": "1df9ba02-d2a9-43e6-8872-9ca52eda8f68"
   },
   "outputs": [
    {
     "name": "stdout",
     "output_type": "stream",
     "text": [
      "<class 'pandas.core.frame.DataFrame'>\n",
      "Int64Index: 466320 entries, 7395779 to 6428208\n",
      "Data columns (total 24 columns):\n",
      " #   Column                  Non-Null Count   Dtype   \n",
      "---  ------                  --------------   -----   \n",
      " 0   index_oper              466320 non-null  category\n",
      " 1   type                    466320 non-null  category\n",
      " 2   is_privatecategory      466320 non-null  category\n",
      " 3   class                   466320 non-null  category\n",
      " 4   is_in_yandex            466320 non-null  category\n",
      " 5   weight                  466320 non-null  int32   \n",
      " 6   mailctg                 466320 non-null  category\n",
      " 7   directctg               466320 non-null  category\n",
      " 8   transport_pay           466320 non-null  float64 \n",
      " 9   weight_mfi              466320 non-null  int16   \n",
      " 10  price_mfi               466320 non-null  int32   \n",
      " 11  dist_qty_oper_login_1   466320 non-null  int16   \n",
      " 12  total_qty_oper_login_1  466320 non-null  int32   \n",
      " 13  total_qty_oper_login_0  466320 non-null  int32   \n",
      " 14  total_qty_over_index    466320 non-null  int32   \n",
      " 15  is_wrong_rcpn_name      466320 non-null  category\n",
      " 16  is_wrong_phone_number   466320 non-null  category\n",
      " 17  new_1                   466320 non-null  float64 \n",
      " 18  new_3                   466320 non-null  float64 \n",
      " 19  new_6                   466320 non-null  float64 \n",
      " 20  new_8                   466320 non-null  float64 \n",
      " 21  new_9                   466320 non-null  float64 \n",
      " 22  new_10                  466320 non-null  float64 \n",
      " 23  name_mfi                466320 non-null  object  \n",
      "dtypes: category(9), float64(7), int16(2), int32(5), object(1)\n",
      "memory usage: 47.8+ MB\n"
     ]
    }
   ],
   "source": [
    "X_valid.info()"
   ]
  },
  {
   "cell_type": "code",
   "execution_count": null,
   "metadata": {
    "colab": {
     "base_uri": "https://localhost:8080/",
     "height": 52
    },
    "executionInfo": {
     "elapsed": 1326,
     "status": "ok",
     "timestamp": 1668532079780,
     "user": {
      "displayName": "Andrew Lazko",
      "userId": "04969080350981822544"
     },
     "user_tz": -180
    },
    "id": "dyfDq_u54Fsa",
    "outputId": "4f64ee09-c798-43ee-ba2f-a2e17dffbab8"
   },
   "outputs": [
    {
     "data": {
      "text/plain": [
       "0.10417616351738843"
      ]
     },
     "metadata": {},
     "output_type": "display_data"
    },
    {
     "data": {
      "text/plain": [
       "(1088080,)"
      ]
     },
     "execution_count": 64,
     "metadata": {},
     "output_type": "execute_result"
    }
   ],
   "source": [
    "display(y_train.mean())\n",
    "y_train.shape"
   ]
  },
  {
   "cell_type": "code",
   "execution_count": null,
   "metadata": {
    "colab": {
     "base_uri": "https://localhost:8080/",
     "height": 52
    },
    "executionInfo": {
     "elapsed": 14,
     "status": "ok",
     "timestamp": 1668532082887,
     "user": {
      "displayName": "Andrew Lazko",
      "userId": "04969080350981822544"
     },
     "user_tz": -180
    },
    "id": "ZbId2qYQ4QPo",
    "outputId": "d014c891-b3a8-4554-80a6-8807d5b246b3"
   },
   "outputs": [
    {
     "data": {
      "text/plain": [
       "0.10417738891748156"
      ]
     },
     "metadata": {},
     "output_type": "display_data"
    },
    {
     "data": {
      "text/plain": [
       "(466320,)"
      ]
     },
     "execution_count": 65,
     "metadata": {},
     "output_type": "execute_result"
    }
   ],
   "source": [
    "display(y_valid.mean())\n",
    "y_valid.shape"
   ]
  },
  {
   "cell_type": "code",
   "execution_count": null,
   "metadata": {
    "colab": {
     "base_uri": "https://localhost:8080/"
    },
    "executionInfo": {
     "elapsed": 5462369,
     "status": "ok",
     "timestamp": 1668501158929,
     "user": {
      "displayName": "Andrew Lazko",
      "userId": "04969080350981822544"
     },
     "user_tz": -180
    },
    "id": "CkFnezDkg4sa",
    "outputId": "69b1dc98-639c-43f9-f487-363cbbb4ae7c"
   },
   "outputs": [
    {
     "name": "stderr",
     "output_type": "stream",
     "text": [
      "\u001b[32m[I 2022-11-15 07:01:35,441]\u001b[0m A new study created in memory with name: no-name-7f4edac9-efc5-4132-934d-da3ed83025ad\u001b[0m\n",
      "\u001b[32m[I 2022-11-15 07:02:49,604]\u001b[0m Trial 0 finished with value: 0.852794215193469 and parameters: {'auto_class_weights': 'Balanced', 'objective': 'Logloss', 'l2_leaf_reg': 2.0469365299163096, 'bootstrap_type': 'Bernoulli', 'learning_rate': 0.05334125360222045, 'n_estimators': 1023, 'max_depth': 5, 'random_state': 11, 'min_data_in_leaf': 69, 'subsample': 0.7043789492697284}. Best is trial 0 with value: 0.852794215193469.\u001b[0m\n",
      "\u001b[32m[I 2022-11-15 07:13:57,372]\u001b[0m Trial 1 finished with value: 0.8519103318464235 and parameters: {'auto_class_weights': 'Balanced', 'objective': 'Logloss', 'l2_leaf_reg': 2.2461300240753386, 'bootstrap_type': 'Bernoulli', 'learning_rate': 0.022384280607937214, 'n_estimators': 1123, 'max_depth': 15, 'random_state': 11, 'min_data_in_leaf': 70, 'subsample': 0.11019723846435718}. Best is trial 0 with value: 0.852794215193469.\u001b[0m\n",
      "\u001b[32m[I 2022-11-15 07:17:46,837]\u001b[0m Trial 2 finished with value: 0.8534143461839584 and parameters: {'auto_class_weights': 'Balanced', 'objective': 'Logloss', 'l2_leaf_reg': 6.896815598366545, 'bootstrap_type': 'Bernoulli', 'learning_rate': 0.09199086812159686, 'n_estimators': 327, 'max_depth': 14, 'random_state': 11, 'min_data_in_leaf': 39, 'subsample': 0.3418728888253245}. Best is trial 2 with value: 0.8534143461839584.\u001b[0m\n",
      "\u001b[32m[I 2022-11-15 07:18:44,582]\u001b[0m Trial 3 finished with value: 0.8541714278066633 and parameters: {'auto_class_weights': 'Balanced', 'objective': 'Logloss', 'l2_leaf_reg': 8.49320644465684, 'bootstrap_type': 'Bernoulli', 'learning_rate': 0.04218087011439237, 'n_estimators': 390, 'max_depth': 8, 'random_state': 11, 'min_data_in_leaf': 7, 'subsample': 0.4517670902897377}. Best is trial 3 with value: 0.8541714278066633.\u001b[0m\n",
      "\u001b[32m[I 2022-11-15 07:25:17,635]\u001b[0m Trial 4 finished with value: 0.8536566033152613 and parameters: {'auto_class_weights': 'Balanced', 'objective': 'Logloss', 'l2_leaf_reg': 6.96881661596161, 'bootstrap_type': 'Bernoulli', 'learning_rate': 0.030353240839208172, 'n_estimators': 2268, 'max_depth': 13, 'random_state': 11, 'min_data_in_leaf': 99, 'subsample': 0.29599930640501426}. Best is trial 3 with value: 0.8541714278066633.\u001b[0m\n",
      "\u001b[32m[I 2022-11-15 07:28:09,201]\u001b[0m Trial 5 finished with value: 0.854022340468245 and parameters: {'auto_class_weights': 'Balanced', 'objective': 'Logloss', 'l2_leaf_reg': 2.5872672460720225, 'bootstrap_type': 'Bernoulli', 'learning_rate': 0.015863730132745526, 'n_estimators': 2117, 'max_depth': 7, 'random_state': 11, 'min_data_in_leaf': 43, 'subsample': 0.6976850028763091}. Best is trial 3 with value: 0.8541714278066633.\u001b[0m\n",
      "\u001b[32m[I 2022-11-15 07:29:45,790]\u001b[0m Trial 6 finished with value: 0.8533161531842923 and parameters: {'auto_class_weights': 'Balanced', 'objective': 'Logloss', 'l2_leaf_reg': 0.6569717072209691, 'bootstrap_type': 'Bernoulli', 'learning_rate': 0.08834512497000843, 'n_estimators': 1208, 'max_depth': 7, 'random_state': 11, 'min_data_in_leaf': 23, 'subsample': 0.4668254194421895}. Best is trial 3 with value: 0.8541714278066633.\u001b[0m\n",
      "\u001b[32m[I 2022-11-15 07:32:01,972]\u001b[0m Trial 7 finished with value: 0.8524613481632615 and parameters: {'auto_class_weights': 'Balanced', 'objective': 'Logloss', 'l2_leaf_reg': 1.736005874688891, 'bootstrap_type': 'Bernoulli', 'learning_rate': 0.01602706853098892, 'n_estimators': 2040, 'max_depth': 5, 'random_state': 11, 'min_data_in_leaf': 98, 'subsample': 0.7126876796768679}. Best is trial 3 with value: 0.8541714278066633.\u001b[0m\n",
      "\u001b[32m[I 2022-11-15 07:43:43,695]\u001b[0m Trial 8 finished with value: 0.8537992024681104 and parameters: {'auto_class_weights': 'Balanced', 'objective': 'Logloss', 'l2_leaf_reg': 7.32949660365422, 'bootstrap_type': 'Bernoulli', 'learning_rate': 0.01987125346408953, 'n_estimators': 1067, 'max_depth': 14, 'random_state': 11, 'min_data_in_leaf': 2, 'subsample': 0.39028860937704807}. Best is trial 3 with value: 0.8541714278066633.\u001b[0m\n",
      "\u001b[32m[I 2022-11-15 07:55:08,736]\u001b[0m Trial 9 finished with value: 0.8529655970156653 and parameters: {'auto_class_weights': 'Balanced', 'objective': 'Logloss', 'l2_leaf_reg': 3.9905079617069146, 'bootstrap_type': 'Bernoulli', 'learning_rate': 0.01840018125000517, 'n_estimators': 1070, 'max_depth': 14, 'random_state': 11, 'min_data_in_leaf': 87, 'subsample': 0.2375741851553637}. Best is trial 3 with value: 0.8541714278066633.\u001b[0m\n",
      "\u001b[32m[I 2022-11-15 07:55:38,684]\u001b[0m Trial 10 finished with value: 0.8522044850998205 and parameters: {'auto_class_weights': 'Balanced', 'objective': 'Logloss', 'l2_leaf_reg': 8.922911378835066, 'bootstrap_type': 'Bernoulli', 'learning_rate': 0.04662114868882128, 'n_estimators': 198, 'max_depth': 8, 'random_state': 11, 'min_data_in_leaf': 2, 'subsample': 0.18032620737740646}. Best is trial 3 with value: 0.8541714278066633.\u001b[0m\n",
      "\u001b[32m[I 2022-11-15 07:58:38,496]\u001b[0m Trial 11 finished with value: 0.8547033136588276 and parameters: {'auto_class_weights': 'Balanced', 'objective': 'Logloss', 'l2_leaf_reg': 4.326152076411257, 'bootstrap_type': 'Bernoulli', 'learning_rate': 0.040792679912269786, 'n_estimators': 2982, 'max_depth': 12, 'random_state': 11, 'min_data_in_leaf': 30, 'subsample': 0.878433428083885}. Best is trial 11 with value: 0.8547033136588276.\u001b[0m\n",
      "\u001b[32m[I 2022-11-15 08:02:10,596]\u001b[0m Trial 12 finished with value: 0.8551054949309369 and parameters: {'auto_class_weights': 'Balanced', 'objective': 'Logloss', 'l2_leaf_reg': 5.030144016415632, 'bootstrap_type': 'Bernoulli', 'learning_rate': 0.03956066292160292, 'n_estimators': 2998, 'max_depth': 12, 'random_state': 11, 'min_data_in_leaf': 27, 'subsample': 0.9618329233580085}. Best is trial 12 with value: 0.8551054949309369.\u001b[0m\n",
      "\u001b[32m[I 2022-11-15 08:04:25,589]\u001b[0m Trial 13 finished with value: 0.8544934082656105 and parameters: {'auto_class_weights': 'Balanced', 'objective': 'Logloss', 'l2_leaf_reg': 4.920455266098005, 'bootstrap_type': 'Bernoulli', 'learning_rate': 0.07299103746994043, 'n_estimators': 2997, 'max_depth': 12, 'random_state': 11, 'min_data_in_leaf': 29, 'subsample': 0.8846048479286104}. Best is trial 12 with value: 0.8551054949309369.\u001b[0m\n",
      "\u001b[32m[I 2022-11-15 08:06:28,935]\u001b[0m Trial 14 finished with value: 0.854431571673592 and parameters: {'auto_class_weights': 'Balanced', 'objective': 'Logloss', 'l2_leaf_reg': 5.11424728909585, 'bootstrap_type': 'Bernoulli', 'learning_rate': 0.06761351967167098, 'n_estimators': 2928, 'max_depth': 12, 'random_state': 11, 'min_data_in_leaf': 23, 'subsample': 0.9576112704936908}. Best is trial 12 with value: 0.8551054949309369.\u001b[0m\n",
      "\u001b[32m[I 2022-11-15 08:10:56,277]\u001b[0m Trial 15 finished with value: 0.8542549320903244 and parameters: {'auto_class_weights': 'Balanced', 'objective': 'Logloss', 'l2_leaf_reg': 3.6432432483655846, 'bootstrap_type': 'Bernoulli', 'learning_rate': 0.03555150817120366, 'n_estimators': 2540, 'max_depth': 12, 'random_state': 11, 'min_data_in_leaf': 50, 'subsample': 0.5995290030637193}. Best is trial 12 with value: 0.8551054949309369.\u001b[0m\n",
      "\u001b[32m[I 2022-11-15 08:13:07,308]\u001b[0m Trial 16 finished with value: 0.8523375202522352 and parameters: {'auto_class_weights': 'Balanced', 'objective': 'Logloss', 'l2_leaf_reg': 5.877714147159574, 'bootstrap_type': 'Bernoulli', 'learning_rate': 0.06315687835288727, 'n_estimators': 2506, 'max_depth': 4, 'random_state': 11, 'min_data_in_leaf': 62, 'subsample': 0.5540518038158461}. Best is trial 12 with value: 0.8551054949309369.\u001b[0m\n",
      "\u001b[32m[I 2022-11-15 08:15:54,280]\u001b[0m Trial 17 finished with value: 0.8548543917521408 and parameters: {'auto_class_weights': 'Balanced', 'objective': 'Logloss', 'l2_leaf_reg': 3.546840326751377, 'bootstrap_type': 'Bernoulli', 'learning_rate': 0.035489599485058476, 'n_estimators': 1795, 'max_depth': 10, 'random_state': 11, 'min_data_in_leaf': 32, 'subsample': 0.9142945983292565}. Best is trial 12 with value: 0.8551054949309369.\u001b[0m\n",
      "\u001b[32m[I 2022-11-15 08:19:34,351]\u001b[0m Trial 18 finished with value: 0.8537759875065742 and parameters: {'auto_class_weights': 'Balanced', 'objective': 'Logloss', 'l2_leaf_reg': 3.2984738879823, 'bootstrap_type': 'Bernoulli', 'learning_rate': 0.02963829468967607, 'n_estimators': 1697, 'max_depth': 10, 'random_state': 11, 'min_data_in_leaf': 14, 'subsample': 0.11083264260866593}. Best is trial 12 with value: 0.8551054949309369.\u001b[0m\n",
      "\u001b[32m[I 2022-11-15 08:21:17,424]\u001b[0m Trial 19 finished with value: 0.8554004942551644 and parameters: {'auto_class_weights': 'Balanced', 'objective': 'Logloss', 'l2_leaf_reg': 6.024909514859491, 'bootstrap_type': 'Bernoulli', 'learning_rate': 0.054451421542168844, 'n_estimators': 1628, 'max_depth': 10, 'random_state': 11, 'min_data_in_leaf': 38, 'subsample': 0.9893630083427628}. Best is trial 19 with value: 0.8554004942551644.\u001b[0m\n",
      "\u001b[32m[I 2022-11-15 08:24:00,237]\u001b[0m Trial 20 finished with value: 0.8541580409655177 and parameters: {'auto_class_weights': 'Balanced', 'objective': 'Logloss', 'l2_leaf_reg': 5.802137424221231, 'bootstrap_type': 'Bernoulli', 'learning_rate': 0.05483283606477232, 'n_estimators': 1489, 'max_depth': 9, 'random_state': 11, 'min_data_in_leaf': 59, 'subsample': 0.20517945319671405}. Best is trial 19 with value: 0.8554004942551644.\u001b[0m\n",
      "\u001b[32m[I 2022-11-15 08:26:06,722]\u001b[0m Trial 21 finished with value: 0.8546240978751293 and parameters: {'auto_class_weights': 'Balanced', 'objective': 'Logloss', 'l2_leaf_reg': 5.978913187594223, 'bootstrap_type': 'Bernoulli', 'learning_rate': 0.049229093695516195, 'n_estimators': 1714, 'max_depth': 10, 'random_state': 11, 'min_data_in_leaf': 40, 'subsample': 0.9215213258394681}. Best is trial 19 with value: 0.8554004942551644.\u001b[0m\n",
      "\u001b[32m[I 2022-11-15 08:27:24,150]\u001b[0m Trial 22 finished with value: 0.8548216842405318 and parameters: {'auto_class_weights': 'Balanced', 'objective': 'Logloss', 'l2_leaf_reg': 5.1244988808749605, 'bootstrap_type': 'Bernoulli', 'learning_rate': 0.07651316559068384, 'n_estimators': 794, 'max_depth': 10, 'random_state': 11, 'min_data_in_leaf': 16, 'subsample': 0.9885454234636806}. Best is trial 19 with value: 0.8554004942551644.\u001b[0m\n",
      "\u001b[32m[I 2022-11-15 08:29:45,355]\u001b[0m Trial 23 finished with value: 0.8545679438042615 and parameters: {'auto_class_weights': 'Balanced', 'objective': 'Logloss', 'l2_leaf_reg': 7.9350065679983866, 'bootstrap_type': 'Bernoulli', 'learning_rate': 0.06059825408810591, 'n_estimators': 1491, 'max_depth': 11, 'random_state': 11, 'min_data_in_leaf': 34, 'subsample': 0.7479676827842603}. Best is trial 19 with value: 0.8554004942551644.\u001b[0m\n",
      "\u001b[32m[I 2022-11-15 08:32:37,154]\u001b[0m Trial 24 finished with value: 0.8535738460574469 and parameters: {'auto_class_weights': 'Balanced', 'objective': 'Logloss', 'l2_leaf_reg': 2.8667846292364016, 'bootstrap_type': 'Bernoulli', 'learning_rate': 0.03401265716550444, 'n_estimators': 2627, 'max_depth': 6, 'random_state': 11, 'min_data_in_leaf': 48, 'subsample': 0.5536328427534106}. Best is trial 19 with value: 0.8554004942551644.\u001b[0m\n"
     ]
    },
    {
     "name": "stdout",
     "output_type": "stream",
     "text": [
      "Number of finished trials: 25\n",
      "Best trial: {'auto_class_weights': 'Balanced', 'objective': 'Logloss', 'l2_leaf_reg': 6.024909514859491, 'bootstrap_type': 'Bernoulli', 'learning_rate': 0.054451421542168844, 'n_estimators': 1628, 'max_depth': 10, 'random_state': 11, 'min_data_in_leaf': 38, 'subsample': 0.9893630083427628}\n"
     ]
    },
    {
     "data": {
      "text/plain": [
       "0.8554004942551644"
      ]
     },
     "execution_count": 140,
     "metadata": {},
     "output_type": "execute_result"
    }
   ],
   "source": [
    "study = optuna.create_study(direction='maximize', pruner=optuna.pruners.MedianPruner(n_warmup_steps=9))\n",
    "study.optimize(objective, n_trials=3333, timeout=5400)\n",
    "print('Number of finished trials:', len(study.trials))\n",
    "print('Best trial:', study.best_trial.params)\n",
    "study.best_value"
   ]
  },
  {
   "cell_type": "markdown",
   "metadata": {
    "id": "Td_isQCG18J_"
   },
   "source": [
    "Number of finished trials: 25\n",
    "Best trial: {'auto_class_weights': 'Balanced', 'objective': 'Logloss', 'l2_leaf_reg': 6.024909514859491, 'bootstrap_type': 'Bernoulli', 'learning_rate': 0.054451421542168844, 'n_estimators': 1628, 'max_depth': 10, 'random_state': 11, 'min_data_in_leaf': 38, 'subsample': 0.9893630083427628}\n",
    "0.8554004942551644"
   ]
  },
  {
   "cell_type": "code",
   "execution_count": null,
   "metadata": {
    "colab": {
     "base_uri": "https://localhost:8080/",
     "height": 542
    },
    "executionInfo": {
     "elapsed": 2063,
     "status": "ok",
     "timestamp": 1668501194469,
     "user": {
      "displayName": "Andrew Lazko",
      "userId": "04969080350981822544"
     },
     "user_tz": -180
    },
    "id": "RdFlx2TMdCgO",
    "outputId": "e4947e1b-423d-46c7-b0de-e9935dee52eb",
    "scrolled": false
   },
   "outputs": [
    {
     "data": {
      "text/html": [
       "<html>\n",
       "<head><meta charset=\"utf-8\" /></head>\n",
       "<body>\n",
       "    <div>            <script src=\"https://cdnjs.cloudflare.com/ajax/libs/mathjax/2.7.5/MathJax.js?config=TeX-AMS-MML_SVG\"></script><script type=\"text/javascript\">if (window.MathJax) {MathJax.Hub.Config({SVG: {font: \"STIX-Web\"}});}</script>                <script type=\"text/javascript\">window.PlotlyConfig = {MathJaxConfig: 'local'};</script>\n",
       "        <script src=\"https://cdn.plot.ly/plotly-2.8.3.min.js\"></script>                <div id=\"a0e201c9-962c-4001-b10b-51a48b816b3e\" class=\"plotly-graph-div\" style=\"height:525px; width:100%;\"></div>            <script type=\"text/javascript\">                                    window.PLOTLYENV=window.PLOTLYENV || {};                                    if (document.getElementById(\"a0e201c9-962c-4001-b10b-51a48b816b3e\")) {                    Plotly.newPlot(                        \"a0e201c9-962c-4001-b10b-51a48b816b3e\",                        [{\"cliponaxis\":false,\"hovertemplate\":[\"auto_class_weights (CategoricalDistribution): 0.0<extra></extra>\",\"bootstrap_type (CategoricalDistribution): 0.0<extra></extra>\",\"objective (CategoricalDistribution): 0.0<extra></extra>\",\"random_state (CategoricalDistribution): 0.0<extra></extra>\",\"learning_rate (FloatDistribution): 0.029904375419582054<extra></extra>\",\"max_depth (CategoricalDistribution): 0.03680759892894594<extra></extra>\",\"n_estimators (IntDistribution): 0.03716455832086576<extra></extra>\",\"l2_leaf_reg (FloatDistribution): 0.07612365438225172<extra></extra>\",\"min_data_in_leaf (IntDistribution): 0.2632797904120642<extra></extra>\",\"subsample (FloatDistribution): 0.5567200225362905<extra></extra>\"],\"marker\":{\"color\":\"rgb(66,146,198)\"},\"orientation\":\"h\",\"text\":[\"<0.01\",\"<0.01\",\"<0.01\",\"<0.01\",\"0.03\",\"0.04\",\"0.04\",\"0.08\",\"0.26\",\"0.56\"],\"textposition\":\"outside\",\"x\":[0.0,0.0,0.0,0.0,0.029904375419582054,0.03680759892894594,0.03716455832086576,0.07612365438225172,0.2632797904120642,0.5567200225362905],\"y\":[\"auto_class_weights\",\"bootstrap_type\",\"objective\",\"random_state\",\"learning_rate\",\"max_depth\",\"n_estimators\",\"l2_leaf_reg\",\"min_data_in_leaf\",\"subsample\"],\"type\":\"bar\"}],                        {\"showlegend\":false,\"title\":{\"text\":\"Hyperparameter Importances\"},\"xaxis\":{\"title\":{\"text\":\"Importance for Objective Value\"}},\"yaxis\":{\"title\":{\"text\":\"Hyperparameter\"}},\"template\":{\"data\":{\"bar\":[{\"error_x\":{\"color\":\"#2a3f5f\"},\"error_y\":{\"color\":\"#2a3f5f\"},\"marker\":{\"line\":{\"color\":\"#E5ECF6\",\"width\":0.5},\"pattern\":{\"fillmode\":\"overlay\",\"size\":10,\"solidity\":0.2}},\"type\":\"bar\"}],\"barpolar\":[{\"marker\":{\"line\":{\"color\":\"#E5ECF6\",\"width\":0.5},\"pattern\":{\"fillmode\":\"overlay\",\"size\":10,\"solidity\":0.2}},\"type\":\"barpolar\"}],\"carpet\":[{\"aaxis\":{\"endlinecolor\":\"#2a3f5f\",\"gridcolor\":\"white\",\"linecolor\":\"white\",\"minorgridcolor\":\"white\",\"startlinecolor\":\"#2a3f5f\"},\"baxis\":{\"endlinecolor\":\"#2a3f5f\",\"gridcolor\":\"white\",\"linecolor\":\"white\",\"minorgridcolor\":\"white\",\"startlinecolor\":\"#2a3f5f\"},\"type\":\"carpet\"}],\"choropleth\":[{\"colorbar\":{\"outlinewidth\":0,\"ticks\":\"\"},\"type\":\"choropleth\"}],\"contour\":[{\"colorbar\":{\"outlinewidth\":0,\"ticks\":\"\"},\"colorscale\":[[0.0,\"#0d0887\"],[0.1111111111111111,\"#46039f\"],[0.2222222222222222,\"#7201a8\"],[0.3333333333333333,\"#9c179e\"],[0.4444444444444444,\"#bd3786\"],[0.5555555555555556,\"#d8576b\"],[0.6666666666666666,\"#ed7953\"],[0.7777777777777778,\"#fb9f3a\"],[0.8888888888888888,\"#fdca26\"],[1.0,\"#f0f921\"]],\"type\":\"contour\"}],\"contourcarpet\":[{\"colorbar\":{\"outlinewidth\":0,\"ticks\":\"\"},\"type\":\"contourcarpet\"}],\"heatmap\":[{\"colorbar\":{\"outlinewidth\":0,\"ticks\":\"\"},\"colorscale\":[[0.0,\"#0d0887\"],[0.1111111111111111,\"#46039f\"],[0.2222222222222222,\"#7201a8\"],[0.3333333333333333,\"#9c179e\"],[0.4444444444444444,\"#bd3786\"],[0.5555555555555556,\"#d8576b\"],[0.6666666666666666,\"#ed7953\"],[0.7777777777777778,\"#fb9f3a\"],[0.8888888888888888,\"#fdca26\"],[1.0,\"#f0f921\"]],\"type\":\"heatmap\"}],\"heatmapgl\":[{\"colorbar\":{\"outlinewidth\":0,\"ticks\":\"\"},\"colorscale\":[[0.0,\"#0d0887\"],[0.1111111111111111,\"#46039f\"],[0.2222222222222222,\"#7201a8\"],[0.3333333333333333,\"#9c179e\"],[0.4444444444444444,\"#bd3786\"],[0.5555555555555556,\"#d8576b\"],[0.6666666666666666,\"#ed7953\"],[0.7777777777777778,\"#fb9f3a\"],[0.8888888888888888,\"#fdca26\"],[1.0,\"#f0f921\"]],\"type\":\"heatmapgl\"}],\"histogram\":[{\"marker\":{\"pattern\":{\"fillmode\":\"overlay\",\"size\":10,\"solidity\":0.2}},\"type\":\"histogram\"}],\"histogram2d\":[{\"colorbar\":{\"outlinewidth\":0,\"ticks\":\"\"},\"colorscale\":[[0.0,\"#0d0887\"],[0.1111111111111111,\"#46039f\"],[0.2222222222222222,\"#7201a8\"],[0.3333333333333333,\"#9c179e\"],[0.4444444444444444,\"#bd3786\"],[0.5555555555555556,\"#d8576b\"],[0.6666666666666666,\"#ed7953\"],[0.7777777777777778,\"#fb9f3a\"],[0.8888888888888888,\"#fdca26\"],[1.0,\"#f0f921\"]],\"type\":\"histogram2d\"}],\"histogram2dcontour\":[{\"colorbar\":{\"outlinewidth\":0,\"ticks\":\"\"},\"colorscale\":[[0.0,\"#0d0887\"],[0.1111111111111111,\"#46039f\"],[0.2222222222222222,\"#7201a8\"],[0.3333333333333333,\"#9c179e\"],[0.4444444444444444,\"#bd3786\"],[0.5555555555555556,\"#d8576b\"],[0.6666666666666666,\"#ed7953\"],[0.7777777777777778,\"#fb9f3a\"],[0.8888888888888888,\"#fdca26\"],[1.0,\"#f0f921\"]],\"type\":\"histogram2dcontour\"}],\"mesh3d\":[{\"colorbar\":{\"outlinewidth\":0,\"ticks\":\"\"},\"type\":\"mesh3d\"}],\"parcoords\":[{\"line\":{\"colorbar\":{\"outlinewidth\":0,\"ticks\":\"\"}},\"type\":\"parcoords\"}],\"pie\":[{\"automargin\":true,\"type\":\"pie\"}],\"scatter\":[{\"marker\":{\"colorbar\":{\"outlinewidth\":0,\"ticks\":\"\"}},\"type\":\"scatter\"}],\"scatter3d\":[{\"line\":{\"colorbar\":{\"outlinewidth\":0,\"ticks\":\"\"}},\"marker\":{\"colorbar\":{\"outlinewidth\":0,\"ticks\":\"\"}},\"type\":\"scatter3d\"}],\"scattercarpet\":[{\"marker\":{\"colorbar\":{\"outlinewidth\":0,\"ticks\":\"\"}},\"type\":\"scattercarpet\"}],\"scattergeo\":[{\"marker\":{\"colorbar\":{\"outlinewidth\":0,\"ticks\":\"\"}},\"type\":\"scattergeo\"}],\"scattergl\":[{\"marker\":{\"colorbar\":{\"outlinewidth\":0,\"ticks\":\"\"}},\"type\":\"scattergl\"}],\"scattermapbox\":[{\"marker\":{\"colorbar\":{\"outlinewidth\":0,\"ticks\":\"\"}},\"type\":\"scattermapbox\"}],\"scatterpolar\":[{\"marker\":{\"colorbar\":{\"outlinewidth\":0,\"ticks\":\"\"}},\"type\":\"scatterpolar\"}],\"scatterpolargl\":[{\"marker\":{\"colorbar\":{\"outlinewidth\":0,\"ticks\":\"\"}},\"type\":\"scatterpolargl\"}],\"scatterternary\":[{\"marker\":{\"colorbar\":{\"outlinewidth\":0,\"ticks\":\"\"}},\"type\":\"scatterternary\"}],\"surface\":[{\"colorbar\":{\"outlinewidth\":0,\"ticks\":\"\"},\"colorscale\":[[0.0,\"#0d0887\"],[0.1111111111111111,\"#46039f\"],[0.2222222222222222,\"#7201a8\"],[0.3333333333333333,\"#9c179e\"],[0.4444444444444444,\"#bd3786\"],[0.5555555555555556,\"#d8576b\"],[0.6666666666666666,\"#ed7953\"],[0.7777777777777778,\"#fb9f3a\"],[0.8888888888888888,\"#fdca26\"],[1.0,\"#f0f921\"]],\"type\":\"surface\"}],\"table\":[{\"cells\":{\"fill\":{\"color\":\"#EBF0F8\"},\"line\":{\"color\":\"white\"}},\"header\":{\"fill\":{\"color\":\"#C8D4E3\"},\"line\":{\"color\":\"white\"}},\"type\":\"table\"}]},\"layout\":{\"annotationdefaults\":{\"arrowcolor\":\"#2a3f5f\",\"arrowhead\":0,\"arrowwidth\":1},\"autotypenumbers\":\"strict\",\"coloraxis\":{\"colorbar\":{\"outlinewidth\":0,\"ticks\":\"\"}},\"colorscale\":{\"diverging\":[[0,\"#8e0152\"],[0.1,\"#c51b7d\"],[0.2,\"#de77ae\"],[0.3,\"#f1b6da\"],[0.4,\"#fde0ef\"],[0.5,\"#f7f7f7\"],[0.6,\"#e6f5d0\"],[0.7,\"#b8e186\"],[0.8,\"#7fbc41\"],[0.9,\"#4d9221\"],[1,\"#276419\"]],\"sequential\":[[0.0,\"#0d0887\"],[0.1111111111111111,\"#46039f\"],[0.2222222222222222,\"#7201a8\"],[0.3333333333333333,\"#9c179e\"],[0.4444444444444444,\"#bd3786\"],[0.5555555555555556,\"#d8576b\"],[0.6666666666666666,\"#ed7953\"],[0.7777777777777778,\"#fb9f3a\"],[0.8888888888888888,\"#fdca26\"],[1.0,\"#f0f921\"]],\"sequentialminus\":[[0.0,\"#0d0887\"],[0.1111111111111111,\"#46039f\"],[0.2222222222222222,\"#7201a8\"],[0.3333333333333333,\"#9c179e\"],[0.4444444444444444,\"#bd3786\"],[0.5555555555555556,\"#d8576b\"],[0.6666666666666666,\"#ed7953\"],[0.7777777777777778,\"#fb9f3a\"],[0.8888888888888888,\"#fdca26\"],[1.0,\"#f0f921\"]]},\"colorway\":[\"#636efa\",\"#EF553B\",\"#00cc96\",\"#ab63fa\",\"#FFA15A\",\"#19d3f3\",\"#FF6692\",\"#B6E880\",\"#FF97FF\",\"#FECB52\"],\"font\":{\"color\":\"#2a3f5f\"},\"geo\":{\"bgcolor\":\"white\",\"lakecolor\":\"white\",\"landcolor\":\"#E5ECF6\",\"showlakes\":true,\"showland\":true,\"subunitcolor\":\"white\"},\"hoverlabel\":{\"align\":\"left\"},\"hovermode\":\"closest\",\"mapbox\":{\"style\":\"light\"},\"paper_bgcolor\":\"white\",\"plot_bgcolor\":\"#E5ECF6\",\"polar\":{\"angularaxis\":{\"gridcolor\":\"white\",\"linecolor\":\"white\",\"ticks\":\"\"},\"bgcolor\":\"#E5ECF6\",\"radialaxis\":{\"gridcolor\":\"white\",\"linecolor\":\"white\",\"ticks\":\"\"}},\"scene\":{\"xaxis\":{\"backgroundcolor\":\"#E5ECF6\",\"gridcolor\":\"white\",\"gridwidth\":2,\"linecolor\":\"white\",\"showbackground\":true,\"ticks\":\"\",\"zerolinecolor\":\"white\"},\"yaxis\":{\"backgroundcolor\":\"#E5ECF6\",\"gridcolor\":\"white\",\"gridwidth\":2,\"linecolor\":\"white\",\"showbackground\":true,\"ticks\":\"\",\"zerolinecolor\":\"white\"},\"zaxis\":{\"backgroundcolor\":\"#E5ECF6\",\"gridcolor\":\"white\",\"gridwidth\":2,\"linecolor\":\"white\",\"showbackground\":true,\"ticks\":\"\",\"zerolinecolor\":\"white\"}},\"shapedefaults\":{\"line\":{\"color\":\"#2a3f5f\"}},\"ternary\":{\"aaxis\":{\"gridcolor\":\"white\",\"linecolor\":\"white\",\"ticks\":\"\"},\"baxis\":{\"gridcolor\":\"white\",\"linecolor\":\"white\",\"ticks\":\"\"},\"bgcolor\":\"#E5ECF6\",\"caxis\":{\"gridcolor\":\"white\",\"linecolor\":\"white\",\"ticks\":\"\"}},\"title\":{\"x\":0.05},\"xaxis\":{\"automargin\":true,\"gridcolor\":\"white\",\"linecolor\":\"white\",\"ticks\":\"\",\"title\":{\"standoff\":15},\"zerolinecolor\":\"white\",\"zerolinewidth\":2},\"yaxis\":{\"automargin\":true,\"gridcolor\":\"white\",\"linecolor\":\"white\",\"ticks\":\"\",\"title\":{\"standoff\":15},\"zerolinecolor\":\"white\",\"zerolinewidth\":2}}}},                        {\"responsive\": true}                    ).then(function(){\n",
       "                            \n",
       "var gd = document.getElementById('a0e201c9-962c-4001-b10b-51a48b816b3e');\n",
       "var x = new MutationObserver(function (mutations, observer) {{\n",
       "        var display = window.getComputedStyle(gd).display;\n",
       "        if (!display || display === 'none') {{\n",
       "            console.log([gd, 'removed!']);\n",
       "            Plotly.purge(gd);\n",
       "            observer.disconnect();\n",
       "        }}\n",
       "}});\n",
       "\n",
       "// Listen for the removal of the full notebook cells\n",
       "var notebookContainer = gd.closest('#notebook-container');\n",
       "if (notebookContainer) {{\n",
       "    x.observe(notebookContainer, {childList: true});\n",
       "}}\n",
       "\n",
       "// Listen for the clearing of the current output cell\n",
       "var outputEl = gd.closest('.output');\n",
       "if (outputEl) {{\n",
       "    x.observe(outputEl, {childList: true});\n",
       "}}\n",
       "\n",
       "                        })                };                            </script>        </div>\n",
       "</body>\n",
       "</html>"
      ]
     },
     "metadata": {},
     "output_type": "display_data"
    }
   ],
   "source": [
    "optuna.visualization.plot_param_importances(study)"
   ]
  },
  {
   "cell_type": "code",
   "execution_count": null,
   "metadata": {
    "id": "6v-Fa2lYCIf8"
   },
   "outputs": [],
   "source": [
    "#b_p = study.best_params\n",
    "b_p = {'auto_class_weights': 'Balanced',\n",
    "       'objective': 'Logloss',\n",
    "       'l2_leaf_reg': 6.024909514859491,\n",
    "       'bootstrap_type': 'Bernoulli',\n",
    "       'learning_rate': 0.054451421542168844,\n",
    "       'n_estimators': 1628,\n",
    "       'max_depth': 10,\n",
    "       'random_state': 11,\n",
    "       'min_data_in_leaf': 38,\n",
    "       'subsample': 0.9893630083427628}"
   ]
  },
  {
   "cell_type": "code",
   "execution_count": null,
   "metadata": {
    "id": "JAsigWniG7sf"
   },
   "outputs": [],
   "source": [
    "learn_pool = Pool(\n",
    "        X_train, \n",
    "        y_train, \n",
    "        cat_features=cat_cols,\n",
    "        text_features=text_cols,\n",
    "        feature_names=list(X_train)\n",
    "    )\n",
    "valid_pool = Pool(\n",
    "        X_valid, \n",
    "        y_valid, \n",
    "        cat_features=cat_cols,\n",
    "        text_features=text_cols,\n",
    "        feature_names=list(X_train)\n",
    ")"
   ]
  },
  {
   "cell_type": "code",
   "execution_count": null,
   "metadata": {
    "id": "GzSjRdQ1dCgF"
   },
   "outputs": [],
   "source": [
    "def score_dataset(model, valid_pool=valid_pool, y_valid=y_valid):\n",
    "    \"\"\"\n",
    "    Возвращает кортеж оценок (accuracy, precision, recall, f1)\n",
    "    из модели model и указанных обучающих и валидационных выборок\n",
    "    \"\"\"\n",
    "    preds = model.predict(valid_pool)\n",
    "    return(accuracy_score(y_valid, preds),\n",
    "           precision_score(y_valid, preds),\n",
    "           recall_score(y_valid, preds, average = \"macro\"),\n",
    "           f1_score(y_valid, preds),\n",
    "           my_score_func(y_valid, preds)), preds"
   ]
  },
  {
   "cell_type": "code",
   "execution_count": null,
   "metadata": {
    "id": "a0IJ9WAKJR2x"
   },
   "outputs": [],
   "source": [
    "def plot_roc_auc(model, valid_pool=valid_pool, y_valid=y_valid):\n",
    "    '''\n",
    "    Строит ROC-curve и возвращает AUC-score для заданной модели model\n",
    "    и заданных выборок X_valid, y_valid\n",
    "    '''\n",
    "    probabilities_valid = model.predict_proba(valid_pool)\n",
    "    probabilities_one_valid = probabilities_valid[:, 1]\n",
    "\n",
    "    fpr, tpr, thresholds = roc_curve(y_valid, probabilities_one_valid) \n",
    "\n",
    "    plt.figure(figsize=(6, 6))\n",
    "    plt.plot(fpr, tpr, linestyle='-')\n",
    "    plt.plot([0, 1], [0, 1], linestyle='--')\n",
    "    plt.xlim([0.0, 1.0])\n",
    "    plt.ylim([0.0, 1.0])\n",
    "    plt.xlabel('False Positive Rate')\n",
    "    plt.ylabel('True Positive Rate')\n",
    "    plt.title('ROC-curve')\n",
    "    plt.show()\n",
    "    print(f\"AUC-score: {roc_auc_score(y_valid, probabilities_one_valid, multi_class='ovo')}\")"
   ]
  },
  {
   "cell_type": "code",
   "execution_count": null,
   "metadata": {
    "id": "X-s5nEhMdCgP"
   },
   "outputs": [],
   "source": [
    "params = {'verbose': False, 'loss_function': 'Logloss', 'task_type': 'GPU', 'gpu_ram_part': 0.96, 'one_hot_max_size': 10}"
   ]
  },
  {
   "cell_type": "code",
   "execution_count": null,
   "metadata": {
    "id": "W6vtYUr3fQdy"
   },
   "outputs": [],
   "source": [
    "model_cb = CatBoostClassifier(**params, **b_p)"
   ]
  },
  {
   "cell_type": "code",
   "execution_count": null,
   "metadata": {
    "colab": {
     "base_uri": "https://localhost:8080/"
    },
    "executionInfo": {
     "elapsed": 959,
     "status": "ok",
     "timestamp": 1668533026834,
     "user": {
      "displayName": "Andrew Lazko",
      "userId": "04969080350981822544"
     },
     "user_tz": -180
    },
    "id": "19kVfKV2dCgQ",
    "outputId": "c1245b45-fbec-4d99-8590-4f8039d19b3f"
   },
   "outputs": [
    {
     "data": {
      "text/plain": [
       "{'learning_rate': 0.054451421542168844,\n",
       " 'l2_leaf_reg': 6.024909514859491,\n",
       " 'loss_function': 'Logloss',\n",
       " 'verbose': False,\n",
       " 'auto_class_weights': 'Balanced',\n",
       " 'one_hot_max_size': 10,\n",
       " 'gpu_ram_part': 0.96,\n",
       " 'task_type': 'GPU',\n",
       " 'bootstrap_type': 'Bernoulli',\n",
       " 'subsample': 0.9893630083427628,\n",
       " 'max_depth': 10,\n",
       " 'n_estimators': 1628,\n",
       " 'random_state': 11,\n",
       " 'objective': 'Logloss',\n",
       " 'min_data_in_leaf': 38}"
      ]
     },
     "execution_count": 83,
     "metadata": {},
     "output_type": "execute_result"
    }
   ],
   "source": [
    "model_cb.get_params()"
   ]
  },
  {
   "cell_type": "code",
   "execution_count": null,
   "metadata": {
    "colab": {
     "base_uri": "https://localhost:8080/"
    },
    "executionInfo": {
     "elapsed": 107905,
     "status": "ok",
     "timestamp": 1668532253570,
     "user": {
      "displayName": "Andrew Lazko",
      "userId": "04969080350981822544"
     },
     "user_tz": -180
    },
    "id": "GyqFsjGbdCgQ",
    "outputId": "8e0dd99f-c31b-4f24-bc86-a957c80ae344"
   },
   "outputs": [
    {
     "data": {
      "text/plain": [
       "<catboost.core.CatBoostClassifier at 0x7f16d565be10>"
      ]
     },
     "execution_count": 74,
     "metadata": {},
     "output_type": "execute_result"
    }
   ],
   "source": [
    "model_cb.fit(learn_pool, eval_set=valid_pool, early_stopping_rounds=99, verbose=False)"
   ]
  },
  {
   "cell_type": "code",
   "execution_count": null,
   "metadata": {
    "colab": {
     "base_uri": "https://localhost:8080/",
     "height": 802
    },
    "executionInfo": {
     "elapsed": 579,
     "status": "ok",
     "timestamp": 1668532260099,
     "user": {
      "displayName": "Andrew Lazko",
      "userId": "04969080350981822544"
     },
     "user_tz": -180
    },
    "id": "rVhGrldldCgR",
    "outputId": "67d393db-a07e-4ca3-a8de-21dfb7d3ad63"
   },
   "outputs": [
    {
     "data": {
      "text/html": [
       "\n",
       "  <div id=\"df-81e9be06-92d1-4537-a587-6fab39628d5b\">\n",
       "    <div class=\"colab-df-container\">\n",
       "      <div>\n",
       "<style scoped>\n",
       "    .dataframe tbody tr th:only-of-type {\n",
       "        vertical-align: middle;\n",
       "    }\n",
       "\n",
       "    .dataframe tbody tr th {\n",
       "        vertical-align: top;\n",
       "    }\n",
       "\n",
       "    .dataframe thead th {\n",
       "        text-align: right;\n",
       "    }\n",
       "</style>\n",
       "<table border=\"1\" class=\"dataframe\">\n",
       "  <thead>\n",
       "    <tr style=\"text-align: right;\">\n",
       "      <th></th>\n",
       "      <th>Feature Id</th>\n",
       "      <th>Importances</th>\n",
       "    </tr>\n",
       "  </thead>\n",
       "  <tbody>\n",
       "    <tr>\n",
       "      <th>0</th>\n",
       "      <td>type</td>\n",
       "      <td>21.628051</td>\n",
       "    </tr>\n",
       "    <tr>\n",
       "      <th>1</th>\n",
       "      <td>total_qty_oper_login_1</td>\n",
       "      <td>12.150455</td>\n",
       "    </tr>\n",
       "    <tr>\n",
       "      <th>2</th>\n",
       "      <td>new_10</td>\n",
       "      <td>10.785224</td>\n",
       "    </tr>\n",
       "    <tr>\n",
       "      <th>3</th>\n",
       "      <td>mailctg</td>\n",
       "      <td>6.994994</td>\n",
       "    </tr>\n",
       "    <tr>\n",
       "      <th>4</th>\n",
       "      <td>new_3</td>\n",
       "      <td>5.228840</td>\n",
       "    </tr>\n",
       "    <tr>\n",
       "      <th>5</th>\n",
       "      <td>transport_pay</td>\n",
       "      <td>4.489077</td>\n",
       "    </tr>\n",
       "    <tr>\n",
       "      <th>6</th>\n",
       "      <td>new_6</td>\n",
       "      <td>4.235455</td>\n",
       "    </tr>\n",
       "    <tr>\n",
       "      <th>7</th>\n",
       "      <td>new_9</td>\n",
       "      <td>4.139543</td>\n",
       "    </tr>\n",
       "    <tr>\n",
       "      <th>8</th>\n",
       "      <td>weight</td>\n",
       "      <td>3.368034</td>\n",
       "    </tr>\n",
       "    <tr>\n",
       "      <th>9</th>\n",
       "      <td>is_wrong_phone_number</td>\n",
       "      <td>3.176786</td>\n",
       "    </tr>\n",
       "    <tr>\n",
       "      <th>10</th>\n",
       "      <td>new_8</td>\n",
       "      <td>3.137876</td>\n",
       "    </tr>\n",
       "    <tr>\n",
       "      <th>11</th>\n",
       "      <td>name_mfi</td>\n",
       "      <td>2.910219</td>\n",
       "    </tr>\n",
       "    <tr>\n",
       "      <th>12</th>\n",
       "      <td>new_1</td>\n",
       "      <td>2.598111</td>\n",
       "    </tr>\n",
       "    <tr>\n",
       "      <th>13</th>\n",
       "      <td>price_mfi</td>\n",
       "      <td>2.596029</td>\n",
       "    </tr>\n",
       "    <tr>\n",
       "      <th>14</th>\n",
       "      <td>total_qty_oper_login_0</td>\n",
       "      <td>2.514987</td>\n",
       "    </tr>\n",
       "    <tr>\n",
       "      <th>15</th>\n",
       "      <td>dist_qty_oper_login_1</td>\n",
       "      <td>2.314832</td>\n",
       "    </tr>\n",
       "    <tr>\n",
       "      <th>16</th>\n",
       "      <td>is_wrong_rcpn_name</td>\n",
       "      <td>1.767210</td>\n",
       "    </tr>\n",
       "    <tr>\n",
       "      <th>17</th>\n",
       "      <td>weight_mfi</td>\n",
       "      <td>1.564708</td>\n",
       "    </tr>\n",
       "    <tr>\n",
       "      <th>18</th>\n",
       "      <td>total_qty_over_index</td>\n",
       "      <td>1.502463</td>\n",
       "    </tr>\n",
       "    <tr>\n",
       "      <th>19</th>\n",
       "      <td>index_oper</td>\n",
       "      <td>1.370365</td>\n",
       "    </tr>\n",
       "    <tr>\n",
       "      <th>20</th>\n",
       "      <td>is_in_yandex</td>\n",
       "      <td>0.888447</td>\n",
       "    </tr>\n",
       "    <tr>\n",
       "      <th>21</th>\n",
       "      <td>class</td>\n",
       "      <td>0.328917</td>\n",
       "    </tr>\n",
       "    <tr>\n",
       "      <th>22</th>\n",
       "      <td>directctg</td>\n",
       "      <td>0.286432</td>\n",
       "    </tr>\n",
       "    <tr>\n",
       "      <th>23</th>\n",
       "      <td>is_privatecategory</td>\n",
       "      <td>0.022946</td>\n",
       "    </tr>\n",
       "  </tbody>\n",
       "</table>\n",
       "</div>\n",
       "      <button class=\"colab-df-convert\" onclick=\"convertToInteractive('df-81e9be06-92d1-4537-a587-6fab39628d5b')\"\n",
       "              title=\"Convert this dataframe to an interactive table.\"\n",
       "              style=\"display:none;\">\n",
       "        \n",
       "  <svg xmlns=\"http://www.w3.org/2000/svg\" height=\"24px\"viewBox=\"0 0 24 24\"\n",
       "       width=\"24px\">\n",
       "    <path d=\"M0 0h24v24H0V0z\" fill=\"none\"/>\n",
       "    <path d=\"M18.56 5.44l.94 2.06.94-2.06 2.06-.94-2.06-.94-.94-2.06-.94 2.06-2.06.94zm-11 1L8.5 8.5l.94-2.06 2.06-.94-2.06-.94L8.5 2.5l-.94 2.06-2.06.94zm10 10l.94 2.06.94-2.06 2.06-.94-2.06-.94-.94-2.06-.94 2.06-2.06.94z\"/><path d=\"M17.41 7.96l-1.37-1.37c-.4-.4-.92-.59-1.43-.59-.52 0-1.04.2-1.43.59L10.3 9.45l-7.72 7.72c-.78.78-.78 2.05 0 2.83L4 21.41c.39.39.9.59 1.41.59.51 0 1.02-.2 1.41-.59l7.78-7.78 2.81-2.81c.8-.78.8-2.07 0-2.86zM5.41 20L4 18.59l7.72-7.72 1.47 1.35L5.41 20z\"/>\n",
       "  </svg>\n",
       "      </button>\n",
       "      \n",
       "  <style>\n",
       "    .colab-df-container {\n",
       "      display:flex;\n",
       "      flex-wrap:wrap;\n",
       "      gap: 12px;\n",
       "    }\n",
       "\n",
       "    .colab-df-convert {\n",
       "      background-color: #E8F0FE;\n",
       "      border: none;\n",
       "      border-radius: 50%;\n",
       "      cursor: pointer;\n",
       "      display: none;\n",
       "      fill: #1967D2;\n",
       "      height: 32px;\n",
       "      padding: 0 0 0 0;\n",
       "      width: 32px;\n",
       "    }\n",
       "\n",
       "    .colab-df-convert:hover {\n",
       "      background-color: #E2EBFA;\n",
       "      box-shadow: 0px 1px 2px rgba(60, 64, 67, 0.3), 0px 1px 3px 1px rgba(60, 64, 67, 0.15);\n",
       "      fill: #174EA6;\n",
       "    }\n",
       "\n",
       "    [theme=dark] .colab-df-convert {\n",
       "      background-color: #3B4455;\n",
       "      fill: #D2E3FC;\n",
       "    }\n",
       "\n",
       "    [theme=dark] .colab-df-convert:hover {\n",
       "      background-color: #434B5C;\n",
       "      box-shadow: 0px 1px 3px 1px rgba(0, 0, 0, 0.15);\n",
       "      filter: drop-shadow(0px 1px 2px rgba(0, 0, 0, 0.3));\n",
       "      fill: #FFFFFF;\n",
       "    }\n",
       "  </style>\n",
       "\n",
       "      <script>\n",
       "        const buttonEl =\n",
       "          document.querySelector('#df-81e9be06-92d1-4537-a587-6fab39628d5b button.colab-df-convert');\n",
       "        buttonEl.style.display =\n",
       "          google.colab.kernel.accessAllowed ? 'block' : 'none';\n",
       "\n",
       "        async function convertToInteractive(key) {\n",
       "          const element = document.querySelector('#df-81e9be06-92d1-4537-a587-6fab39628d5b');\n",
       "          const dataTable =\n",
       "            await google.colab.kernel.invokeFunction('convertToInteractive',\n",
       "                                                     [key], {});\n",
       "          if (!dataTable) return;\n",
       "\n",
       "          const docLinkHtml = 'Like what you see? Visit the ' +\n",
       "            '<a target=\"_blank\" href=https://colab.research.google.com/notebooks/data_table.ipynb>data table notebook</a>'\n",
       "            + ' to learn more about interactive tables.';\n",
       "          element.innerHTML = '';\n",
       "          dataTable['output_type'] = 'display_data';\n",
       "          await google.colab.output.renderOutput(dataTable, element);\n",
       "          const docLink = document.createElement('div');\n",
       "          docLink.innerHTML = docLinkHtml;\n",
       "          element.appendChild(docLink);\n",
       "        }\n",
       "      </script>\n",
       "    </div>\n",
       "  </div>\n",
       "  "
      ],
      "text/plain": [
       "                Feature Id  Importances\n",
       "0                     type    21.628051\n",
       "1   total_qty_oper_login_1    12.150455\n",
       "2                   new_10    10.785224\n",
       "3                  mailctg     6.994994\n",
       "4                    new_3     5.228840\n",
       "5            transport_pay     4.489077\n",
       "6                    new_6     4.235455\n",
       "7                    new_9     4.139543\n",
       "8                   weight     3.368034\n",
       "9    is_wrong_phone_number     3.176786\n",
       "10                   new_8     3.137876\n",
       "11                name_mfi     2.910219\n",
       "12                   new_1     2.598111\n",
       "13               price_mfi     2.596029\n",
       "14  total_qty_oper_login_0     2.514987\n",
       "15   dist_qty_oper_login_1     2.314832\n",
       "16      is_wrong_rcpn_name     1.767210\n",
       "17              weight_mfi     1.564708\n",
       "18    total_qty_over_index     1.502463\n",
       "19              index_oper     1.370365\n",
       "20            is_in_yandex     0.888447\n",
       "21                   class     0.328917\n",
       "22               directctg     0.286432\n",
       "23      is_privatecategory     0.022946"
      ]
     },
     "execution_count": 75,
     "metadata": {},
     "output_type": "execute_result"
    }
   ],
   "source": [
    "model_cb.get_feature_importance(prettified=True)"
   ]
  },
  {
   "cell_type": "code",
   "execution_count": null,
   "metadata": {
    "colab": {
     "base_uri": "https://localhost:8080/"
    },
    "executionInfo": {
     "elapsed": 5173,
     "status": "ok",
     "timestamp": 1668532281746,
     "user": {
      "displayName": "Andrew Lazko",
      "userId": "04969080350981822544"
     },
     "user_tz": -180
    },
    "id": "5vzrRDp-dCgS",
    "outputId": "a588ece5-3f07-4303-ed95-bc90e58150ec"
   },
   "outputs": [
    {
     "name": "stdout",
     "output_type": "stream",
     "text": [
      "Показатели итоговой модели: accuracy=0.78, precision=0.32, recall=0.86, f1=0.4742, my_score=0.855396\n"
     ]
    }
   ],
   "source": [
    "scores = score_dataset(model_cb)\n",
    "#plot_confusion_matrix(model_cb, X=X_valid, y_true=y_valid, normalize=None, cmap='Blues')\n",
    "print(f'Показатели итоговой модели: accuracy={scores[0][0]:0.2}, precision={scores[0][1]:0.2}, \\\n",
    "recall={scores[0][2]:0.2}, f1={scores[0][3]:0.4}, my_score={scores[0][4]:0.6}')"
   ]
  },
  {
   "cell_type": "code",
   "execution_count": null,
   "metadata": {
    "id": "Vc-pwOBodCgS"
   },
   "outputs": [],
   "source": [
    "preds = scores[1]"
   ]
  },
  {
   "cell_type": "code",
   "execution_count": null,
   "metadata": {
    "colab": {
     "base_uri": "https://localhost:8080/"
    },
    "executionInfo": {
     "elapsed": 4,
     "status": "ok",
     "timestamp": 1668532298466,
     "user": {
      "displayName": "Andrew Lazko",
      "userId": "04969080350981822544"
     },
     "user_tz": -180
    },
    "id": "eRrWqABRZhZs",
    "outputId": "d2d3353e-7f3b-48bb-b58e-056e853be16d"
   },
   "outputs": [
    {
     "data": {
      "text/plain": [
       "0.8553957065881943"
      ]
     },
     "execution_count": 78,
     "metadata": {},
     "output_type": "execute_result"
    }
   ],
   "source": [
    "my_score_func(y_valid, preds)"
   ]
  },
  {
   "cell_type": "code",
   "execution_count": null,
   "metadata": {
    "colab": {
     "base_uri": "https://localhost:8080/",
     "height": 421
    },
    "executionInfo": {
     "elapsed": 3761,
     "status": "ok",
     "timestamp": 1668513619983,
     "user": {
      "displayName": "Andrew Lazko",
      "userId": "04969080350981822544"
     },
     "user_tz": -180
    },
    "id": "1fZ9INqGdCgU",
    "outputId": "f1ab5cc4-e739-4a42-e7a2-0f846548d9c9"
   },
   "outputs": [
    {
     "data": {
      "image/png": "[encoded data removed]",
      "text/plain": [
       "<Figure size 432x432 with 1 Axes>"
      ]
     },
     "metadata": {},
     "output_type": "display_data"
    },
    {
     "name": "stdout",
     "output_type": "stream",
     "text": [
      "AUC-score: 0.9270850028490463\n"
     ]
    }
   ],
   "source": [
    "plot_roc_auc(model_cb)"
   ]
  },
  {
   "cell_type": "code",
   "execution_count": null,
   "metadata": {
    "colab": {
     "base_uri": "https://localhost:8080/",
     "height": 1000
    },
    "executionInfo": {
     "elapsed": 41210,
     "status": "ok",
     "timestamp": 1668513683666,
     "user": {
      "displayName": "Andrew Lazko",
      "userId": "04969080350981822544"
     },
     "user_tz": -180
    },
    "id": "v3_dIKPEdCgV",
    "outputId": "e9c9a569-38b7-441c-de4c-5c6912a364a4",
    "scrolled": false
   },
   "outputs": [
    {
     "name": "stdout",
     "output_type": "stream",
     "text": [
      "Threshold = 0.0 |, Recall = 0.5000,     roc_auc_score = 0.5 | my_score = 0.5 \n",
      "Threshold = 0.01 |, Recall = 0.7794,     roc_auc_score = 0.7794 | my_score = 0.779418 \n",
      "Threshold = 0.02 |, Recall = 0.8115,     roc_auc_score = 0.8115 | my_score = 0.811542 \n",
      "Threshold = 0.03 |, Recall = 0.8277,     roc_auc_score = 0.8277 | my_score = 0.827675 \n",
      "Threshold = 0.04 |, Recall = 0.8330,     roc_auc_score = 0.833 | my_score = 0.832953 \n",
      "Threshold = 0.05 |, Recall = 0.8349,     roc_auc_score = 0.8349 | my_score = 0.834916 \n",
      "Threshold = 0.06 |, Recall = 0.8363,     roc_auc_score = 0.8363 | my_score = 0.836328 \n",
      "Threshold = 0.07 |, Recall = 0.8373,     roc_auc_score = 0.8373 | my_score = 0.837256 \n",
      "Threshold = 0.08 |, Recall = 0.8379,     roc_auc_score = 0.8379 | my_score = 0.837944 \n",
      "Threshold = 0.09 |, Recall = 0.8384,     roc_auc_score = 0.8384 | my_score = 0.838412 \n",
      "Threshold = 0.1 |, Recall = 0.8389,     roc_auc_score = 0.8389 | my_score = 0.838896 \n",
      "Threshold = 0.11 |, Recall = 0.8393,     roc_auc_score = 0.8393 | my_score = 0.839277 \n",
      "Threshold = 0.12 |, Recall = 0.8396,     roc_auc_score = 0.8396 | my_score = 0.839624 \n",
      "Threshold = 0.13 |, Recall = 0.8397,     roc_auc_score = 0.8397 | my_score = 0.839741 \n",
      "Threshold = 0.14 |, Recall = 0.8399,     roc_auc_score = 0.8399 | my_score = 0.839894 \n",
      "Threshold = 0.15 |, Recall = 0.8401,     roc_auc_score = 0.8401 | my_score = 0.840098 \n",
      "Threshold = 0.16 |, Recall = 0.8403,     roc_auc_score = 0.8403 | my_score = 0.840319 \n",
      "Threshold = 0.17 |, Recall = 0.8404,     roc_auc_score = 0.8404 | my_score = 0.840445 \n",
      "Threshold = 0.18 |, Recall = 0.8407,     roc_auc_score = 0.8407 | my_score = 0.840668 \n",
      "Threshold = 0.19 |, Recall = 0.8410,     roc_auc_score = 0.841 | my_score = 0.840984 \n",
      "Threshold = 0.2 |, Recall = 0.8413,     roc_auc_score = 0.8413 | my_score = 0.841334 \n",
      "Threshold = 0.21 |, Recall = 0.8417,     roc_auc_score = 0.8417 | my_score = 0.841716 \n",
      "Threshold = 0.22 |, Recall = 0.8420,     roc_auc_score = 0.842 | my_score = 0.842023 \n",
      "Threshold = 0.23 |, Recall = 0.8423,     roc_auc_score = 0.8423 | my_score = 0.842314 \n",
      "Threshold = 0.24 |, Recall = 0.8426,     roc_auc_score = 0.8426 | my_score = 0.842616 \n",
      "Threshold = 0.25 |, Recall = 0.8431,     roc_auc_score = 0.8431 | my_score = 0.843107 \n",
      "Threshold = 0.26 |, Recall = 0.8437,     roc_auc_score = 0.8437 | my_score = 0.84365 \n",
      "Threshold = 0.27 |, Recall = 0.8443,     roc_auc_score = 0.8443 | my_score = 0.844279 \n",
      "Threshold = 0.28 |, Recall = 0.8453,     roc_auc_score = 0.8453 | my_score = 0.845302 \n",
      "Threshold = 0.29 |, Recall = 0.8466,     roc_auc_score = 0.8466 | my_score = 0.846572 \n",
      "Threshold = 0.3 |, Recall = 0.8474,     roc_auc_score = 0.8474 | my_score = 0.847367 \n",
      "Threshold = 0.31 |, Recall = 0.8480,     roc_auc_score = 0.848 | my_score = 0.848011 \n",
      "Threshold = 0.32 |, Recall = 0.8485,     roc_auc_score = 0.8485 | my_score = 0.848465 \n",
      "Threshold = 0.33 |, Recall = 0.8490,     roc_auc_score = 0.849 | my_score = 0.848959 \n",
      "Threshold = 0.34 |, Recall = 0.8494,     roc_auc_score = 0.8494 | my_score = 0.84944 \n",
      "Threshold = 0.35 |, Recall = 0.8500,     roc_auc_score = 0.85 | my_score = 0.850024 \n",
      "Threshold = 0.36 |, Recall = 0.8506,     roc_auc_score = 0.8506 | my_score = 0.850567 \n",
      "Threshold = 0.37 |, Recall = 0.8510,     roc_auc_score = 0.851 | my_score = 0.851039 \n",
      "Threshold = 0.38 |, Recall = 0.8517,     roc_auc_score = 0.8517 | my_score = 0.851669 \n",
      "Threshold = 0.39 |, Recall = 0.8523,     roc_auc_score = 0.8523 | my_score = 0.852263 \n",
      "Threshold = 0.4 |, Recall = 0.8527,     roc_auc_score = 0.8527 | my_score = 0.852687 \n",
      "Threshold = 0.41 |, Recall = 0.8531,     roc_auc_score = 0.8531 | my_score = 0.853083 \n",
      "Threshold = 0.42 |, Recall = 0.8535,     roc_auc_score = 0.8535 | my_score = 0.85348 \n",
      "Threshold = 0.43 |, Recall = 0.8539,     roc_auc_score = 0.8539 | my_score = 0.853938 \n",
      "Threshold = 0.44 |, Recall = 0.8543,     roc_auc_score = 0.8543 | my_score = 0.854272 \n",
      "Threshold = 0.45 |, Recall = 0.8545,     roc_auc_score = 0.8545 | my_score = 0.854549 \n",
      "Threshold = 0.46 |, Recall = 0.8549,     roc_auc_score = 0.8549 | my_score = 0.854929 \n",
      "Threshold = 0.47 |, Recall = 0.8551,     roc_auc_score = 0.8551 | my_score = 0.855132 \n",
      "Threshold = 0.48 |, Recall = 0.8551,     roc_auc_score = 0.8551 | my_score = 0.855093 \n",
      "Threshold = 0.49 |, Recall = 0.8552,     roc_auc_score = 0.8552 | my_score = 0.855183 \n",
      "Threshold = 0.5 |, Recall = 0.8554,     roc_auc_score = 0.8554 | my_score = 0.8554 \n",
      "Threshold = 0.51 |, Recall = 0.8554,     roc_auc_score = 0.8554 | my_score = 0.855383 \n",
      "Threshold = 0.52 |, Recall = 0.8552,     roc_auc_score = 0.8552 | my_score = 0.855233 \n",
      "Threshold = 0.53 |, Recall = 0.8548,     roc_auc_score = 0.8548 | my_score = 0.854784 \n",
      "Threshold = 0.54 |, Recall = 0.8546,     roc_auc_score = 0.8546 | my_score = 0.854602 \n",
      "Threshold = 0.55 |, Recall = 0.8539,     roc_auc_score = 0.8539 | my_score = 0.853912 \n",
      "Threshold = 0.56 |, Recall = 0.8537,     roc_auc_score = 0.8537 | my_score = 0.853673 \n",
      "Threshold = 0.57 |, Recall = 0.8530,     roc_auc_score = 0.853 | my_score = 0.852958 \n",
      "Threshold = 0.58 |, Recall = 0.8518,     roc_auc_score = 0.8518 | my_score = 0.851824 \n",
      "Threshold = 0.59 |, Recall = 0.8507,     roc_auc_score = 0.8507 | my_score = 0.85073 \n",
      "Threshold = 0.6 |, Recall = 0.8493,     roc_auc_score = 0.8493 | my_score = 0.84929 \n",
      "Threshold = 0.61 |, Recall = 0.8475,     roc_auc_score = 0.8475 | my_score = 0.847513 \n",
      "Threshold = 0.62 |, Recall = 0.8451,     roc_auc_score = 0.8451 | my_score = 0.845132 \n",
      "Threshold = 0.63 |, Recall = 0.8428,     roc_auc_score = 0.8428 | my_score = 0.84279 \n",
      "Threshold = 0.64 |, Recall = 0.8394,     roc_auc_score = 0.8394 | my_score = 0.839363 \n",
      "Threshold = 0.65 |, Recall = 0.8352,     roc_auc_score = 0.8352 | my_score = 0.835191 \n",
      "Threshold = 0.66 |, Recall = 0.8298,     roc_auc_score = 0.8298 | my_score = 0.829834 \n",
      "Threshold = 0.67 |, Recall = 0.8251,     roc_auc_score = 0.8251 | my_score = 0.825051 \n",
      "Threshold = 0.68 |, Recall = 0.8210,     roc_auc_score = 0.821 | my_score = 0.82105 \n",
      "Threshold = 0.69 |, Recall = 0.8174,     roc_auc_score = 0.8174 | my_score = 0.817353 \n",
      "Threshold = 0.7 |, Recall = 0.8127,     roc_auc_score = 0.8127 | my_score = 0.81275 \n",
      "Threshold = 0.71 |, Recall = 0.8079,     roc_auc_score = 0.8079 | my_score = 0.807921 \n",
      "Threshold = 0.72 |, Recall = 0.8027,     roc_auc_score = 0.8027 | my_score = 0.802703 \n",
      "Threshold = 0.73 |, Recall = 0.7975,     roc_auc_score = 0.7975 | my_score = 0.797544 \n",
      "Threshold = 0.74 |, Recall = 0.7922,     roc_auc_score = 0.7922 | my_score = 0.792167 \n",
      "Threshold = 0.75 |, Recall = 0.7864,     roc_auc_score = 0.7864 | my_score = 0.786398 \n",
      "Threshold = 0.76 |, Recall = 0.7797,     roc_auc_score = 0.7797 | my_score = 0.779728 \n",
      "Threshold = 0.77 |, Recall = 0.7726,     roc_auc_score = 0.7726 | my_score = 0.772647 \n",
      "Threshold = 0.78 |, Recall = 0.7653,     roc_auc_score = 0.7653 | my_score = 0.76532 \n",
      "Threshold = 0.79 |, Recall = 0.7578,     roc_auc_score = 0.7578 | my_score = 0.757752 \n",
      "Threshold = 0.8 |, Recall = 0.7501,     roc_auc_score = 0.7501 | my_score = 0.750103 \n",
      "Threshold = 0.81 |, Recall = 0.7421,     roc_auc_score = 0.7421 | my_score = 0.742067 \n",
      "Threshold = 0.82 |, Recall = 0.7336,     roc_auc_score = 0.7336 | my_score = 0.733629 \n",
      "Threshold = 0.83 |, Recall = 0.7250,     roc_auc_score = 0.725 | my_score = 0.724978 \n",
      "Threshold = 0.84 |, Recall = 0.7161,     roc_auc_score = 0.7161 | my_score = 0.716078 \n",
      "Threshold = 0.85 |, Recall = 0.7086,     roc_auc_score = 0.7086 | my_score = 0.708592 \n",
      "Threshold = 0.86 |, Recall = 0.7016,     roc_auc_score = 0.7016 | my_score = 0.701604 \n",
      "Threshold = 0.87 |, Recall = 0.6953,     roc_auc_score = 0.6953 | my_score = 0.695287 \n",
      "Threshold = 0.88 |, Recall = 0.6900,     roc_auc_score = 0.69 | my_score = 0.689991 \n",
      "Threshold = 0.89 |, Recall = 0.6843,     roc_auc_score = 0.6843 | my_score = 0.684276 \n",
      "Threshold = 0.9 |, Recall = 0.6779,     roc_auc_score = 0.6779 | my_score = 0.677898 \n",
      "Threshold = 0.91 |, Recall = 0.6715,     roc_auc_score = 0.6715 | my_score = 0.671465 \n",
      "Threshold = 0.92 |, Recall = 0.6610,     roc_auc_score = 0.661 | my_score = 0.660968 \n",
      "Threshold = 0.93 |, Recall = 0.6446,     roc_auc_score = 0.6446 | my_score = 0.644576 \n",
      "Threshold = 0.94 |, Recall = 0.6006,     roc_auc_score = 0.6006 | my_score = 0.600573 \n",
      "Threshold = 0.95 |, Recall = 0.5344,     roc_auc_score = 0.5344 | my_score = 0.534385 \n",
      "Threshold = 0.96 |, Recall = 0.5134,     roc_auc_score = 0.5134 | my_score = 0.513375 \n",
      "Threshold = 0.97 |, Recall = 0.5076,     roc_auc_score = 0.5076 | my_score = 0.507577 \n",
      "Threshold = 0.98 |, Recall = 0.5011,     roc_auc_score = 0.5011 | my_score = 0.501093 \n",
      "Threshold = 0.99 |, Recall = 0.5000,     roc_auc_score = 0.5 | my_score = 0.500041 \n"
     ]
    },
    {
     "data": {
      "image/png": "[encoded data removed]",
      "text/plain": [
       "<Figure size 432x432 with 1 Axes>"
      ]
     },
     "metadata": {},
     "output_type": "display_data"
    }
   ],
   "source": [
    "probabilities_valid = model_cb.predict_proba(valid_pool)\n",
    "probabilities_one_valid = probabilities_valid[:, 1]\n",
    "\n",
    "roc_auc_score(y_valid, probabilities_one_valid)\n",
    "\n",
    "\n",
    "for threshold in np.arange(0, 1, 0.01):\n",
    "    predicted_valid = probabilities_one_valid >= threshold\n",
    "    # precision = precision_score(y_valid, predicted_valid)\n",
    "    recall = recall_score(y_valid, predicted_valid, average = \"macro\")\n",
    "    # f1 = f1_score(y_valid, predicted_valid)\n",
    "    ras = roc_auc_score(y_valid, predicted_valid, multi_class='ovo')\n",
    "    my_score = my_score_func(y_valid, predicted_valid)\n",
    "    print(f\"Threshold = {threshold:.4} |, Recall = {recall:.4f}, \\\n",
    "    roc_auc_score = {ras:.4} | my_score = {my_score:.6} \")\n",
    "    \n",
    "precision, recall, thresholds = precision_recall_curve(y_valid, probabilities_valid[:, 1])    \n",
    "plt.figure(figsize=(6, 6))\n",
    "plt.step(recall, precision, where='post')\n",
    "plt.xlabel('Recall')\n",
    "plt.ylabel('Precision')\n",
    "plt.ylim([0.0, 1.05])\n",
    "plt.xlim([0.0, 1.0])\n",
    "plt.title('PR curve')\n",
    "plt.show() "
   ]
  },
  {
   "cell_type": "code",
   "execution_count": null,
   "metadata": {
    "id": "B7ThM2glKqTc"
   },
   "outputs": [],
   "source": [
    "X_test = X_test[X_main.columns]"
   ]
  },
  {
   "cell_type": "code",
   "execution_count": null,
   "metadata": {
    "colab": {
     "base_uri": "https://localhost:8080/"
    },
    "executionInfo": {
     "elapsed": 4,
     "status": "ok",
     "timestamp": 1668532317144,
     "user": {
      "displayName": "Andrew Lazko",
      "userId": "04969080350981822544"
     },
     "user_tz": -180
    },
    "id": "Yf97wKSUK4Iu",
    "outputId": "24a31e65-db05-4d8c-c7cf-6c97f3c87387"
   },
   "outputs": [
    {
     "name": "stdout",
     "output_type": "stream",
     "text": [
      "<class 'pandas.core.frame.DataFrame'>\n",
      "Int64Index: 4000000 entries, 7815282 to 7776936\n",
      "Data columns (total 24 columns):\n",
      " #   Column                  Dtype   \n",
      "---  ------                  -----   \n",
      " 0   index_oper              category\n",
      " 1   type                    category\n",
      " 2   is_privatecategory      category\n",
      " 3   class                   category\n",
      " 4   is_in_yandex            category\n",
      " 5   weight                  int32   \n",
      " 6   mailctg                 category\n",
      " 7   directctg               category\n",
      " 8   transport_pay           float64 \n",
      " 9   weight_mfi              int16   \n",
      " 10  price_mfi               int32   \n",
      " 11  dist_qty_oper_login_1   int16   \n",
      " 12  total_qty_oper_login_1  int32   \n",
      " 13  total_qty_oper_login_0  int32   \n",
      " 14  total_qty_over_index    int32   \n",
      " 15  is_wrong_rcpn_name      category\n",
      " 16  is_wrong_phone_number   category\n",
      " 17  new_1                   float64 \n",
      " 18  new_3                   float64 \n",
      " 19  new_6                   float64 \n",
      " 20  new_8                   float64 \n",
      " 21  new_9                   float64 \n",
      " 22  new_10                  float64 \n",
      " 23  name_mfi                object  \n",
      "dtypes: category(9), float64(7), int16(2), int32(5), object(1)\n",
      "memory usage: 405.0+ MB\n"
     ]
    }
   ],
   "source": [
    "X_test.info()"
   ]
  },
  {
   "cell_type": "code",
   "execution_count": null,
   "metadata": {
    "id": "9VZ_Nw4wK7cG"
   },
   "outputs": [],
   "source": [
    "model = CatBoostClassifier(loss_function=\"Logloss\",  verbose=False,\n",
    "                           task_type='GPU', gpu_ram_part=0.96, cat_features=cat_cols, text_features=text_cols,\n",
    "                           one_hot_max_size=10, **b_p)"
   ]
  },
  {
   "cell_type": "code",
   "execution_count": null,
   "metadata": {
    "colab": {
     "base_uri": "https://localhost:8080/"
    },
    "executionInfo": {
     "elapsed": 13,
     "status": "ok",
     "timestamp": 1668513976297,
     "user": {
      "displayName": "Andrew Lazko",
      "userId": "04969080350981822544"
     },
     "user_tz": -180
    },
    "id": "9bZXiA1NLqDY",
    "outputId": "80716109-1cc1-490b-84bd-c162c1b56aac"
   },
   "outputs": [
    {
     "data": {
      "text/plain": [
       "{'learning_rate': 0.054451421542168844,\n",
       " 'l2_leaf_reg': 6.024909514859491,\n",
       " 'loss_function': 'Logloss',\n",
       " 'verbose': False,\n",
       " 'auto_class_weights': 'Balanced',\n",
       " 'one_hot_max_size': 10,\n",
       " 'gpu_ram_part': 0.96,\n",
       " 'task_type': 'GPU',\n",
       " 'bootstrap_type': 'Bernoulli',\n",
       " 'subsample': 0.9893630083427628,\n",
       " 'max_depth': 10,\n",
       " 'n_estimators': 1628,\n",
       " 'random_state': 11,\n",
       " 'objective': 'Logloss',\n",
       " 'cat_features': ['index_oper',\n",
       "  'type',\n",
       "  'is_privatecategory',\n",
       "  'class',\n",
       "  'is_in_yandex',\n",
       "  'mailctg',\n",
       "  'directctg',\n",
       "  'is_wrong_rcpn_name',\n",
       "  'is_wrong_phone_number'],\n",
       " 'min_data_in_leaf': 38,\n",
       " 'text_features': ['name_mfi']}"
      ]
     },
     "execution_count": 92,
     "metadata": {},
     "output_type": "execute_result"
    }
   ],
   "source": [
    "model.get_params()"
   ]
  },
  {
   "cell_type": "code",
   "execution_count": null,
   "metadata": {
    "colab": {
     "base_uri": "https://localhost:8080/"
    },
    "executionInfo": {
     "elapsed": 304035,
     "status": "ok",
     "timestamp": 1668514373043,
     "user": {
      "displayName": "Andrew Lazko",
      "userId": "04969080350981822544"
     },
     "user_tz": -180
    },
    "id": "zohER-w-Lxid",
    "outputId": "0195979b-b052-435b-ecab-5570b0f0f99a"
   },
   "outputs": [
    {
     "data": {
      "text/plain": [
       "<catboost.core.CatBoostClassifier at 0x7fbb118a1d10>"
      ]
     },
     "execution_count": 93,
     "metadata": {},
     "output_type": "execute_result"
    }
   ],
   "source": [
    "model.fit(X_main, y)"
   ]
  },
  {
   "cell_type": "code",
   "execution_count": null,
   "metadata": {
    "colab": {
     "base_uri": "https://localhost:8080/"
    },
    "executionInfo": {
     "elapsed": 61,
     "status": "ok",
     "timestamp": 1668514373045,
     "user": {
      "displayName": "Andrew Lazko",
      "userId": "04969080350981822544"
     },
     "user_tz": -180
    },
    "id": "NPDS9Ps-M5HM",
    "outputId": "8010ee02-87de-4558-cb33-598537c31d37"
   },
   "outputs": [
    {
     "data": {
      "text/plain": [
       "index_oper                0\n",
       "type                      0\n",
       "is_privatecategory        0\n",
       "class                     0\n",
       "is_in_yandex              0\n",
       "weight                    0\n",
       "mailctg                   0\n",
       "directctg                 0\n",
       "transport_pay             0\n",
       "weight_mfi                0\n",
       "price_mfi                 0\n",
       "dist_qty_oper_login_1     0\n",
       "total_qty_oper_login_1    0\n",
       "total_qty_oper_login_0    0\n",
       "total_qty_over_index      0\n",
       "is_wrong_rcpn_name        0\n",
       "is_wrong_phone_number     0\n",
       "new_1                     0\n",
       "new_3                     0\n",
       "new_6                     0\n",
       "new_8                     0\n",
       "new_9                     0\n",
       "new_10                    0\n",
       "name_mfi                  0\n",
       "dtype: int64"
      ]
     },
     "execution_count": 94,
     "metadata": {},
     "output_type": "execute_result"
    }
   ],
   "source": [
    "X_test.isna().sum()"
   ]
  },
  {
   "cell_type": "code",
   "execution_count": null,
   "metadata": {
    "id": "yCJCw0AyM5HN"
   },
   "outputs": [],
   "source": [
    "y_test = model.predict(X_test)"
   ]
  },
  {
   "cell_type": "code",
   "execution_count": null,
   "metadata": {
    "colab": {
     "base_uri": "https://localhost:8080/"
    },
    "executionInfo": {
     "elapsed": 36,
     "status": "ok",
     "timestamp": 1668514441763,
     "user": {
      "displayName": "Andrew Lazko",
      "userId": "04969080350981822544"
     },
     "user_tz": -180
    },
    "id": "q1CiXSNSM5HO",
    "outputId": "5c640854-f0eb-4d88-dac6-f9ed114def15"
   },
   "outputs": [
    {
     "data": {
      "text/plain": [
       "0.2079615"
      ]
     },
     "execution_count": 96,
     "metadata": {},
     "output_type": "execute_result"
    }
   ],
   "source": [
    "y_test.mean()"
   ]
  },
  {
   "cell_type": "code",
   "execution_count": null,
   "metadata": {
    "colab": {
     "base_uri": "https://localhost:8080/",
     "height": 206
    },
    "executionInfo": {
     "elapsed": 5936,
     "status": "ok",
     "timestamp": 1668514462926,
     "user": {
      "displayName": "Andrew Lazko",
      "userId": "04969080350981822544"
     },
     "user_tz": -180
    },
    "id": "y8oD9rWnM5HO",
    "outputId": "fe5f70d4-1945-439d-8c49-2bab0bc89d16"
   },
   "outputs": [
    {
     "data": {
      "text/html": [
       "\n",
       "  <div id=\"df-3dafdf50-a7d6-41c5-b2e6-8a49389b1bdc\">\n",
       "    <div class=\"colab-df-container\">\n",
       "      <div>\n",
       "<style scoped>\n",
       "    .dataframe tbody tr th:only-of-type {\n",
       "        vertical-align: middle;\n",
       "    }\n",
       "\n",
       "    .dataframe tbody tr th {\n",
       "        vertical-align: top;\n",
       "    }\n",
       "\n",
       "    .dataframe thead th {\n",
       "        text-align: right;\n",
       "    }\n",
       "</style>\n",
       "<table border=\"1\" class=\"dataframe\">\n",
       "  <thead>\n",
       "    <tr style=\"text-align: right;\">\n",
       "      <th></th>\n",
       "      <th>id</th>\n",
       "      <th>label</th>\n",
       "    </tr>\n",
       "  </thead>\n",
       "  <tbody>\n",
       "    <tr>\n",
       "      <th>0</th>\n",
       "      <td>7815282</td>\n",
       "      <td>1</td>\n",
       "    </tr>\n",
       "    <tr>\n",
       "      <th>1</th>\n",
       "      <td>8443555</td>\n",
       "      <td>1</td>\n",
       "    </tr>\n",
       "    <tr>\n",
       "      <th>2</th>\n",
       "      <td>6352559</td>\n",
       "      <td>1</td>\n",
       "    </tr>\n",
       "    <tr>\n",
       "      <th>3</th>\n",
       "      <td>4921420</td>\n",
       "      <td>0</td>\n",
       "    </tr>\n",
       "    <tr>\n",
       "      <th>4</th>\n",
       "      <td>1420440</td>\n",
       "      <td>0</td>\n",
       "    </tr>\n",
       "  </tbody>\n",
       "</table>\n",
       "</div>\n",
       "      <button class=\"colab-df-convert\" onclick=\"convertToInteractive('df-3dafdf50-a7d6-41c5-b2e6-8a49389b1bdc')\"\n",
       "              title=\"Convert this dataframe to an interactive table.\"\n",
       "              style=\"display:none;\">\n",
       "        \n",
       "  <svg xmlns=\"http://www.w3.org/2000/svg\" height=\"24px\"viewBox=\"0 0 24 24\"\n",
       "       width=\"24px\">\n",
       "    <path d=\"M0 0h24v24H0V0z\" fill=\"none\"/>\n",
       "    <path d=\"M18.56 5.44l.94 2.06.94-2.06 2.06-.94-2.06-.94-.94-2.06-.94 2.06-2.06.94zm-11 1L8.5 8.5l.94-2.06 2.06-.94-2.06-.94L8.5 2.5l-.94 2.06-2.06.94zm10 10l.94 2.06.94-2.06 2.06-.94-2.06-.94-.94-2.06-.94 2.06-2.06.94z\"/><path d=\"M17.41 7.96l-1.37-1.37c-.4-.4-.92-.59-1.43-.59-.52 0-1.04.2-1.43.59L10.3 9.45l-7.72 7.72c-.78.78-.78 2.05 0 2.83L4 21.41c.39.39.9.59 1.41.59.51 0 1.02-.2 1.41-.59l7.78-7.78 2.81-2.81c.8-.78.8-2.07 0-2.86zM5.41 20L4 18.59l7.72-7.72 1.47 1.35L5.41 20z\"/>\n",
       "  </svg>\n",
       "      </button>\n",
       "      \n",
       "  <style>\n",
       "    .colab-df-container {\n",
       "      display:flex;\n",
       "      flex-wrap:wrap;\n",
       "      gap: 12px;\n",
       "    }\n",
       "\n",
       "    .colab-df-convert {\n",
       "      background-color: #E8F0FE;\n",
       "      border: none;\n",
       "      border-radius: 50%;\n",
       "      cursor: pointer;\n",
       "      display: none;\n",
       "      fill: #1967D2;\n",
       "      height: 32px;\n",
       "      padding: 0 0 0 0;\n",
       "      width: 32px;\n",
       "    }\n",
       "\n",
       "    .colab-df-convert:hover {\n",
       "      background-color: #E2EBFA;\n",
       "      box-shadow: 0px 1px 2px rgba(60, 64, 67, 0.3), 0px 1px 3px 1px rgba(60, 64, 67, 0.15);\n",
       "      fill: #174EA6;\n",
       "    }\n",
       "\n",
       "    [theme=dark] .colab-df-convert {\n",
       "      background-color: #3B4455;\n",
       "      fill: #D2E3FC;\n",
       "    }\n",
       "\n",
       "    [theme=dark] .colab-df-convert:hover {\n",
       "      background-color: #434B5C;\n",
       "      box-shadow: 0px 1px 3px 1px rgba(0, 0, 0, 0.15);\n",
       "      filter: drop-shadow(0px 1px 2px rgba(0, 0, 0, 0.3));\n",
       "      fill: #FFFFFF;\n",
       "    }\n",
       "  </style>\n",
       "\n",
       "      <script>\n",
       "        const buttonEl =\n",
       "          document.querySelector('#df-3dafdf50-a7d6-41c5-b2e6-8a49389b1bdc button.colab-df-convert');\n",
       "        buttonEl.style.display =\n",
       "          google.colab.kernel.accessAllowed ? 'block' : 'none';\n",
       "\n",
       "        async function convertToInteractive(key) {\n",
       "          const element = document.querySelector('#df-3dafdf50-a7d6-41c5-b2e6-8a49389b1bdc');\n",
       "          const dataTable =\n",
       "            await google.colab.kernel.invokeFunction('convertToInteractive',\n",
       "                                                     [key], {});\n",
       "          if (!dataTable) return;\n",
       "\n",
       "          const docLinkHtml = 'Like what you see? Visit the ' +\n",
       "            '<a target=\"_blank\" href=https://colab.research.google.com/notebooks/data_table.ipynb>data table notebook</a>'\n",
       "            + ' to learn more about interactive tables.';\n",
       "          element.innerHTML = '';\n",
       "          dataTable['output_type'] = 'display_data';\n",
       "          await google.colab.output.renderOutput(dataTable, element);\n",
       "          const docLink = document.createElement('div');\n",
       "          docLink.innerHTML = docLinkHtml;\n",
       "          element.appendChild(docLink);\n",
       "        }\n",
       "      </script>\n",
       "    </div>\n",
       "  </div>\n",
       "  "
      ],
      "text/plain": [
       "        id  label\n",
       "0  7815282      1\n",
       "1  8443555      1\n",
       "2  6352559      1\n",
       "3  4921420      0\n",
       "4  1420440      0"
      ]
     },
     "metadata": {},
     "output_type": "display_data"
    }
   ],
   "source": [
    "solution = pd.DataFrame(y_test, index=X_test.index, columns=['label']).reset_index()\n",
    "\n",
    "display(solution.head())\n",
    "\n",
    "\n",
    "solution.to_csv(\"/content/drive/MyDrive/quests/post/1511_india_final.csv\",sep=\",\", index=False, line_terminator='\\n')"
   ]
  }
 ],
 "metadata": {
  "accelerator": "GPU",
  "colab": {
   "collapsed_sections": [
    "DVbGZup0SRqD"
   ],
   "provenance": [
    {
     "file_id": "1AP-c506AMjSzA_rU1JIbGJXhUL3i2OBW",
     "timestamp": 1668793948429
    },
    {
     "file_id": "10JjASSvD3fDinkXJNVqrTOLw_lf6HHJ4",
     "timestamp": 1668360855162
    },
    {
     "file_id": "1C6FeQ2RtLSw8lhTYHm-YvnD-0tI_Z3o5",
     "timestamp": 1668247999166
    },
    {
     "file_id": "1gHuES-8Fy0H8_SYGhBskTaQ7JLzIuTGI",
     "timestamp": 1667485989633
    }
   ]
  },
  "gpuClass": "standard",
  "kernelspec": {
   "display_name": "Python 3 (ipykernel)",
   "language": "python",
   "name": "python3"
  },
  "language_info": {
   "codemirror_mode": {
    "name": "ipython",
    "version": 3
   },
   "file_extension": ".py",
   "mimetype": "text/x-python",
   "name": "python",
   "nbconvert_exporter": "python",
   "pygments_lexer": "ipython3",
   "version": "3.8.13"
  },
  "toc": {
   "base_numbering": 1,
   "nav_menu": {},
   "number_sections": true,
   "sideBar": true,
   "skip_h1_title": false,
   "title_cell": "Table of Contents",
   "title_sidebar": "Contents",
   "toc_cell": true,
   "toc_position": {},
   "toc_section_display": true,
   "toc_window_display": true
  },
  "varInspector": {
   "cols": {
    "lenName": 16,
    "lenType": 16,
    "lenVar": 40
   },
   "kernels_config": {
    "python": {
     "delete_cmd_postfix": "",
     "delete_cmd_prefix": "del ",
     "library": "var_list.py",
     "varRefreshCmd": "print(var_dic_list())"
    },
    "r": {
     "delete_cmd_postfix": ") ",
     "delete_cmd_prefix": "rm(",
     "library": "var_list.r",
     "varRefreshCmd": "cat(var_dic_list()) "
    }
   },
   "types_to_exclude": [
    "module",
    "function",
    "builtin_function_or_method",
    "instance",
    "_Feature"
   ],
   "window_display": false
  }
 },
 "nbformat": 4,
 "nbformat_minor": 1
}
